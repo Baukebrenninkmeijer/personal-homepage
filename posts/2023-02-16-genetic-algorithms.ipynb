{
 "cells": [
  {
   "attachments": {},
   "cell_type": "markdown",
   "metadata": {},
   "source": [
    "---\n",
    "author: Bauke Brenninkmeijer\n",
    "badges: true\n",
    "branch: master\n",
    "categories:\n",
    "- Genetic Algorithms\n",
    "- Machine learning\n",
    "date: '2023-02-16'\n",
    "image: images/genetic-algorithms/banner.png\n",
    "title: Genetic Algorithms for image reconstruction 🧬\n",
    "description: How we can leverage genetic algorithms to help with image reconstruction.\n",
    "toc: true\n",
    "format:\n",
    "  html:\n",
    "    code-fold: false\n",
    "draft: true\n",
    "---\n",
    "\n",
    "## Introduction \n",
    "\n",
    "![Training iterations of a very simple gradeint](images/genetic-algorithms/mario_final_state.gif)\n",
    "\n",
    "Genetic algorithms are a beautiful subset in the machine learning domain, that use evolutionairy techniques to arrive to solutions that other algorithms have trouble at. These techniques include the combining of solutions, often called crossover, and the slightly altering of solutions, called mutations.\n",
    "\n",
    "In this post, I'll show two versions genetic algorithms that can be used for image reconstruction given a target image. In the real world, it will have few applications but it's a great theoretical exercise and practice for understanding of the algorithms and image manipulation. However, they are unmistakingly usefull and have been applied in many domains, one being Neural Architecture Search, a method to find the best architecture for a neural network given a specific problem. \n",
    "\n",
    "While other optimization methods, such a gradient descent are incredibly powerful for problems that provide a smooth non-stochastic optimization curve. However, for problems that might have many different good solutions that are not easily findable following a single trajectory in parameter space, genetic algorithms can provide unexpected solutions. \n",
    "\n",
    "As in nature, genetic algorithms are based on natural selection and survival of the fittest. That means that each iteration we look at the best candidates for the problem at hand and continue with them, leaving worse solutions for that they are. Each individual represents a solutions, and by slightly altering and combining solutions we hope to come to a better solution each iteration. As you can understand, this is a very generic approach that can be applied to all types of problems. \n",
    "\n",
    "### The algorithm\n",
    "\n",
    "Generally, the algorithms for genetic algorithms follows roughly the same outline and is as follows:\n",
    "\n",
    "```\n",
    "pop = create initial popluation with x individuals\n",
    "\n",
    "for i in n_iterations:\n",
    "    1. randomly combine/reproduce individuals\n",
    "    2. randomly mutate individuals\n",
    "    3. retain fittest individuals\n",
    "```\n",
    "\n",
    "\n",
    "## Mutations\n",
    "Let's start with the most simple version of changes made to candidates: mutations. In any organism with DNA (or some form of it), we see mutations; slight changes in the genetic code of individuals when they procreate. For human cells, this can be a mutation that makes the cell misbehave, which is generally cleaned up by our immune system, but can also lead to serious consequences such as cancer. We also know mutations from sci-fi and monster stories, but that's unfortunately not something we are talking about in this case. \n"
   ]
  },
  {
   "attachments": {},
   "cell_type": "markdown",
   "metadata": {},
   "source": [
    "::: {#fig-elephants layout-ncol=2}\n",
    "\n",
    "![Surus](images/genetic-algorithms/banner.png){#fig-surus}\n",
    "\n",
    "![Hanno](images/genetic-algorithms/polygon_mutation.gif){#fig-hanno}\n",
    "\n",
    "Famous Elephants\n",
    ":::"
   ]
  },
  {
   "cell_type": "markdown",
   "metadata": {},
   "source": []
  }
 ],
 "metadata": {
  "kernelspec": {
   "display_name": "obb",
   "language": "python",
   "name": "python3"
  },
  "language_info": {
   "codemirror_mode": {
    "name": "ipython",
    "version": 3
   },
   "file_extension": ".py",
   "mimetype": "text/x-python",
   "name": "python",
   "nbconvert_exporter": "python",
   "pygments_lexer": "ipython3",
   "version": "3.9.6"
  },
  "orig_nbformat": 4,
  "vscode": {
   "interpreter": {
    "hash": "f124a1bbf2f90987eb9472189f4cc977d2604bab12f0290257664eac1b03263a"
   }
  }
 },
 "nbformat": 4,
 "nbformat_minor": 2
}
