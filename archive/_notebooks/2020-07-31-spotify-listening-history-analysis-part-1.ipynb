{
 "cells": [
  {
   "cell_type": "markdown",
   "metadata": {},
   "source": [
    "# Analyzing my Spotify listening history 🎵 - Part 1\n",
    "> Soul searching through my choices in music. Using my spotify listening data, we perform a dive into my listening behaviour and how it changed over time. We also make a start at analyzing the evolution of genres. \n",
    "\n",
    "- toc: true\n",
    "- branch: master\n",
    "- badges: true\n",
    "- comments: true\n",
    "- image: images/banner.png\n",
    "- author: Bauke Brenninkmeijer\n",
    "- categories: [Analysis, Music, BI]"
   ]
  },
  {
   "cell_type": "markdown",
   "metadata": {},
   "source": [
    "> Important: I added a Day of Week vs Hour of day plot to visualize weekly behaviour!\n",
    "\n",
    "> Important: [Link to Part 2](https://www.baukebrenninkmeijer.nl/posts/spotify-listening-history-analysis-part-2.html)\n",
    "\n",
    "I like to have everything in my life tracked in some way. Preferably, knowingly (Looking at you, Facebook), cause it allows you to analyze the data and find interesting things (Might be related with becoming a data scientist)! I've always been a fan of the features provided by [Last.fm](https://www.last.fm) to track you listening behaviour across apps and platforms. It allows you to see stuff like your favorite artists per month, or your affinity with certain genres over time like in the image below.\n",
    "\n",
    "![Your top genres, plotted per week.](images/spotify_analysis/genre-timeline-lastfm.png \"Your top genres, plotted per week. Source: Last.fm\")\n",
    "\n",
    "_Buuuuuut_, like Last.fm, most of these analyses are paid completely or partly. In the case of Last.fm, you get this plot for free but anything more will cost you some paper. I'm Dutch, so let's see if we can do it ourselves!\n",
    "\n",
    "I wanted to have my listening history, and currently there is an [API call](https://developer.spotify.com/documentation/web-api/reference/player/get-recently-played/) that provides that functionality. However, I wanted to do this at the start of 2019 (Last year was pretty busy, so I didn't get around to doing this until now 😅) and this wasn't available back then, or at least I couldn't find it. Spotify, like many other companies, has an option to download your personal information. Unfortunately, this data only contained data for three months (they upped it to a year now, which is great!). \n",
    "\n",
    "But, given this limitation, **the only way I could think of to get this was to ask Spotify for my personal data**. Under the GDPR, they are required to provide this information, so I thought this had a good shot. Well, after e-mailing back and forth a whole bunch of times, eventually I got in touch with the Data Privacy Office and they provided me with my complete listening history! \n",
    "\n",
    "So that's the data that we'll be working with. Like I said, I requested the data in early 2019, so my history goes from my beginning of Spotify (ca. 2013) until then. So lets see what we're dealing with. "
   ]
  },
  {
   "cell_type": "code",
   "execution_count": 1,
   "metadata": {},
   "outputs": [
    {
     "name": "stderr",
     "output_type": "stream",
     "text": [
      "C:\\Users\\BaukeBrenninkmeijer\\Anaconda3\\lib\\site-packages\\statsmodels\\tools\\_testing.py:19: FutureWarning: pandas.util.testing is deprecated. Use the functions in the public API at pandas.testing instead.\n",
      "  import pandas.util.testing as tm\n"
     ]
    }
   ],
   "source": [
    "#hide\n",
    "import pandas as pd\n",
    "import spotipy\n",
    "from spotipy.oauth2 import SpotifyClientCredentials\n",
    "from tqdm import tqdm_notebook\n",
    "import os\n",
    "import numpy as np\n",
    "import seaborn as sns\n",
    "import matplotlib.pyplot as plt\n",
    "import json_lines\n",
    "from itertools import product\n",
    "import altair as alt\n",
    "from tqdm.auto import tqdm\n",
    "%matplotlib inline"
   ]
  },
  {
   "cell_type": "markdown",
   "metadata": {},
   "source": [
    "## The Data ✨"
   ]
  },
  {
   "cell_type": "markdown",
   "metadata": {},
   "source": [
    "I received one main file from spotify called `EndSong.json` which had json items as follows. In total, I got 39,229 songs played, which is quite a lot and definitely enough to do some interesting things with!\n",
    "\n",
    "```json\n",
    "{\n",
    "    \"ts\":\"2013-10-09 20:03:57 UTC\",\n",
    "    \"username\":\"xxxxxxxxxx\",\n",
    "    \"platform\":\"xxxxxxx\",\n",
    "    \"ms_played\":\"5969\",\n",
    "    \"conn_country\":\"NL\",\n",
    "    \"ip_addr_decrypted\":\"xx.xx.xx.xx\",\n",
    "    \"user_agent_decrypted\": \"xxxxxxxxxxx\",\n",
    "    \"master_metadata_track_name\":\"You Make Me\",\n",
    "    \"master_metadata_album_artist_name\":\"Avicii\",\n",
    "    \"master_metadata_album_album_name\":\"You Make Me\",\n",
    "    \"reason_start\":\"click-row\",\n",
    "    \"reason_end\":\"click-row\",\n",
    "    \"shuffle\":false,\n",
    "    \"skipped\":false,\n",
    "    \"offline\":false,\n",
    "    \"offline_timestamp\":\"0\",\n",
    "    \"incognito_mode\":false,\n",
    "    \"metro_code\":\"0\",\n",
    "    \"longitude\":0,\n",
    "    \"latitude\":0\n",
    "}\n",
    "```"
   ]
  },
  {
   "cell_type": "markdown",
   "metadata": {},
   "source": [
    "For our analysis, we're gonna use the ol' trusty [Pandas](https://pandas.pydata.org/). The data is in the json-lines format, so we use the python [json-lines](https://pypi.org/project/json-lines/) package to read our data. We'll also drop some useless columns and convert the timestamp column to a python datetime object. Furthermore, we use the UTF-8 encoding while reading our data, to support tokens that would otherwise be malformed like the ë character. Lastly, we also create separate columns for many of our time attributes like year, month and day, since this makes it easy for filtering during plotting. \n",
    "\n",
    "> Tip: The json-lines format puts a json object on each separate line, and allows for very dense information packaging in json files. Before I knew this, I was reading the data as a string, converting true->True and false->False, to match python syntax and then using the ast package to interpret the string as a python object. That also worked ok, but this is much better. 😊"
   ]
  },
  {
   "cell_type": "code",
   "execution_count": 2,
   "metadata": {},
   "outputs": [],
   "source": [
    "lines = []\n",
    "for i in json_lines.reader(open('data/EndSong.json', encoding='utf-8')):\n",
    "    lines.append(i)\n",
    "df = pd.DataFrame(lines)"
   ]
  },
  {
   "cell_type": "code",
   "execution_count": 3,
   "metadata": {},
   "outputs": [
    {
     "data": {
      "text/html": [
       "<div>\n",
       "<style scoped>\n",
       "    .dataframe tbody tr th:only-of-type {\n",
       "        vertical-align: middle;\n",
       "    }\n",
       "\n",
       "    .dataframe tbody tr th {\n",
       "        vertical-align: top;\n",
       "    }\n",
       "\n",
       "    .dataframe thead th {\n",
       "        text-align: right;\n",
       "    }\n",
       "</style>\n",
       "<table border=\"1\" class=\"dataframe\">\n",
       "  <thead>\n",
       "    <tr style=\"text-align: right;\">\n",
       "      <th></th>\n",
       "      <th>ts</th>\n",
       "      <th>ms_played</th>\n",
       "      <th>conn_country</th>\n",
       "      <th>master_metadata_track_name</th>\n",
       "      <th>master_metadata_album_artist_name</th>\n",
       "      <th>master_metadata_album_album_name</th>\n",
       "      <th>reason_start</th>\n",
       "      <th>reason_end</th>\n",
       "      <th>shuffle</th>\n",
       "      <th>skipped</th>\n",
       "      <th>...</th>\n",
       "      <th>city</th>\n",
       "      <th>region</th>\n",
       "      <th>episode_name</th>\n",
       "      <th>episode_show_name</th>\n",
       "      <th>date</th>\n",
       "      <th>year</th>\n",
       "      <th>month</th>\n",
       "      <th>day</th>\n",
       "      <th>dow</th>\n",
       "      <th>hour</th>\n",
       "    </tr>\n",
       "  </thead>\n",
       "  <tbody>\n",
       "    <tr>\n",
       "      <th>0</th>\n",
       "      <td>2013-10-09 20:24:30+00:00</td>\n",
       "      <td>15010</td>\n",
       "      <td>NL</td>\n",
       "      <td>Wild for the Night (feat. Skrillex &amp; Birdy Nam...</td>\n",
       "      <td>A$AP Rocky</td>\n",
       "      <td>LONG.LIVE.A$AP (Deluxe Version)</td>\n",
       "      <td>unknown</td>\n",
       "      <td>click-row</td>\n",
       "      <td>False</td>\n",
       "      <td>False</td>\n",
       "      <td>...</td>\n",
       "      <td>NaN</td>\n",
       "      <td>NaN</td>\n",
       "      <td>NaN</td>\n",
       "      <td>NaN</td>\n",
       "      <td>2013-10-09</td>\n",
       "      <td>2013</td>\n",
       "      <td>10</td>\n",
       "      <td>9</td>\n",
       "      <td>2</td>\n",
       "      <td>20</td>\n",
       "    </tr>\n",
       "    <tr>\n",
       "      <th>1</th>\n",
       "      <td>2013-10-09 20:19:20+00:00</td>\n",
       "      <td>68139</td>\n",
       "      <td>NL</td>\n",
       "      <td>Buzzin'</td>\n",
       "      <td>OVERWERK</td>\n",
       "      <td>The Nthº</td>\n",
       "      <td>unknown</td>\n",
       "      <td>click-row</td>\n",
       "      <td>False</td>\n",
       "      <td>False</td>\n",
       "      <td>...</td>\n",
       "      <td>NaN</td>\n",
       "      <td>NaN</td>\n",
       "      <td>NaN</td>\n",
       "      <td>NaN</td>\n",
       "      <td>2013-10-09</td>\n",
       "      <td>2013</td>\n",
       "      <td>10</td>\n",
       "      <td>9</td>\n",
       "      <td>2</td>\n",
       "      <td>20</td>\n",
       "    </tr>\n",
       "    <tr>\n",
       "      <th>2</th>\n",
       "      <td>2013-10-09 20:21:54+00:00</td>\n",
       "      <td>23643</td>\n",
       "      <td>NL</td>\n",
       "      <td>Blue</td>\n",
       "      <td>Gemini</td>\n",
       "      <td>Blue EP</td>\n",
       "      <td>unknown</td>\n",
       "      <td>click-row</td>\n",
       "      <td>False</td>\n",
       "      <td>False</td>\n",
       "      <td>...</td>\n",
       "      <td>NaN</td>\n",
       "      <td>NaN</td>\n",
       "      <td>NaN</td>\n",
       "      <td>NaN</td>\n",
       "      <td>2013-10-09</td>\n",
       "      <td>2013</td>\n",
       "      <td>10</td>\n",
       "      <td>9</td>\n",
       "      <td>2</td>\n",
       "      <td>20</td>\n",
       "    </tr>\n",
       "    <tr>\n",
       "      <th>3</th>\n",
       "      <td>2013-10-09 20:20:29+00:00</td>\n",
       "      <td>68063</td>\n",
       "      <td>NL</td>\n",
       "      <td>Blue</td>\n",
       "      <td>Gemini</td>\n",
       "      <td>Blue EP</td>\n",
       "      <td>unknown</td>\n",
       "      <td>click-row</td>\n",
       "      <td>False</td>\n",
       "      <td>False</td>\n",
       "      <td>...</td>\n",
       "      <td>NaN</td>\n",
       "      <td>NaN</td>\n",
       "      <td>NaN</td>\n",
       "      <td>NaN</td>\n",
       "      <td>2013-10-09</td>\n",
       "      <td>2013</td>\n",
       "      <td>10</td>\n",
       "      <td>9</td>\n",
       "      <td>2</td>\n",
       "      <td>20</td>\n",
       "    </tr>\n",
       "  </tbody>\n",
       "</table>\n",
       "<p>4 rows × 25 columns</p>\n",
       "</div>"
      ],
      "text/plain": [
       "                         ts ms_played conn_country  \\\n",
       "0 2013-10-09 20:24:30+00:00     15010           NL   \n",
       "1 2013-10-09 20:19:20+00:00     68139           NL   \n",
       "2 2013-10-09 20:21:54+00:00     23643           NL   \n",
       "3 2013-10-09 20:20:29+00:00     68063           NL   \n",
       "\n",
       "                          master_metadata_track_name  \\\n",
       "0  Wild for the Night (feat. Skrillex & Birdy Nam...   \n",
       "1                                            Buzzin'   \n",
       "2                                               Blue   \n",
       "3                                               Blue   \n",
       "\n",
       "  master_metadata_album_artist_name master_metadata_album_album_name  \\\n",
       "0                        A$AP Rocky  LONG.LIVE.A$AP (Deluxe Version)   \n",
       "1                          OVERWERK                         The Nthº   \n",
       "2                            Gemini                          Blue EP   \n",
       "3                            Gemini                          Blue EP   \n",
       "\n",
       "  reason_start reason_end  shuffle skipped  ...  city region episode_name  \\\n",
       "0      unknown  click-row    False   False  ...   NaN    NaN          NaN   \n",
       "1      unknown  click-row    False   False  ...   NaN    NaN          NaN   \n",
       "2      unknown  click-row    False   False  ...   NaN    NaN          NaN   \n",
       "3      unknown  click-row    False   False  ...   NaN    NaN          NaN   \n",
       "\n",
       "   episode_show_name        date  year month day dow hour  \n",
       "0                NaN  2013-10-09  2013    10   9   2   20  \n",
       "1                NaN  2013-10-09  2013    10   9   2   20  \n",
       "2                NaN  2013-10-09  2013    10   9   2   20  \n",
       "3                NaN  2013-10-09  2013    10   9   2   20  \n",
       "\n",
       "[4 rows x 25 columns]"
      ]
     },
     "execution_count": 3,
     "metadata": {},
     "output_type": "execute_result"
    }
   ],
   "source": [
    "#collapse-hide\n",
    "df = df.drop(['username', 'user_agent_decrypted', 'incognito_mode', 'platform', 'ip_addr_decrypted'], axis=1)\n",
    "df.ts = pd.to_datetime(df.ts)\n",
    "df['date'] = df.ts.dt.date\n",
    "df['year'] = df.ts.dt.year\n",
    "df['month'] = df.ts.dt.month\n",
    "df['day'] = df.ts.dt.day\n",
    "df['dow'] = df.ts.dt.dayofweek\n",
    "df['hour'] = df.ts.dt.hour\n",
    "df.head(4)"
   ]
  },
  {
   "cell_type": "markdown",
   "metadata": {},
   "source": [
    "# Yearly & Monthly behaviour 📆"
   ]
  },
  {
   "cell_type": "markdown",
   "metadata": {},
   "source": [
    "One of the first things that might be interesting to see is how my usage of spotify has changed over the years. For this, we can easily plot the number of songs player by year and by month. \n",
    "\n",
    "> Note: All my plots will be created using Altair. This is mainly because [fastpages](https://github.com/fastai/fastpages) has the best support for this. But, I have taken this opportunity to become really familiar with the nooks and crannies of Altair. My previous go-tos are and likely still will be for most: matplotlib and seaborn. "
   ]
  },
  {
   "cell_type": "code",
   "execution_count": 4,
   "metadata": {},
   "outputs": [
    {
     "data": {
      "text/plain": [
       "['ggplot2',\n",
       " 'quartz',\n",
       " 'vox',\n",
       " 'fivethirtyeight',\n",
       " 'dark',\n",
       " 'latimes',\n",
       " 'urbaninstitute']"
      ]
     },
     "execution_count": 4,
     "metadata": {},
     "output_type": "execute_result"
    }
   ],
   "source": [
    "#hide\n",
    "alt.vegalite.v4.theme.VEGA_THEMES"
   ]
  },
  {
   "cell_type": "markdown",
   "metadata": {},
   "source": [
    "We're using the _LA Times_ vega lite theme. We can set altair to use this with the following line. "
   ]
  },
  {
   "cell_type": "code",
   "execution_count": 5,
   "metadata": {},
   "outputs": [
    {
     "data": {
      "text/plain": [
       "ThemeRegistry.enable('latimes')"
      ]
     },
     "execution_count": 5,
     "metadata": {},
     "output_type": "execute_result"
    }
   ],
   "source": [
    "alt.themes.enable('latimes')"
   ]
  },
  {
   "cell_type": "code",
   "execution_count": 6,
   "metadata": {},
   "outputs": [],
   "source": [
    "#hide\n",
    "MAXWIDTH = 640"
   ]
  },
  {
   "cell_type": "code",
   "execution_count": 7,
   "metadata": {},
   "outputs": [
    {
     "name": "stderr",
     "output_type": "stream",
     "text": [
      "C:\\Users\\BaukeBrenninkmeijer\\Anaconda3\\lib\\site-packages\\pandas\\core\\arrays\\datetimes.py:1091: UserWarning: Converting to PeriodArray/Index representation will drop timezone information.\n",
      "  UserWarning,\n"
     ]
    },
    {
     "data": {
      "text/html": [
       "\n",
       "<div id=\"altair-viz-70ba7e52b23548a68a3b3712231a92ab\"></div>\n",
       "<script type=\"text/javascript\">\n",
       "  (function(spec, embedOpt){\n",
       "    let outputDiv = document.currentScript.previousElementSibling;\n",
       "    if (outputDiv.id !== \"altair-viz-70ba7e52b23548a68a3b3712231a92ab\") {\n",
       "      outputDiv = document.getElementById(\"altair-viz-70ba7e52b23548a68a3b3712231a92ab\");\n",
       "    }\n",
       "    const paths = {\n",
       "      \"vega\": \"https://cdn.jsdelivr.net/npm//vega@5?noext\",\n",
       "      \"vega-lib\": \"https://cdn.jsdelivr.net/npm//vega-lib?noext\",\n",
       "      \"vega-lite\": \"https://cdn.jsdelivr.net/npm//vega-lite@4.8.1?noext\",\n",
       "      \"vega-embed\": \"https://cdn.jsdelivr.net/npm//vega-embed@6?noext\",\n",
       "    };\n",
       "\n",
       "    function loadScript(lib) {\n",
       "      return new Promise(function(resolve, reject) {\n",
       "        var s = document.createElement('script');\n",
       "        s.src = paths[lib];\n",
       "        s.async = true;\n",
       "        s.onload = () => resolve(paths[lib]);\n",
       "        s.onerror = () => reject(`Error loading script: ${paths[lib]}`);\n",
       "        document.getElementsByTagName(\"head\")[0].appendChild(s);\n",
       "      });\n",
       "    }\n",
       "\n",
       "    function showError(err) {\n",
       "      outputDiv.innerHTML = `<div class=\"error\" style=\"color:red;\">${err}</div>`;\n",
       "      throw err;\n",
       "    }\n",
       "\n",
       "    function displayChart(vegaEmbed) {\n",
       "      vegaEmbed(outputDiv, spec, embedOpt)\n",
       "        .catch(err => showError(`Javascript Error: ${err.message}<br>This usually means there's a typo in your chart specification. See the javascript console for the full traceback.`));\n",
       "    }\n",
       "\n",
       "    if(typeof define === \"function\" && define.amd) {\n",
       "      requirejs.config({paths});\n",
       "      require([\"vega-embed\"], displayChart, err => showError(`Error loading script: ${err.message}`));\n",
       "    } else if (typeof vegaEmbed === \"function\") {\n",
       "      displayChart(vegaEmbed);\n",
       "    } else {\n",
       "      loadScript(\"vega\")\n",
       "        .then(() => loadScript(\"vega-lite\"))\n",
       "        .then(() => loadScript(\"vega-embed\"))\n",
       "        .catch(showError)\n",
       "        .then(() => displayChart(vegaEmbed));\n",
       "    }\n",
       "  })({\"usermeta\": {\"embedOptions\": {\"theme\": \"latimes\"}}, \"config\": {\"view\": {\"continuousWidth\": 400, \"continuousHeight\": 300}}, \"hconcat\": [{\"mark\": {\"type\": \"bar\", \"size\": 30}, \"encoding\": {\"tooltip\": [{\"type\": \"quantitative\", \"aggregate\": \"sum\", \"field\": \"listens\"}, {\"type\": \"temporal\", \"field\": \"date\", \"timeUnit\": \"year\"}], \"x\": {\"type\": \"ordinal\", \"field\": \"date\", \"timeUnit\": \"year\", \"title\": \"Year\"}, \"y\": {\"type\": \"quantitative\", \"aggregate\": \"sum\", \"field\": \"listens\", \"title\": \"Listens\"}}, \"width\": 320.0}, {\"mark\": \"bar\", \"encoding\": {\"tooltip\": [{\"type\": \"quantitative\", \"aggregate\": \"sum\", \"field\": \"listens\"}, {\"type\": \"temporal\", \"field\": \"date\", \"timeUnit\": \"yearmonth\"}], \"x\": {\"type\": \"ordinal\", \"field\": \"date\", \"timeUnit\": \"yearmonth\", \"title\": \"Month\"}, \"y\": {\"type\": \"quantitative\", \"aggregate\": \"sum\", \"field\": \"listens\", \"title\": \"Listens\"}}, \"width\": 320.0}], \"data\": {\"name\": \"data-bbdccaa9ac9ab783d23accc56de671f6\"}, \"$schema\": \"https://vega.github.io/schema/vega-lite/v4.8.1.json\", \"datasets\": {\"data-bbdccaa9ac9ab783d23accc56de671f6\": [{\"date\": \"2018-10-12T00:00:00\", \"listens\": 266}, {\"date\": \"2018-04-21T00:00:00\", \"listens\": 259}, {\"date\": \"2018-01-06T00:00:00\", \"listens\": 244}, {\"date\": \"2018-10-10T00:00:00\", \"listens\": 216}, {\"date\": \"2018-03-07T00:00:00\", \"listens\": 216}, {\"date\": \"2018-07-09T00:00:00\", \"listens\": 195}, {\"date\": \"2018-10-25T00:00:00\", \"listens\": 192}, {\"date\": \"2017-11-10T00:00:00\", \"listens\": 190}, {\"date\": \"2018-07-03T00:00:00\", \"listens\": 190}, {\"date\": \"2018-03-05T00:00:00\", \"listens\": 188}, {\"date\": \"2018-10-26T00:00:00\", \"listens\": 185}, {\"date\": \"2017-07-10T00:00:00\", \"listens\": 184}, {\"date\": \"2018-12-07T00:00:00\", \"listens\": 178}, {\"date\": \"2018-11-21T00:00:00\", \"listens\": 174}, {\"date\": \"2018-09-27T00:00:00\", \"listens\": 172}, {\"date\": \"2018-10-16T00:00:00\", \"listens\": 172}, {\"date\": \"2018-12-12T00:00:00\", \"listens\": 167}, {\"date\": \"2018-09-05T00:00:00\", \"listens\": 166}, {\"date\": \"2018-10-11T00:00:00\", \"listens\": 165}, {\"date\": \"2018-02-27T00:00:00\", \"listens\": 162}, {\"date\": \"2017-09-01T00:00:00\", \"listens\": 162}, {\"date\": \"2019-01-10T00:00:00\", \"listens\": 160}, {\"date\": \"2018-09-06T00:00:00\", \"listens\": 159}, {\"date\": \"2018-08-07T00:00:00\", \"listens\": 156}, {\"date\": \"2018-10-09T00:00:00\", \"listens\": 155}, {\"date\": \"2018-11-28T00:00:00\", \"listens\": 153}, {\"date\": \"2018-09-11T00:00:00\", \"listens\": 152}, {\"date\": \"2018-12-19T00:00:00\", \"listens\": 149}, {\"date\": \"2018-10-17T00:00:00\", \"listens\": 147}, {\"date\": \"2018-11-07T00:00:00\", \"listens\": 146}, {\"date\": \"2019-01-15T00:00:00\", \"listens\": 145}, {\"date\": \"2018-06-01T00:00:00\", \"listens\": 143}, {\"date\": \"2018-11-27T00:00:00\", \"listens\": 143}, {\"date\": \"2018-11-26T00:00:00\", \"listens\": 142}, {\"date\": \"2018-05-04T00:00:00\", \"listens\": 142}, {\"date\": \"2017-06-26T00:00:00\", \"listens\": 141}, {\"date\": \"2018-06-21T00:00:00\", \"listens\": 140}, {\"date\": \"2018-10-01T00:00:00\", \"listens\": 140}, {\"date\": \"2018-10-03T00:00:00\", \"listens\": 139}, {\"date\": \"2018-08-09T00:00:00\", \"listens\": 138}, {\"date\": \"2018-09-18T00:00:00\", \"listens\": 137}, {\"date\": \"2018-04-06T00:00:00\", \"listens\": 135}, {\"date\": \"2018-10-22T00:00:00\", \"listens\": 135}, {\"date\": \"2018-03-09T00:00:00\", \"listens\": 135}, {\"date\": \"2018-08-27T00:00:00\", \"listens\": 134}, {\"date\": \"2018-07-28T00:00:00\", \"listens\": 134}, {\"date\": \"2017-12-15T00:00:00\", \"listens\": 133}, {\"date\": \"2018-05-18T00:00:00\", \"listens\": 133}, {\"date\": \"2018-09-19T00:00:00\", \"listens\": 133}, {\"date\": \"2018-11-14T00:00:00\", \"listens\": 133}, {\"date\": \"2018-09-04T00:00:00\", \"listens\": 133}, {\"date\": \"2018-11-02T00:00:00\", \"listens\": 132}, {\"date\": \"2018-12-10T00:00:00\", \"listens\": 131}, {\"date\": \"2018-03-16T00:00:00\", \"listens\": 131}, {\"date\": \"2018-05-12T00:00:00\", \"listens\": 131}, {\"date\": \"2018-09-26T00:00:00\", \"listens\": 130}, {\"date\": \"2018-01-12T00:00:00\", \"listens\": 128}, {\"date\": \"2019-01-08T00:00:00\", \"listens\": 128}, {\"date\": \"2018-11-08T00:00:00\", \"listens\": 124}, {\"date\": \"2018-10-28T00:00:00\", \"listens\": 124}, {\"date\": \"2018-07-08T00:00:00\", \"listens\": 124}, {\"date\": \"2017-11-11T00:00:00\", \"listens\": 123}, {\"date\": \"2016-10-06T00:00:00\", \"listens\": 122}, {\"date\": \"2018-10-08T00:00:00\", \"listens\": 122}, {\"date\": \"2018-10-23T00:00:00\", \"listens\": 122}, {\"date\": \"2018-07-10T00:00:00\", \"listens\": 122}, {\"date\": \"2018-11-13T00:00:00\", \"listens\": 122}, {\"date\": \"2018-04-04T00:00:00\", \"listens\": 121}, {\"date\": \"2018-03-08T00:00:00\", \"listens\": 121}, {\"date\": \"2017-05-02T00:00:00\", \"listens\": 121}, {\"date\": \"2019-01-02T00:00:00\", \"listens\": 121}, {\"date\": \"2018-09-02T00:00:00\", \"listens\": 120}, {\"date\": \"2018-09-10T00:00:00\", \"listens\": 120}, {\"date\": \"2018-11-15T00:00:00\", \"listens\": 120}, {\"date\": \"2017-07-04T00:00:00\", \"listens\": 120}, {\"date\": \"2019-01-17T00:00:00\", \"listens\": 120}, {\"date\": \"2018-03-06T00:00:00\", \"listens\": 119}, {\"date\": \"2018-10-24T00:00:00\", \"listens\": 118}, {\"date\": \"2019-01-11T00:00:00\", \"listens\": 118}, {\"date\": \"2018-09-12T00:00:00\", \"listens\": 118}, {\"date\": \"2018-10-18T00:00:00\", \"listens\": 117}, {\"date\": \"2018-06-11T00:00:00\", \"listens\": 116}, {\"date\": \"2018-05-25T00:00:00\", \"listens\": 115}, {\"date\": \"2018-11-01T00:00:00\", \"listens\": 114}, {\"date\": \"2017-12-07T00:00:00\", \"listens\": 113}, {\"date\": \"2018-11-06T00:00:00\", \"listens\": 113}, {\"date\": \"2018-03-02T00:00:00\", \"listens\": 112}, {\"date\": \"2018-10-04T00:00:00\", \"listens\": 112}, {\"date\": \"2018-09-03T00:00:00\", \"listens\": 112}, {\"date\": \"2018-09-08T00:00:00\", \"listens\": 111}, {\"date\": \"2018-08-02T00:00:00\", \"listens\": 110}, {\"date\": \"2018-05-09T00:00:00\", \"listens\": 110}, {\"date\": \"2018-02-02T00:00:00\", \"listens\": 109}, {\"date\": \"2018-05-13T00:00:00\", \"listens\": 109}, {\"date\": \"2018-05-14T00:00:00\", \"listens\": 106}, {\"date\": \"2017-09-28T00:00:00\", \"listens\": 106}, {\"date\": \"2018-02-01T00:00:00\", \"listens\": 106}, {\"date\": \"2018-10-13T00:00:00\", \"listens\": 105}, {\"date\": \"2017-11-02T00:00:00\", \"listens\": 105}, {\"date\": \"2019-01-03T00:00:00\", \"listens\": 105}, {\"date\": \"2019-01-07T00:00:00\", \"listens\": 104}, {\"date\": \"2018-06-18T00:00:00\", \"listens\": 103}, {\"date\": \"2017-10-08T00:00:00\", \"listens\": 103}, {\"date\": \"2018-11-12T00:00:00\", \"listens\": 103}, {\"date\": \"2017-11-16T00:00:00\", \"listens\": 103}, {\"date\": \"2017-05-23T00:00:00\", \"listens\": 103}, {\"date\": \"2017-04-21T00:00:00\", \"listens\": 101}, {\"date\": \"2018-07-15T00:00:00\", \"listens\": 100}, {\"date\": \"2018-01-04T00:00:00\", \"listens\": 100}, {\"date\": \"2017-08-23T00:00:00\", \"listens\": 100}, {\"date\": \"2017-09-14T00:00:00\", \"listens\": 100}, {\"date\": \"2018-03-15T00:00:00\", \"listens\": 100}, {\"date\": \"2018-08-29T00:00:00\", \"listens\": 99}, {\"date\": \"2018-07-20T00:00:00\", \"listens\": 99}, {\"date\": \"2018-05-11T00:00:00\", \"listens\": 99}, {\"date\": \"2017-07-08T00:00:00\", \"listens\": 99}, {\"date\": \"2018-03-14T00:00:00\", \"listens\": 99}, {\"date\": \"2018-07-02T00:00:00\", \"listens\": 98}, {\"date\": \"2019-01-16T00:00:00\", \"listens\": 98}, {\"date\": \"2018-12-06T00:00:00\", \"listens\": 98}, {\"date\": \"2017-09-07T00:00:00\", \"listens\": 98}, {\"date\": \"2017-06-29T00:00:00\", \"listens\": 97}, {\"date\": \"2017-10-07T00:00:00\", \"listens\": 97}, {\"date\": \"2018-09-25T00:00:00\", \"listens\": 97}, {\"date\": \"2018-01-20T00:00:00\", \"listens\": 96}, {\"date\": \"2017-08-22T00:00:00\", \"listens\": 96}, {\"date\": \"2018-11-19T00:00:00\", \"listens\": 96}, {\"date\": \"2017-05-18T00:00:00\", \"listens\": 95}, {\"date\": \"2017-06-30T00:00:00\", \"listens\": 95}, {\"date\": \"2018-03-13T00:00:00\", \"listens\": 94}, {\"date\": \"2018-09-17T00:00:00\", \"listens\": 94}, {\"date\": \"2018-12-14T00:00:00\", \"listens\": 93}, {\"date\": \"2018-01-10T00:00:00\", \"listens\": 93}, {\"date\": \"2018-03-03T00:00:00\", \"listens\": 92}, {\"date\": \"2017-10-30T00:00:00\", \"listens\": 91}, {\"date\": \"2018-03-20T00:00:00\", \"listens\": 91}, {\"date\": \"2018-01-11T00:00:00\", \"listens\": 90}, {\"date\": \"2018-09-16T00:00:00\", \"listens\": 89}, {\"date\": \"2018-06-06T00:00:00\", \"listens\": 89}, {\"date\": \"2018-05-03T00:00:00\", \"listens\": 89}, {\"date\": \"2017-07-13T00:00:00\", \"listens\": 89}, {\"date\": \"2018-05-06T00:00:00\", \"listens\": 89}, {\"date\": \"2017-04-26T00:00:00\", \"listens\": 88}, {\"date\": \"2018-10-31T00:00:00\", \"listens\": 88}, {\"date\": \"2018-12-04T00:00:00\", \"listens\": 88}, {\"date\": \"2018-02-09T00:00:00\", \"listens\": 88}, {\"date\": \"2018-06-04T00:00:00\", \"listens\": 87}, {\"date\": \"2017-06-13T00:00:00\", \"listens\": 86}, {\"date\": \"2017-12-01T00:00:00\", \"listens\": 86}, {\"date\": \"2017-06-12T00:00:00\", \"listens\": 86}, {\"date\": \"2018-09-07T00:00:00\", \"listens\": 85}, {\"date\": \"2018-03-27T00:00:00\", \"listens\": 85}, {\"date\": \"2017-02-08T00:00:00\", \"listens\": 85}, {\"date\": \"2018-11-29T00:00:00\", \"listens\": 85}, {\"date\": \"2018-06-24T00:00:00\", \"listens\": 85}, {\"date\": \"2018-02-06T00:00:00\", \"listens\": 85}, {\"date\": \"2018-03-22T00:00:00\", \"listens\": 85}, {\"date\": \"2018-03-23T00:00:00\", \"listens\": 85}, {\"date\": \"2018-05-15T00:00:00\", \"listens\": 84}, {\"date\": \"2018-01-16T00:00:00\", \"listens\": 84}, {\"date\": \"2018-01-23T00:00:00\", \"listens\": 84}, {\"date\": \"2017-09-21T00:00:00\", \"listens\": 84}, {\"date\": \"2018-07-11T00:00:00\", \"listens\": 83}, {\"date\": \"2018-01-15T00:00:00\", \"listens\": 83}, {\"date\": \"2018-08-25T00:00:00\", \"listens\": 82}, {\"date\": \"2018-03-30T00:00:00\", \"listens\": 82}, {\"date\": \"2018-08-30T00:00:00\", \"listens\": 82}, {\"date\": \"2018-06-12T00:00:00\", \"listens\": 82}, {\"date\": \"2018-10-27T00:00:00\", \"listens\": 82}, {\"date\": \"2017-06-22T00:00:00\", \"listens\": 82}, {\"date\": \"2018-09-13T00:00:00\", \"listens\": 81}, {\"date\": \"2018-12-13T00:00:00\", \"listens\": 81}, {\"date\": \"2018-12-17T00:00:00\", \"listens\": 81}, {\"date\": \"2017-07-12T00:00:00\", \"listens\": 81}, {\"date\": \"2018-06-02T00:00:00\", \"listens\": 80}, {\"date\": \"2018-01-26T00:00:00\", \"listens\": 79}, {\"date\": \"2018-02-21T00:00:00\", \"listens\": 79}, {\"date\": \"2017-04-28T00:00:00\", \"listens\": 79}, {\"date\": \"2018-07-13T00:00:00\", \"listens\": 79}, {\"date\": \"2018-01-27T00:00:00\", \"listens\": 79}, {\"date\": \"2018-08-01T00:00:00\", \"listens\": 78}, {\"date\": \"2018-12-20T00:00:00\", \"listens\": 78}, {\"date\": \"2018-04-17T00:00:00\", \"listens\": 78}, {\"date\": \"2019-01-09T00:00:00\", \"listens\": 78}, {\"date\": \"2018-12-27T00:00:00\", \"listens\": 78}, {\"date\": \"2018-01-07T00:00:00\", \"listens\": 78}, {\"date\": \"2017-07-01T00:00:00\", \"listens\": 78}, {\"date\": \"2018-02-13T00:00:00\", \"listens\": 77}, {\"date\": \"2018-02-26T00:00:00\", \"listens\": 77}, {\"date\": \"2017-06-27T00:00:00\", \"listens\": 76}, {\"date\": \"2018-07-04T00:00:00\", \"listens\": 76}, {\"date\": \"2018-12-24T00:00:00\", \"listens\": 76}, {\"date\": \"2018-04-11T00:00:00\", \"listens\": 75}, {\"date\": \"2018-11-05T00:00:00\", \"listens\": 75}, {\"date\": \"2017-09-25T00:00:00\", \"listens\": 74}, {\"date\": \"2017-12-21T00:00:00\", \"listens\": 74}, {\"date\": \"2018-01-18T00:00:00\", \"listens\": 74}, {\"date\": \"2018-04-22T00:00:00\", \"listens\": 74}, {\"date\": \"2017-02-03T00:00:00\", \"listens\": 73}, {\"date\": \"2018-01-30T00:00:00\", \"listens\": 73}, {\"date\": \"2018-12-18T00:00:00\", \"listens\": 73}, {\"date\": \"2017-10-12T00:00:00\", \"listens\": 73}, {\"date\": \"2018-06-20T00:00:00\", \"listens\": 73}, {\"date\": \"2017-04-14T00:00:00\", \"listens\": 73}, {\"date\": \"2017-01-06T00:00:00\", \"listens\": 72}, {\"date\": \"2017-12-09T00:00:00\", \"listens\": 72}, {\"date\": \"2018-09-28T00:00:00\", \"listens\": 72}, {\"date\": \"2018-07-19T00:00:00\", \"listens\": 72}, {\"date\": \"2018-04-12T00:00:00\", \"listens\": 71}, {\"date\": \"2018-03-26T00:00:00\", \"listens\": 71}, {\"date\": \"2018-04-27T00:00:00\", \"listens\": 71}, {\"date\": \"2017-07-20T00:00:00\", \"listens\": 71}, {\"date\": \"2018-06-15T00:00:00\", \"listens\": 70}, {\"date\": \"2018-03-11T00:00:00\", \"listens\": 70}, {\"date\": \"2017-07-07T00:00:00\", \"listens\": 70}, {\"date\": \"2018-03-12T00:00:00\", \"listens\": 70}, {\"date\": \"2018-11-17T00:00:00\", \"listens\": 70}, {\"date\": \"2018-02-16T00:00:00\", \"listens\": 69}, {\"date\": \"2018-09-21T00:00:00\", \"listens\": 69}, {\"date\": \"2017-10-19T00:00:00\", \"listens\": 69}, {\"date\": \"2018-12-08T00:00:00\", \"listens\": 69}, {\"date\": \"2018-06-19T00:00:00\", \"listens\": 69}, {\"date\": \"2018-10-02T00:00:00\", \"listens\": 68}, {\"date\": \"2017-09-11T00:00:00\", \"listens\": 68}, {\"date\": \"2016-12-17T00:00:00\", \"listens\": 68}, {\"date\": \"2017-05-16T00:00:00\", \"listens\": 68}, {\"date\": \"2018-06-22T00:00:00\", \"listens\": 68}, {\"date\": \"2018-01-31T00:00:00\", \"listens\": 67}, {\"date\": \"2017-11-07T00:00:00\", \"listens\": 67}, {\"date\": \"2018-04-25T00:00:00\", \"listens\": 67}, {\"date\": \"2018-04-18T00:00:00\", \"listens\": 66}, {\"date\": \"2018-05-24T00:00:00\", \"listens\": 66}, {\"date\": \"2018-09-24T00:00:00\", \"listens\": 66}, {\"date\": \"2017-09-19T00:00:00\", \"listens\": 66}, {\"date\": \"2018-05-08T00:00:00\", \"listens\": 65}, {\"date\": \"2017-11-13T00:00:00\", \"listens\": 65}, {\"date\": \"2017-10-26T00:00:00\", \"listens\": 65}, {\"date\": \"2018-09-30T00:00:00\", \"listens\": 65}, {\"date\": \"2018-02-05T00:00:00\", \"listens\": 65}, {\"date\": \"2016-10-28T00:00:00\", \"listens\": 64}, {\"date\": \"2017-05-30T00:00:00\", \"listens\": 63}, {\"date\": \"2018-08-03T00:00:00\", \"listens\": 63}, {\"date\": \"2017-10-16T00:00:00\", \"listens\": 62}, {\"date\": \"2018-01-17T00:00:00\", \"listens\": 62}, {\"date\": \"2017-08-28T00:00:00\", \"listens\": 62}, {\"date\": \"2018-06-17T00:00:00\", \"listens\": 62}, {\"date\": \"2018-04-20T00:00:00\", \"listens\": 62}, {\"date\": \"2018-04-03T00:00:00\", \"listens\": 61}, {\"date\": \"2017-05-04T00:00:00\", \"listens\": 61}, {\"date\": \"2017-06-16T00:00:00\", \"listens\": 61}, {\"date\": \"2018-06-25T00:00:00\", \"listens\": 61}, {\"date\": \"2018-01-25T00:00:00\", \"listens\": 61}, {\"date\": \"2018-12-05T00:00:00\", \"listens\": 61}, {\"date\": \"2017-06-14T00:00:00\", \"listens\": 60}, {\"date\": \"2017-04-11T00:00:00\", \"listens\": 60}, {\"date\": \"2018-03-19T00:00:00\", \"listens\": 60}, {\"date\": \"2018-11-30T00:00:00\", \"listens\": 60}, {\"date\": \"2018-08-31T00:00:00\", \"listens\": 60}, {\"date\": \"2018-08-12T00:00:00\", \"listens\": 60}, {\"date\": \"2018-05-17T00:00:00\", \"listens\": 60}, {\"date\": \"2018-07-17T00:00:00\", \"listens\": 59}, {\"date\": \"2018-02-07T00:00:00\", \"listens\": 59}, {\"date\": \"2019-01-14T00:00:00\", \"listens\": 59}, {\"date\": \"2017-12-08T00:00:00\", \"listens\": 58}, {\"date\": \"2017-05-28T00:00:00\", \"listens\": 58}, {\"date\": \"2017-06-01T00:00:00\", \"listens\": 58}, {\"date\": \"2018-12-15T00:00:00\", \"listens\": 58}, {\"date\": \"2017-12-12T00:00:00\", \"listens\": 58}, {\"date\": \"2019-01-18T00:00:00\", \"listens\": 58}, {\"date\": \"2016-01-16T00:00:00\", \"listens\": 58}, {\"date\": \"2017-12-25T00:00:00\", \"listens\": 58}, {\"date\": \"2018-04-19T00:00:00\", \"listens\": 57}, {\"date\": \"2018-12-16T00:00:00\", \"listens\": 57}, {\"date\": \"2019-01-04T00:00:00\", \"listens\": 56}, {\"date\": \"2018-01-19T00:00:00\", \"listens\": 56}, {\"date\": \"2016-09-30T00:00:00\", \"listens\": 55}, {\"date\": \"2017-06-04T00:00:00\", \"listens\": 55}, {\"date\": \"2017-08-29T00:00:00\", \"listens\": 55}, {\"date\": \"2017-02-02T00:00:00\", \"listens\": 55}, {\"date\": \"2017-11-08T00:00:00\", \"listens\": 55}, {\"date\": \"2018-10-19T00:00:00\", \"listens\": 54}, {\"date\": \"2018-06-08T00:00:00\", \"listens\": 54}, {\"date\": \"2018-02-14T00:00:00\", \"listens\": 54}, {\"date\": \"2018-06-29T00:00:00\", \"listens\": 54}, {\"date\": \"2017-09-02T00:00:00\", \"listens\": 54}, {\"date\": \"2016-12-21T00:00:00\", \"listens\": 52}, {\"date\": \"2017-09-09T00:00:00\", \"listens\": 52}, {\"date\": \"2018-01-21T00:00:00\", \"listens\": 52}, {\"date\": \"2018-01-22T00:00:00\", \"listens\": 52}, {\"date\": \"2018-04-10T00:00:00\", \"listens\": 52}, {\"date\": \"2018-05-10T00:00:00\", \"listens\": 52}, {\"date\": \"2018-05-23T00:00:00\", \"listens\": 51}, {\"date\": \"2017-08-19T00:00:00\", \"listens\": 51}, {\"date\": \"2018-12-09T00:00:00\", \"listens\": 51}, {\"date\": \"2017-11-23T00:00:00\", \"listens\": 51}, {\"date\": \"2018-04-13T00:00:00\", \"listens\": 51}, {\"date\": \"2017-10-03T00:00:00\", \"listens\": 50}, {\"date\": \"2018-05-28T00:00:00\", \"listens\": 50}, {\"date\": \"2017-04-23T00:00:00\", \"listens\": 50}, {\"date\": \"2018-04-14T00:00:00\", \"listens\": 50}, {\"date\": \"2017-06-08T00:00:00\", \"listens\": 50}, {\"date\": \"2018-01-29T00:00:00\", \"listens\": 50}, {\"date\": \"2018-01-08T00:00:00\", \"listens\": 50}, {\"date\": \"2018-08-05T00:00:00\", \"listens\": 50}, {\"date\": \"2018-06-03T00:00:00\", \"listens\": 50}, {\"date\": \"2017-12-02T00:00:00\", \"listens\": 49}, {\"date\": \"2017-12-27T00:00:00\", \"listens\": 49}, {\"date\": \"2017-05-27T00:00:00\", \"listens\": 49}, {\"date\": \"2017-06-07T00:00:00\", \"listens\": 49}, {\"date\": \"2017-12-14T00:00:00\", \"listens\": 49}, {\"date\": \"2018-11-03T00:00:00\", \"listens\": 49}, {\"date\": \"2017-10-23T00:00:00\", \"listens\": 48}, {\"date\": \"2018-05-16T00:00:00\", \"listens\": 48}, {\"date\": \"2018-07-26T00:00:00\", \"listens\": 48}, {\"date\": \"2017-07-06T00:00:00\", \"listens\": 48}, {\"date\": \"2017-07-25T00:00:00\", \"listens\": 48}, {\"date\": \"2018-10-05T00:00:00\", \"listens\": 47}, {\"date\": \"2017-07-14T00:00:00\", \"listens\": 47}, {\"date\": \"2017-08-11T00:00:00\", \"listens\": 47}, {\"date\": \"2018-05-20T00:00:00\", \"listens\": 47}, {\"date\": \"2018-12-11T00:00:00\", \"listens\": 46}, {\"date\": \"2018-08-13T00:00:00\", \"listens\": 46}, {\"date\": \"2017-11-27T00:00:00\", \"listens\": 46}, {\"date\": \"2017-07-05T00:00:00\", \"listens\": 46}, {\"date\": \"2017-04-19T00:00:00\", \"listens\": 46}, {\"date\": \"2018-11-20T00:00:00\", \"listens\": 46}, {\"date\": \"2017-12-11T00:00:00\", \"listens\": 46}, {\"date\": \"2017-05-12T00:00:00\", \"listens\": 46}, {\"date\": \"2017-04-17T00:00:00\", \"listens\": 46}, {\"date\": \"2017-11-15T00:00:00\", \"listens\": 46}, {\"date\": \"2017-04-10T00:00:00\", \"listens\": 46}, {\"date\": \"2018-07-05T00:00:00\", \"listens\": 45}, {\"date\": \"2017-05-25T00:00:00\", \"listens\": 45}, {\"date\": \"2017-09-18T00:00:00\", \"listens\": 45}, {\"date\": \"2018-02-03T00:00:00\", \"listens\": 45}, {\"date\": \"2018-08-26T00:00:00\", \"listens\": 45}, {\"date\": \"2017-04-12T00:00:00\", \"listens\": 45}, {\"date\": \"2017-04-20T00:00:00\", \"listens\": 45}, {\"date\": \"2018-04-02T00:00:00\", \"listens\": 44}, {\"date\": \"2017-06-18T00:00:00\", \"listens\": 44}, {\"date\": \"2018-08-20T00:00:00\", \"listens\": 44}, {\"date\": \"2017-12-06T00:00:00\", \"listens\": 44}, {\"date\": \"2017-06-03T00:00:00\", \"listens\": 44}, {\"date\": \"2017-07-11T00:00:00\", \"listens\": 43}, {\"date\": \"2018-10-07T00:00:00\", \"listens\": 43}, {\"date\": \"2018-01-24T00:00:00\", \"listens\": 43}, {\"date\": \"2017-06-23T00:00:00\", \"listens\": 43}, {\"date\": \"2018-09-20T00:00:00\", \"listens\": 43}, {\"date\": \"2018-07-18T00:00:00\", \"listens\": 43}, {\"date\": \"2018-08-08T00:00:00\", \"listens\": 43}, {\"date\": \"2017-12-24T00:00:00\", \"listens\": 43}, {\"date\": \"2017-12-31T00:00:00\", \"listens\": 43}, {\"date\": \"2017-10-28T00:00:00\", \"listens\": 43}, {\"date\": \"2018-07-27T00:00:00\", \"listens\": 42}, {\"date\": \"2017-01-03T00:00:00\", \"listens\": 42}, {\"date\": \"2017-10-31T00:00:00\", \"listens\": 42}, {\"date\": \"2017-10-14T00:00:00\", \"listens\": 42}, {\"date\": \"2018-04-05T00:00:00\", \"listens\": 42}, {\"date\": \"2017-12-26T00:00:00\", \"listens\": 42}, {\"date\": \"2017-08-24T00:00:00\", \"listens\": 41}, {\"date\": \"2018-06-14T00:00:00\", \"listens\": 41}, {\"date\": \"2018-02-17T00:00:00\", \"listens\": 41}, {\"date\": \"2018-09-01T00:00:00\", \"listens\": 41}, {\"date\": \"2018-05-07T00:00:00\", \"listens\": 41}, {\"date\": \"2018-09-14T00:00:00\", \"listens\": 41}, {\"date\": \"2018-03-28T00:00:00\", \"listens\": 41}, {\"date\": \"2017-09-04T00:00:00\", \"listens\": 41}, {\"date\": \"2017-08-21T00:00:00\", \"listens\": 40}, {\"date\": \"2017-12-04T00:00:00\", \"listens\": 40}, {\"date\": \"2018-08-24T00:00:00\", \"listens\": 40}, {\"date\": \"2018-05-05T00:00:00\", \"listens\": 40}, {\"date\": \"2016-10-18T00:00:00\", \"listens\": 39}, {\"date\": \"2017-04-04T00:00:00\", \"listens\": 39}, {\"date\": \"2018-07-07T00:00:00\", \"listens\": 39}, {\"date\": \"2017-06-15T00:00:00\", \"listens\": 39}, {\"date\": \"2017-03-27T00:00:00\", \"listens\": 38}, {\"date\": \"2017-10-22T00:00:00\", \"listens\": 38}, {\"date\": \"2016-07-04T00:00:00\", \"listens\": 38}, {\"date\": \"2017-10-04T00:00:00\", \"listens\": 38}, {\"date\": \"2018-07-14T00:00:00\", \"listens\": 38}, {\"date\": \"2017-02-27T00:00:00\", \"listens\": 37}, {\"date\": \"2018-03-21T00:00:00\", \"listens\": 37}, {\"date\": \"2018-04-23T00:00:00\", \"listens\": 37}, {\"date\": \"2018-05-31T00:00:00\", \"listens\": 37}, {\"date\": \"2017-05-08T00:00:00\", \"listens\": 37}, {\"date\": \"2017-11-21T00:00:00\", \"listens\": 37}, {\"date\": \"2017-12-05T00:00:00\", \"listens\": 37}, {\"date\": \"2017-08-26T00:00:00\", \"listens\": 37}, {\"date\": \"2017-09-26T00:00:00\", \"listens\": 37}, {\"date\": \"2017-06-28T00:00:00\", \"listens\": 37}, {\"date\": \"2017-12-20T00:00:00\", \"listens\": 37}, {\"date\": \"2018-08-22T00:00:00\", \"listens\": 36}, {\"date\": \"2017-05-29T00:00:00\", \"listens\": 36}, {\"date\": \"2018-05-30T00:00:00\", \"listens\": 36}, {\"date\": \"2018-10-30T00:00:00\", \"listens\": 36}, {\"date\": \"2018-06-05T00:00:00\", \"listens\": 36}, {\"date\": \"2018-02-23T00:00:00\", \"listens\": 36}, {\"date\": \"2018-06-28T00:00:00\", \"listens\": 36}, {\"date\": \"2018-11-09T00:00:00\", \"listens\": 36}, {\"date\": \"2017-05-10T00:00:00\", \"listens\": 36}, {\"date\": \"2017-10-02T00:00:00\", \"listens\": 36}, {\"date\": \"2017-06-25T00:00:00\", \"listens\": 35}, {\"date\": \"2016-10-20T00:00:00\", \"listens\": 35}, {\"date\": \"2018-02-08T00:00:00\", \"listens\": 35}, {\"date\": \"2017-03-28T00:00:00\", \"listens\": 35}, {\"date\": \"2017-11-20T00:00:00\", \"listens\": 35}, {\"date\": \"2018-07-12T00:00:00\", \"listens\": 35}, {\"date\": \"2018-04-08T00:00:00\", \"listens\": 35}, {\"date\": \"2018-06-10T00:00:00\", \"listens\": 34}, {\"date\": \"2017-07-03T00:00:00\", \"listens\": 34}, {\"date\": \"2019-01-13T00:00:00\", \"listens\": 33}, {\"date\": \"2017-09-16T00:00:00\", \"listens\": 33}, {\"date\": \"2018-02-19T00:00:00\", \"listens\": 33}, {\"date\": \"2018-05-22T00:00:00\", \"listens\": 33}, {\"date\": \"2018-12-26T00:00:00\", \"listens\": 33}, {\"date\": \"2017-12-19T00:00:00\", \"listens\": 33}, {\"date\": \"2018-10-29T00:00:00\", \"listens\": 33}, {\"date\": \"2017-10-11T00:00:00\", \"listens\": 33}, {\"date\": \"2017-11-22T00:00:00\", \"listens\": 33}, {\"date\": \"2017-03-14T00:00:00\", \"listens\": 33}, {\"date\": \"2017-09-22T00:00:00\", \"listens\": 32}, {\"date\": \"2016-06-29T00:00:00\", \"listens\": 32}, {\"date\": \"2018-08-14T00:00:00\", \"listens\": 32}, {\"date\": \"2017-07-15T00:00:00\", \"listens\": 32}, {\"date\": \"2018-12-02T00:00:00\", \"listens\": 32}, {\"date\": \"2018-08-21T00:00:00\", \"listens\": 32}, {\"date\": \"2017-01-05T00:00:00\", \"listens\": 32}, {\"date\": \"2018-06-09T00:00:00\", \"listens\": 32}, {\"date\": \"2018-11-16T00:00:00\", \"listens\": 32}, {\"date\": \"2018-03-10T00:00:00\", \"listens\": 31}, {\"date\": \"2017-05-05T00:00:00\", \"listens\": 31}, {\"date\": \"2018-12-28T00:00:00\", \"listens\": 31}, {\"date\": \"2017-05-15T00:00:00\", \"listens\": 31}, {\"date\": \"2018-05-29T00:00:00\", \"listens\": 31}, {\"date\": \"2018-04-16T00:00:00\", \"listens\": 30}, {\"date\": \"2018-04-07T00:00:00\", \"listens\": 30}, {\"date\": \"2017-07-18T00:00:00\", \"listens\": 30}, {\"date\": \"2016-12-23T00:00:00\", \"listens\": 30}, {\"date\": \"2017-09-27T00:00:00\", \"listens\": 30}, {\"date\": \"2017-12-17T00:00:00\", \"listens\": 29}, {\"date\": \"2018-12-03T00:00:00\", \"listens\": 29}, {\"date\": \"2017-08-09T00:00:00\", \"listens\": 29}, {\"date\": \"2017-02-23T00:00:00\", \"listens\": 29}, {\"date\": \"2018-11-25T00:00:00\", \"listens\": 29}, {\"date\": \"2017-06-17T00:00:00\", \"listens\": 29}, {\"date\": \"2018-06-07T00:00:00\", \"listens\": 29}, {\"date\": \"2017-03-07T00:00:00\", \"listens\": 29}, {\"date\": \"2018-12-25T00:00:00\", \"listens\": 29}, {\"date\": \"2018-02-22T00:00:00\", \"listens\": 29}, {\"date\": \"2018-03-17T00:00:00\", \"listens\": 29}, {\"date\": \"2018-10-06T00:00:00\", \"listens\": 29}, {\"date\": \"2017-11-09T00:00:00\", \"listens\": 29}, {\"date\": \"2017-11-30T00:00:00\", \"listens\": 29}, {\"date\": \"2018-07-24T00:00:00\", \"listens\": 29}, {\"date\": \"2017-12-29T00:00:00\", \"listens\": 28}, {\"date\": \"2018-02-20T00:00:00\", \"listens\": 28}, {\"date\": \"2017-11-14T00:00:00\", \"listens\": 28}, {\"date\": \"2018-07-06T00:00:00\", \"listens\": 28}, {\"date\": \"2019-01-19T00:00:00\", \"listens\": 28}, {\"date\": \"2017-07-02T00:00:00\", \"listens\": 28}, {\"date\": \"2017-04-13T00:00:00\", \"listens\": 28}, {\"date\": \"2018-08-06T00:00:00\", \"listens\": 28}, {\"date\": \"2017-10-20T00:00:00\", \"listens\": 28}, {\"date\": \"2018-08-19T00:00:00\", \"listens\": 28}, {\"date\": \"2018-06-16T00:00:00\", \"listens\": 28}, {\"date\": \"2017-10-13T00:00:00\", \"listens\": 28}, {\"date\": \"2018-02-04T00:00:00\", \"listens\": 27}, {\"date\": \"2018-08-11T00:00:00\", \"listens\": 27}, {\"date\": \"2017-06-20T00:00:00\", \"listens\": 27}, {\"date\": \"2017-12-22T00:00:00\", \"listens\": 27}, {\"date\": \"2017-11-18T00:00:00\", \"listens\": 27}, {\"date\": \"2016-10-25T00:00:00\", \"listens\": 27}, {\"date\": \"2018-09-23T00:00:00\", \"listens\": 26}, {\"date\": \"2019-01-06T00:00:00\", \"listens\": 26}, {\"date\": \"2017-07-16T00:00:00\", \"listens\": 26}, {\"date\": \"2019-01-12T00:00:00\", \"listens\": 26}, {\"date\": \"2018-01-03T00:00:00\", \"listens\": 26}, {\"date\": \"2017-06-19T00:00:00\", \"listens\": 26}, {\"date\": \"2016-11-05T00:00:00\", \"listens\": 26}, {\"date\": \"2018-11-04T00:00:00\", \"listens\": 26}, {\"date\": \"2018-01-01T00:00:00\", \"listens\": 26}, {\"date\": \"2017-10-24T00:00:00\", \"listens\": 26}, {\"date\": \"2017-10-10T00:00:00\", \"listens\": 26}, {\"date\": \"2017-09-05T00:00:00\", \"listens\": 25}, {\"date\": \"2013-10-11T00:00:00\", \"listens\": 25}, {\"date\": \"2017-05-06T00:00:00\", \"listens\": 25}, {\"date\": \"2017-12-10T00:00:00\", \"listens\": 25}, {\"date\": \"2017-07-17T00:00:00\", \"listens\": 25}, {\"date\": \"2017-10-18T00:00:00\", \"listens\": 25}, {\"date\": \"2017-09-03T00:00:00\", \"listens\": 25}, {\"date\": \"2018-07-30T00:00:00\", \"listens\": 25}, {\"date\": \"2018-05-26T00:00:00\", \"listens\": 25}, {\"date\": \"2017-09-08T00:00:00\", \"listens\": 25}, {\"date\": \"2018-05-02T00:00:00\", \"listens\": 25}, {\"date\": \"2018-12-21T00:00:00\", \"listens\": 24}, {\"date\": \"2017-11-04T00:00:00\", \"listens\": 24}, {\"date\": \"2017-12-28T00:00:00\", \"listens\": 24}, {\"date\": \"2016-12-06T00:00:00\", \"listens\": 24}, {\"date\": \"2018-11-23T00:00:00\", \"listens\": 24}, {\"date\": \"2018-02-24T00:00:00\", \"listens\": 24}, {\"date\": \"2017-10-09T00:00:00\", \"listens\": 24}, {\"date\": \"2018-06-13T00:00:00\", \"listens\": 24}, {\"date\": \"2018-01-02T00:00:00\", \"listens\": 23}, {\"date\": \"2017-12-30T00:00:00\", \"listens\": 23}, {\"date\": \"2017-04-22T00:00:00\", \"listens\": 23}, {\"date\": \"2017-10-25T00:00:00\", \"listens\": 23}, {\"date\": \"2018-05-01T00:00:00\", \"listens\": 23}, {\"date\": \"2019-01-01T00:00:00\", \"listens\": 23}, {\"date\": \"2017-04-27T00:00:00\", \"listens\": 23}, {\"date\": \"2017-09-20T00:00:00\", \"listens\": 23}, {\"date\": \"2018-01-13T00:00:00\", \"listens\": 23}, {\"date\": \"2018-07-25T00:00:00\", \"listens\": 23}, {\"date\": \"2017-11-28T00:00:00\", \"listens\": 22}, {\"date\": \"2013-10-09T00:00:00\", \"listens\": 22}, {\"date\": \"2017-02-20T00:00:00\", \"listens\": 22}, {\"date\": \"2018-09-22T00:00:00\", \"listens\": 22}, {\"date\": \"2018-02-15T00:00:00\", \"listens\": 22}, {\"date\": \"2017-01-07T00:00:00\", \"listens\": 22}, {\"date\": \"2016-11-13T00:00:00\", \"listens\": 22}, {\"date\": \"2017-02-26T00:00:00\", \"listens\": 21}, {\"date\": \"2017-10-05T00:00:00\", \"listens\": 21}, {\"date\": \"2018-02-12T00:00:00\", \"listens\": 21}, {\"date\": \"2018-10-14T00:00:00\", \"listens\": 21}, {\"date\": \"2017-11-05T00:00:00\", \"listens\": 21}, {\"date\": \"2017-07-24T00:00:00\", \"listens\": 21}, {\"date\": \"2018-03-04T00:00:00\", \"listens\": 21}, {\"date\": \"2018-07-16T00:00:00\", \"listens\": 21}, {\"date\": \"2015-04-11T00:00:00\", \"listens\": 21}, {\"date\": \"2013-10-10T00:00:00\", \"listens\": 21}, {\"date\": \"2016-11-03T00:00:00\", \"listens\": 20}, {\"date\": \"2015-11-20T00:00:00\", \"listens\": 20}, {\"date\": \"2018-03-24T00:00:00\", \"listens\": 20}, {\"date\": \"2017-02-01T00:00:00\", \"listens\": 20}, {\"date\": \"2017-06-21T00:00:00\", \"listens\": 20}, {\"date\": \"2017-04-03T00:00:00\", \"listens\": 20}, {\"date\": \"2018-06-30T00:00:00\", \"listens\": 20}, {\"date\": \"2017-08-27T00:00:00\", \"listens\": 20}, {\"date\": \"2017-09-12T00:00:00\", \"listens\": 20}, {\"date\": \"2019-01-05T00:00:00\", \"listens\": 20}, {\"date\": \"2017-09-17T00:00:00\", \"listens\": 20}, {\"date\": \"2015-12-30T00:00:00\", \"listens\": 20}, {\"date\": \"2018-04-09T00:00:00\", \"listens\": 20}, {\"date\": \"2017-11-29T00:00:00\", \"listens\": 19}, {\"date\": \"2016-11-20T00:00:00\", \"listens\": 19}, {\"date\": \"2018-04-29T00:00:00\", \"listens\": 19}, {\"date\": \"2018-12-30T00:00:00\", \"listens\": 19}, {\"date\": \"2017-09-29T00:00:00\", \"listens\": 19}, {\"date\": \"2017-03-04T00:00:00\", \"listens\": 19}, {\"date\": \"2018-08-18T00:00:00\", \"listens\": 19}, {\"date\": \"2017-11-06T00:00:00\", \"listens\": 18}, {\"date\": \"2017-10-17T00:00:00\", \"listens\": 18}, {\"date\": \"2018-12-31T00:00:00\", \"listens\": 18}, {\"date\": \"2017-11-03T00:00:00\", \"listens\": 18}, {\"date\": \"2016-09-21T00:00:00\", \"listens\": 18}, {\"date\": \"2018-01-09T00:00:00\", \"listens\": 18}, {\"date\": \"2018-11-11T00:00:00\", \"listens\": 18}, {\"date\": \"2018-03-01T00:00:00\", \"listens\": 18}, {\"date\": \"2017-05-09T00:00:00\", \"listens\": 18}, {\"date\": \"2017-04-05T00:00:00\", \"listens\": 18}, {\"date\": \"2018-07-31T00:00:00\", \"listens\": 17}, {\"date\": \"2017-08-20T00:00:00\", \"listens\": 17}, {\"date\": \"2015-11-24T00:00:00\", \"listens\": 17}, {\"date\": \"2017-11-25T00:00:00\", \"listens\": 17}, {\"date\": \"2017-03-13T00:00:00\", \"listens\": 17}, {\"date\": \"2017-06-24T00:00:00\", \"listens\": 17}, {\"date\": \"2016-09-23T00:00:00\", \"listens\": 17}, {\"date\": \"2018-08-23T00:00:00\", \"listens\": 17}, {\"date\": \"2017-09-06T00:00:00\", \"listens\": 17}, {\"date\": \"2017-04-16T00:00:00\", \"listens\": 17}, {\"date\": \"2018-06-27T00:00:00\", \"listens\": 17}, {\"date\": \"2018-10-21T00:00:00\", \"listens\": 17}, {\"date\": \"2017-09-24T00:00:00\", \"listens\": 17}, {\"date\": \"2016-12-08T00:00:00\", \"listens\": 17}, {\"date\": \"2017-11-17T00:00:00\", \"listens\": 17}, {\"date\": \"2016-11-24T00:00:00\", \"listens\": 17}, {\"date\": \"2016-10-04T00:00:00\", \"listens\": 17}, {\"date\": \"2018-08-10T00:00:00\", \"listens\": 17}, {\"date\": \"2019-01-20T00:00:00\", \"listens\": 17}, {\"date\": \"2018-09-29T00:00:00\", \"listens\": 17}, {\"date\": \"2017-03-21T00:00:00\", \"listens\": 16}, {\"date\": \"2018-08-28T00:00:00\", \"listens\": 16}, {\"date\": \"2018-02-28T00:00:00\", \"listens\": 16}, {\"date\": \"2017-08-03T00:00:00\", \"listens\": 16}, {\"date\": \"2017-07-21T00:00:00\", \"listens\": 16}, {\"date\": \"2015-11-25T00:00:00\", \"listens\": 16}, {\"date\": \"2018-12-29T00:00:00\", \"listens\": 16}, {\"date\": \"2017-05-14T00:00:00\", \"listens\": 15}, {\"date\": \"2018-05-21T00:00:00\", \"listens\": 15}, {\"date\": \"2016-09-16T00:00:00\", \"listens\": 15}, {\"date\": \"2017-12-16T00:00:00\", \"listens\": 15}, {\"date\": \"2017-12-23T00:00:00\", \"listens\": 15}, {\"date\": \"2017-04-06T00:00:00\", \"listens\": 15}, {\"date\": \"2016-10-07T00:00:00\", \"listens\": 15}, {\"date\": \"2017-04-18T00:00:00\", \"listens\": 15}, {\"date\": \"2016-12-15T00:00:00\", \"listens\": 14}, {\"date\": \"2016-12-25T00:00:00\", \"listens\": 14}, {\"date\": \"2017-12-18T00:00:00\", \"listens\": 14}, {\"date\": \"2016-01-08T00:00:00\", \"listens\": 14}, {\"date\": \"2017-07-19T00:00:00\", \"listens\": 14}, {\"date\": \"2016-10-26T00:00:00\", \"listens\": 14}, {\"date\": \"2018-01-05T00:00:00\", \"listens\": 14}, {\"date\": \"2015-11-19T00:00:00\", \"listens\": 13}, {\"date\": \"2017-12-13T00:00:00\", \"listens\": 13}, {\"date\": \"2017-01-27T00:00:00\", \"listens\": 13}, {\"date\": \"2018-12-01T00:00:00\", \"listens\": 13}, {\"date\": \"2016-12-11T00:00:00\", \"listens\": 13}, {\"date\": \"2018-03-31T00:00:00\", \"listens\": 13}, {\"date\": \"2017-05-20T00:00:00\", \"listens\": 13}, {\"date\": \"2015-12-03T00:00:00\", \"listens\": 13}, {\"date\": \"2018-04-24T00:00:00\", \"listens\": 13}, {\"date\": \"2018-10-15T00:00:00\", \"listens\": 13}, {\"date\": \"2017-08-30T00:00:00\", \"listens\": 13}, {\"date\": \"2015-11-17T00:00:00\", \"listens\": 13}, {\"date\": \"2018-06-26T00:00:00\", \"listens\": 13}, {\"date\": \"2017-07-27T00:00:00\", \"listens\": 13}, {\"date\": \"2018-07-22T00:00:00\", \"listens\": 13}, {\"date\": \"2017-02-28T00:00:00\", \"listens\": 12}, {\"date\": \"2016-06-30T00:00:00\", \"listens\": 12}, {\"date\": \"2017-07-26T00:00:00\", \"listens\": 12}, {\"date\": \"2018-07-23T00:00:00\", \"listens\": 12}, {\"date\": \"2018-11-22T00:00:00\", \"listens\": 12}, {\"date\": \"2015-10-21T00:00:00\", \"listens\": 12}, {\"date\": \"2018-04-28T00:00:00\", \"listens\": 12}, {\"date\": \"2018-12-23T00:00:00\", \"listens\": 12}, {\"date\": \"2017-08-06T00:00:00\", \"listens\": 12}, {\"date\": \"2018-08-04T00:00:00\", \"listens\": 12}, {\"date\": \"2018-09-09T00:00:00\", \"listens\": 12}, {\"date\": \"2016-07-05T00:00:00\", \"listens\": 12}, {\"date\": \"2017-06-11T00:00:00\", \"listens\": 12}, {\"date\": \"2018-08-15T00:00:00\", \"listens\": 11}, {\"date\": \"2018-04-30T00:00:00\", \"listens\": 11}, {\"date\": \"2018-11-24T00:00:00\", \"listens\": 11}, {\"date\": \"2014-08-18T00:00:00\", \"listens\": 11}, {\"date\": \"2016-10-05T00:00:00\", \"listens\": 11}, {\"date\": \"2017-01-19T00:00:00\", \"listens\": 11}, {\"date\": \"2017-09-30T00:00:00\", \"listens\": 11}, {\"date\": \"2017-07-09T00:00:00\", \"listens\": 11}, {\"date\": \"2013-10-22T00:00:00\", \"listens\": 11}, {\"date\": \"2017-10-01T00:00:00\", \"listens\": 11}, {\"date\": \"2013-10-12T00:00:00\", \"listens\": 11}, {\"date\": \"2018-02-11T00:00:00\", \"listens\": 10}, {\"date\": \"2018-03-18T00:00:00\", \"listens\": 10}, {\"date\": \"2016-09-27T00:00:00\", \"listens\": 10}, {\"date\": \"2017-04-24T00:00:00\", \"listens\": 10}, {\"date\": \"2017-07-23T00:00:00\", \"listens\": 10}, {\"date\": \"2017-01-28T00:00:00\", \"listens\": 10}, {\"date\": \"2017-10-15T00:00:00\", \"listens\": 10}, {\"date\": \"2015-12-08T00:00:00\", \"listens\": 10}, {\"date\": \"2017-01-04T00:00:00\", \"listens\": 10}, {\"date\": \"2018-03-29T00:00:00\", \"listens\": 10}, {\"date\": \"2017-08-31T00:00:00\", \"listens\": 10}, {\"date\": \"2017-08-05T00:00:00\", \"listens\": 10}, {\"date\": \"2018-06-23T00:00:00\", \"listens\": 10}, {\"date\": \"2017-07-28T00:00:00\", \"listens\": 10}, {\"date\": \"2017-08-13T00:00:00\", \"listens\": 10}, {\"date\": \"2017-08-16T00:00:00\", \"listens\": 10}, {\"date\": \"2017-11-26T00:00:00\", \"listens\": 10}, {\"date\": \"2018-07-29T00:00:00\", \"listens\": 10}, {\"date\": \"2018-10-20T00:00:00\", \"listens\": 10}, {\"date\": \"2013-10-14T00:00:00\", \"listens\": 9}, {\"date\": \"2017-09-23T00:00:00\", \"listens\": 9}, {\"date\": \"2018-09-15T00:00:00\", \"listens\": 9}, {\"date\": \"2016-07-14T00:00:00\", \"listens\": 9}, {\"date\": \"2016-08-17T00:00:00\", \"listens\": 9}, {\"date\": \"2017-02-25T00:00:00\", \"listens\": 9}, {\"date\": \"2017-07-22T00:00:00\", \"listens\": 9}, {\"date\": \"2016-08-14T00:00:00\", \"listens\": 9}, {\"date\": \"2017-04-15T00:00:00\", \"listens\": 9}, {\"date\": \"2015-12-13T00:00:00\", \"listens\": 8}, {\"date\": \"2016-12-14T00:00:00\", \"listens\": 8}, {\"date\": \"2017-07-31T00:00:00\", \"listens\": 8}, {\"date\": \"2018-01-28T00:00:00\", \"listens\": 8}, {\"date\": \"2017-08-02T00:00:00\", \"listens\": 8}, {\"date\": \"2018-08-17T00:00:00\", \"listens\": 8}, {\"date\": \"2015-07-15T00:00:00\", \"listens\": 8}, {\"date\": \"2017-10-21T00:00:00\", \"listens\": 8}, {\"date\": \"2018-04-26T00:00:00\", \"listens\": 8}, {\"date\": \"2016-01-09T00:00:00\", \"listens\": 8}, {\"date\": \"2017-04-07T00:00:00\", \"listens\": 8}, {\"date\": \"2016-01-31T00:00:00\", \"listens\": 8}, {\"date\": \"2013-10-13T00:00:00\", \"listens\": 8}, {\"date\": \"2018-03-25T00:00:00\", \"listens\": 8}, {\"date\": \"2017-05-11T00:00:00\", \"listens\": 7}, {\"date\": \"2018-04-15T00:00:00\", \"listens\": 7}, {\"date\": \"2017-06-02T00:00:00\", \"listens\": 7}, {\"date\": \"2017-08-01T00:00:00\", \"listens\": 7}, {\"date\": \"2017-10-29T00:00:00\", \"listens\": 7}, {\"date\": \"2016-09-22T00:00:00\", \"listens\": 7}, {\"date\": \"2016-02-23T00:00:00\", \"listens\": 7}, {\"date\": \"2016-12-19T00:00:00\", \"listens\": 7}, {\"date\": \"2018-04-01T00:00:00\", \"listens\": 7}, {\"date\": \"2017-07-29T00:00:00\", \"listens\": 7}, {\"date\": \"2013-10-18T00:00:00\", \"listens\": 6}, {\"date\": \"2018-12-22T00:00:00\", \"listens\": 6}, {\"date\": \"2018-11-10T00:00:00\", \"listens\": 6}, {\"date\": \"2017-08-12T00:00:00\", \"listens\": 6}, {\"date\": \"2016-10-08T00:00:00\", \"listens\": 6}, {\"date\": \"2017-04-09T00:00:00\", \"listens\": 6}, {\"date\": \"2017-08-10T00:00:00\", \"listens\": 6}, {\"date\": \"2017-04-29T00:00:00\", \"listens\": 6}, {\"date\": \"2016-10-15T00:00:00\", \"listens\": 6}, {\"date\": \"2017-09-10T00:00:00\", \"listens\": 6}, {\"date\": \"2017-11-19T00:00:00\", \"listens\": 6}, {\"date\": \"2015-05-03T00:00:00\", \"listens\": 6}, {\"date\": \"2016-10-13T00:00:00\", \"listens\": 6}, {\"date\": \"2015-12-09T00:00:00\", \"listens\": 5}, {\"date\": \"2017-01-21T00:00:00\", \"listens\": 5}, {\"date\": \"2018-05-19T00:00:00\", \"listens\": 5}, {\"date\": \"2017-11-01T00:00:00\", \"listens\": 5}, {\"date\": \"2018-01-14T00:00:00\", \"listens\": 5}, {\"date\": \"2017-03-11T00:00:00\", \"listens\": 5}, {\"date\": \"2017-07-30T00:00:00\", \"listens\": 5}, {\"date\": \"2018-11-18T00:00:00\", \"listens\": 4}, {\"date\": \"2016-10-03T00:00:00\", \"listens\": 4}, {\"date\": \"2016-10-11T00:00:00\", \"listens\": 4}, {\"date\": \"2016-01-20T00:00:00\", \"listens\": 4}, {\"date\": \"2017-12-03T00:00:00\", \"listens\": 4}, {\"date\": \"2017-08-08T00:00:00\", \"listens\": 4}, {\"date\": \"2016-10-16T00:00:00\", \"listens\": 4}, {\"date\": \"2017-11-12T00:00:00\", \"listens\": 4}, {\"date\": \"2015-12-14T00:00:00\", \"listens\": 4}, {\"date\": \"2017-05-26T00:00:00\", \"listens\": 4}, {\"date\": \"2016-09-24T00:00:00\", \"listens\": 4}, {\"date\": \"2017-03-15T00:00:00\", \"listens\": 4}, {\"date\": \"2016-12-12T00:00:00\", \"listens\": 4}, {\"date\": \"2017-05-07T00:00:00\", \"listens\": 4}, {\"date\": \"2016-04-18T00:00:00\", \"listens\": 4}, {\"date\": \"2017-08-25T00:00:00\", \"listens\": 3}, {\"date\": \"2017-08-04T00:00:00\", \"listens\": 3}, {\"date\": \"2017-05-03T00:00:00\", \"listens\": 3}, {\"date\": \"2018-02-10T00:00:00\", \"listens\": 3}, {\"date\": \"2017-09-13T00:00:00\", \"listens\": 3}, {\"date\": \"2016-09-28T00:00:00\", \"listens\": 3}, {\"date\": \"2017-10-06T00:00:00\", \"listens\": 3}, {\"date\": \"2017-02-04T00:00:00\", \"listens\": 3}, {\"date\": \"2017-05-17T00:00:00\", \"listens\": 3}, {\"date\": \"2017-06-05T00:00:00\", \"listens\": 3}, {\"date\": \"2017-02-17T00:00:00\", \"listens\": 3}, {\"date\": \"2016-07-06T00:00:00\", \"listens\": 3}, {\"date\": \"2016-05-17T00:00:00\", \"listens\": 3}, {\"date\": \"2018-02-25T00:00:00\", \"listens\": 2}, {\"date\": \"2013-10-19T00:00:00\", \"listens\": 2}, {\"date\": \"2016-01-18T00:00:00\", \"listens\": 2}, {\"date\": \"2014-08-19T00:00:00\", \"listens\": 2}, {\"date\": \"2015-12-18T00:00:00\", \"listens\": 2}, {\"date\": \"2016-11-11T00:00:00\", \"listens\": 2}, {\"date\": \"2016-10-31T00:00:00\", \"listens\": 2}, {\"date\": \"2015-05-06T00:00:00\", \"listens\": 2}, {\"date\": \"2018-08-16T00:00:00\", \"listens\": 2}, {\"date\": \"2017-04-30T00:00:00\", \"listens\": 2}, {\"date\": \"2013-12-27T00:00:00\", \"listens\": 2}, {\"date\": \"2015-11-27T00:00:00\", \"listens\": 2}, {\"date\": \"2015-10-23T00:00:00\", \"listens\": 2}, {\"date\": \"2017-11-24T00:00:00\", \"listens\": 1}, {\"date\": \"2016-01-14T00:00:00\", \"listens\": 1}, {\"date\": \"2017-03-24T00:00:00\", \"listens\": 1}, {\"date\": \"2015-11-18T00:00:00\", \"listens\": 1}, {\"date\": \"2016-10-22T00:00:00\", \"listens\": 1}, {\"date\": \"2018-02-18T00:00:00\", \"listens\": 1}, {\"date\": \"2016-05-12T00:00:00\", \"listens\": 1}, {\"date\": \"2016-10-02T00:00:00\", \"listens\": 1}, {\"date\": \"2017-08-17T00:00:00\", \"listens\": 1}, {\"date\": \"2017-05-13T00:00:00\", \"listens\": 1}, {\"date\": \"2016-01-19T00:00:00\", \"listens\": 1}, {\"date\": \"2018-07-01T00:00:00\", \"listens\": 1}, {\"date\": \"2016-12-20T00:00:00\", \"listens\": 1}, {\"date\": \"2017-05-31T00:00:00\", \"listens\": 1}, {\"date\": \"2016-12-02T00:00:00\", \"listens\": 1}, {\"date\": \"2017-01-29T00:00:00\", \"listens\": 1}, {\"date\": \"2017-03-22T00:00:00\", \"listens\": 1}, {\"date\": \"2016-10-21T00:00:00\", \"listens\": 1}, {\"date\": \"2017-05-01T00:00:00\", \"listens\": 1}, {\"date\": \"2017-05-22T00:00:00\", \"listens\": 1}, {\"date\": \"2016-01-13T00:00:00\", \"listens\": 1}]}}, {\"mode\": \"vega-lite\"});\n",
       "</script>"
      ],
      "text/plain": [
       "alt.HConcatChart(...)"
      ]
     },
     "execution_count": 7,
     "metadata": {},
     "output_type": "execute_result"
    }
   ],
   "source": [
    "#collapse-hide\n",
    "t = (\n",
    "    df.ts.dt  # Use the datetime attributes of the ts column\n",
    "    .to_period('D')  # Convert the ts column to a 'date' period. So the timestamp is reduced to a date like '28-2-2020'.\n",
    "    .value_counts()  # Counts the frequency of all days (i.e. count how many songs were played that day).\n",
    "    .to_timestamp()  # The index is a RangeIndex after the `to_period`, so we convert it back to a datetime.\n",
    "    .to_frame()      # Altair wants dataframes, so we convert it to a dataframe.\n",
    "    .reset_index()   # Make the datetime index a separate column instead of the index. \n",
    "    .rename(columns={'index': 'date', 'ts': 'listens'})  # Rename the columns to be descriptive\n",
    ")\n",
    "\n",
    "yearly = alt.Chart(t).mark_bar(size=30).encode(\n",
    "    alt.X('year(date):O', title='Year'),\n",
    "    alt.Y('sum(listens):Q', title='Listens'),\n",
    "    tooltip=['sum(listens)', 'year(date)']\n",
    ").properties(width=MAXWIDTH/2)\n",
    "\n",
    "monthly = alt.Chart(t).mark_bar().encode(\n",
    "    alt.X('yearmonth(date):O', title='Month'),\n",
    "    alt.Y('sum(listens):Q', title='Listens'),\n",
    "    tooltip=['sum(listens)', 'yearmonth(date)'],\n",
    ").properties(width=MAXWIDTH/2)\n",
    "\n",
    "# Altair allows really easy formatting, having horizontal concatenation with the | operator\n",
    "yearly | monthly"
   ]
  },
  {
   "cell_type": "markdown",
   "metadata": {},
   "source": [
    "In the plots above you see my total songs listened. It immediately becomes clear that I got my data in early 2019, given the drop in 2019 and lack of data in 2020. But what is interesting is the steady increasing line the previous years. It shows that I slowly started using spotify more and more. The start coincides with when I started paying for Spotify as well, which is not very surprising (Yay for no ads and song selection 🤗). \n",
    "\n",
    "When looking at the number of songs per month, we can still see a decline in listening activity since the spike at October 2018. The peak that ranges from September 2018 to November 2018 can be explained by me starting a new internship where I was playing spotify while working the whole day. In October my total songs listened more than doubled compared to only two months earlier (1615 to 3273 songs played).\n",
    "\n",
    "Furthermore, we can see that I also used Spotify for a short while in 2016, but stopped using it again for about a year. Then I picked it up again in 2017 and never stopped using it afterwards. This is likely because I was using the web version of Spotify for a while, where you can use adblock to block the ads. But not being able to use it on your phone reduced the utility of Spotify pretty significantly, so I switched back over to my previous way, which was a combination of Poweramp and Google Play Music. "
   ]
  },
  {
   "cell_type": "markdown",
   "metadata": {},
   "source": [
    "# Daily behaviour 🕺\n",
    "Well, I'm already learning a lot about Altair, cause creating this plot in its current form easily took three hours. Altair does not like it when you aggregate a value in several places. _But_ the result is also quite a nice visual. I plotted the daily distribution per hours per year. Now, the value is the sum of the whole year, so it's no wonder that the differences are really similar to what we say in the yearly distribution. More interesting would be the percentage per hour per year, which would tell me something about my listening behaviour throughout the years. \n",
    "\n",
    "_The yearly visuals only show 2016 till 2019, because the others years don't have enough data._"
   ]
  },
  {
   "cell_type": "code",
   "execution_count": 9,
   "metadata": {},
   "outputs": [
    {
     "data": {
      "text/html": [
       "\n",
       "<div id=\"altair-viz-2db76e8fed5e40c7a4da74da6c89da2d\"></div>\n",
       "<script type=\"text/javascript\">\n",
       "  (function(spec, embedOpt){\n",
       "    let outputDiv = document.currentScript.previousElementSibling;\n",
       "    if (outputDiv.id !== \"altair-viz-2db76e8fed5e40c7a4da74da6c89da2d\") {\n",
       "      outputDiv = document.getElementById(\"altair-viz-2db76e8fed5e40c7a4da74da6c89da2d\");\n",
       "    }\n",
       "    const paths = {\n",
       "      \"vega\": \"https://cdn.jsdelivr.net/npm//vega@5?noext\",\n",
       "      \"vega-lib\": \"https://cdn.jsdelivr.net/npm//vega-lib?noext\",\n",
       "      \"vega-lite\": \"https://cdn.jsdelivr.net/npm//vega-lite@4.8.1?noext\",\n",
       "      \"vega-embed\": \"https://cdn.jsdelivr.net/npm//vega-embed@6?noext\",\n",
       "    };\n",
       "\n",
       "    function loadScript(lib) {\n",
       "      return new Promise(function(resolve, reject) {\n",
       "        var s = document.createElement('script');\n",
       "        s.src = paths[lib];\n",
       "        s.async = true;\n",
       "        s.onload = () => resolve(paths[lib]);\n",
       "        s.onerror = () => reject(`Error loading script: ${paths[lib]}`);\n",
       "        document.getElementsByTagName(\"head\")[0].appendChild(s);\n",
       "      });\n",
       "    }\n",
       "\n",
       "    function showError(err) {\n",
       "      outputDiv.innerHTML = `<div class=\"error\" style=\"color:red;\">${err}</div>`;\n",
       "      throw err;\n",
       "    }\n",
       "\n",
       "    function displayChart(vegaEmbed) {\n",
       "      vegaEmbed(outputDiv, spec, embedOpt)\n",
       "        .catch(err => showError(`Javascript Error: ${err.message}<br>This usually means there's a typo in your chart specification. See the javascript console for the full traceback.`));\n",
       "    }\n",
       "\n",
       "    if(typeof define === \"function\" && define.amd) {\n",
       "      requirejs.config({paths});\n",
       "      require([\"vega-embed\"], displayChart, err => showError(`Error loading script: ${err.message}`));\n",
       "    } else if (typeof vegaEmbed === \"function\") {\n",
       "      displayChart(vegaEmbed);\n",
       "    } else {\n",
       "      loadScript(\"vega\")\n",
       "        .then(() => loadScript(\"vega-lite\"))\n",
       "        .then(() => loadScript(\"vega-embed\"))\n",
       "        .catch(showError)\n",
       "        .then(() => displayChart(vegaEmbed));\n",
       "    }\n",
       "  })({\"usermeta\": {\"embedOptions\": {\"theme\": \"latimes\"}}, \"config\": {\"view\": {\"continuousWidth\": 400, \"continuousHeight\": 300}}, \"vconcat\": [{\"layer\": [{\"mark\": \"line\", \"encoding\": {\"color\": {\"type\": \"nominal\", \"field\": \"year\"}, \"x\": {\"type\": \"temporal\", \"field\": \"hour\", \"title\": \"Hour\"}, \"y\": {\"type\": \"quantitative\", \"field\": \"count\", \"title\": \"Listens\"}}, \"title\": \"Sum of listens per hour per year\", \"transform\": [{\"filter\": {\"field\": \"year\", \"oneOf\": [2016, 2017, 2018, 2019]}}]}, {\"mark\": {\"type\": \"rule\", \"color\": \"#aaa\"}, \"encoding\": {\"x\": {\"type\": \"ordinal\", \"field\": \"hour\"}}, \"transform\": [{\"filter\": {\"selection\": \"selector001\"}}]}, {\"mark\": \"circle\", \"encoding\": {\"color\": {\"type\": \"nominal\", \"field\": \"year\"}, \"opacity\": {\"condition\": {\"value\": 1, \"selection\": \"selector001\"}, \"value\": 0}, \"x\": {\"type\": \"temporal\", \"field\": \"hour\", \"title\": \"Hour\"}, \"y\": {\"type\": \"quantitative\", \"field\": \"count\", \"title\": \"Listens\"}}, \"selection\": {\"selector001\": {\"type\": \"single\", \"encodings\": [\"x\"], \"on\": \"mouseover\", \"nearest\": true, \"empty\": \"none\"}}, \"transform\": [{\"filter\": {\"field\": \"year\", \"oneOf\": [2016, 2017, 2018, 2019]}}]}, {\"mark\": {\"type\": \"text\", \"align\": \"left\", \"dx\": 5, \"dy\": -5, \"stroke\": \"white\", \"strokeWidth\": 2}, \"encoding\": {\"color\": {\"type\": \"nominal\", \"field\": \"year\"}, \"text\": {\"type\": \"quantitative\", \"aggregate\": \"sum\", \"field\": \"count\"}, \"x\": {\"type\": \"temporal\", \"field\": \"hour\", \"title\": \"Hour\"}, \"y\": {\"type\": \"quantitative\", \"field\": \"count\", \"title\": \"Listens\"}}, \"transform\": [{\"filter\": {\"field\": \"year\", \"oneOf\": [2016, 2017, 2018, 2019]}}, {\"filter\": {\"selection\": \"selector001\"}}]}, {\"mark\": {\"type\": \"text\", \"align\": \"left\", \"dx\": 5, \"dy\": -5}, \"encoding\": {\"color\": {\"type\": \"nominal\", \"field\": \"year\"}, \"text\": {\"type\": \"quantitative\", \"aggregate\": \"sum\", \"field\": \"count\"}, \"x\": {\"type\": \"temporal\", \"field\": \"hour\", \"title\": \"Hour\"}, \"y\": {\"type\": \"quantitative\", \"field\": \"count\", \"title\": \"Listens\"}}, \"transform\": [{\"filter\": {\"field\": \"year\", \"oneOf\": [2016, 2017, 2018, 2019]}}, {\"filter\": {\"selection\": \"selector001\"}}]}], \"data\": {\"name\": \"data-0187552695ff6798193cfef9dfa2651e\"}, \"height\": 200, \"width\": 640}, {\"layer\": [{\"mark\": \"line\", \"encoding\": {\"color\": {\"type\": \"nominal\", \"field\": \"year\"}, \"x\": {\"type\": \"temporal\", \"field\": \"hour\", \"title\": \"Hour\"}, \"y\": {\"type\": \"quantitative\", \"field\": \"count\", \"title\": \"Listens\"}}, \"title\": \"Percentage of listens per hour per year\", \"transform\": [{\"filter\": {\"field\": \"year\", \"oneOf\": [2016, 2017, 2018, 2019]}}]}, {\"mark\": {\"type\": \"rule\", \"color\": \"#aaa\"}, \"encoding\": {\"x\": {\"type\": \"ordinal\", \"field\": \"hour\"}}, \"transform\": [{\"filter\": {\"selection\": \"selector001\"}}]}, {\"mark\": \"circle\", \"encoding\": {\"color\": {\"type\": \"nominal\", \"field\": \"year\"}, \"opacity\": {\"condition\": {\"value\": 1, \"selection\": \"selector001\"}, \"value\": 0}, \"x\": {\"type\": \"temporal\", \"field\": \"hour\", \"title\": \"Hour\"}, \"y\": {\"type\": \"quantitative\", \"field\": \"count\", \"title\": \"Listens\"}}, \"selection\": {\"selector001\": {\"type\": \"single\", \"encodings\": [\"x\"], \"on\": \"mouseover\", \"nearest\": true, \"empty\": \"none\"}}, \"transform\": [{\"filter\": {\"field\": \"year\", \"oneOf\": [2016, 2017, 2018, 2019]}}]}, {\"mark\": {\"type\": \"text\", \"align\": \"left\", \"dx\": 5, \"dy\": -5, \"stroke\": \"white\", \"strokeWidth\": 2}, \"encoding\": {\"color\": {\"type\": \"nominal\", \"field\": \"year\"}, \"text\": {\"type\": \"quantitative\", \"aggregate\": \"sum\", \"field\": \"count\"}, \"x\": {\"type\": \"temporal\", \"field\": \"hour\", \"title\": \"Hour\"}, \"y\": {\"type\": \"quantitative\", \"field\": \"count\", \"title\": \"Listens\"}}, \"transform\": [{\"filter\": {\"field\": \"year\", \"oneOf\": [2016, 2017, 2018, 2019]}}, {\"filter\": {\"selection\": \"selector001\"}}]}, {\"mark\": {\"type\": \"text\", \"align\": \"left\", \"dx\": 5, \"dy\": -5}, \"encoding\": {\"color\": {\"type\": \"nominal\", \"field\": \"year\"}, \"text\": {\"type\": \"quantitative\", \"aggregate\": \"sum\", \"field\": \"count\"}, \"x\": {\"type\": \"temporal\", \"field\": \"hour\", \"title\": \"Hour\"}, \"y\": {\"type\": \"quantitative\", \"field\": \"count\", \"title\": \"Listens\"}}, \"transform\": [{\"filter\": {\"field\": \"year\", \"oneOf\": [2016, 2017, 2018, 2019]}}, {\"filter\": {\"selection\": \"selector001\"}}]}], \"data\": {\"name\": \"data-48044bdc3cc0feeac970edfbb745f045\"}, \"height\": 200, \"width\": 640}, {\"data\": {\"name\": \"data-0187552695ff6798193cfef9dfa2651e\"}, \"mark\": \"bar\", \"encoding\": {\"x\": {\"type\": \"ordinal\", \"field\": \"hour\", \"title\": \"Hour\"}, \"y\": {\"type\": \"quantitative\", \"aggregate\": \"sum\", \"field\": \"count\", \"title\": \"Listens\"}}, \"height\": 100, \"title\": \"Sum of listens per hour\", \"width\": 640}], \"$schema\": \"https://vega.github.io/schema/vega-lite/v4.8.1.json\", \"datasets\": {\"data-0187552695ff6798193cfef9dfa2651e\": [{\"year\": 2013, \"hour\": 0, \"count\": 2}, {\"year\": 2013, \"hour\": 10, \"count\": 1}, {\"year\": 2013, \"hour\": 11, \"count\": 13}, {\"year\": 2013, \"hour\": 12, \"count\": 12}, {\"year\": 2013, \"hour\": 14, \"count\": 4}, {\"year\": 2013, \"hour\": 15, \"count\": 5}, {\"year\": 2013, \"hour\": 16, \"count\": 4}, {\"year\": 2013, \"hour\": 17, \"count\": 9}, {\"year\": 2013, \"hour\": 18, \"count\": 29}, {\"year\": 2013, \"hour\": 19, \"count\": 8}, {\"year\": 2013, \"hour\": 20, \"count\": 24}, {\"year\": 2013, \"hour\": 21, \"count\": 3}, {\"year\": 2013, \"hour\": 22, \"count\": 2}, {\"year\": 2013, \"hour\": 23, \"count\": 1}, {\"year\": 2014, \"hour\": 11, \"count\": 2}, {\"year\": 2014, \"hour\": 13, \"count\": 5}, {\"year\": 2014, \"hour\": 22, \"count\": 6}, {\"year\": 2015, \"hour\": 0, \"count\": 5}, {\"year\": 2015, \"hour\": 2, \"count\": 4}, {\"year\": 2015, \"hour\": 3, \"count\": 12}, {\"year\": 2015, \"hour\": 8, \"count\": 4}, {\"year\": 2015, \"hour\": 9, \"count\": 7}, {\"year\": 2015, \"hour\": 10, \"count\": 2}, {\"year\": 2015, \"hour\": 11, \"count\": 26}, {\"year\": 2015, \"hour\": 12, \"count\": 21}, {\"year\": 2015, \"hour\": 13, \"count\": 24}, {\"year\": 2015, \"hour\": 14, \"count\": 5}, {\"year\": 2015, \"hour\": 15, \"count\": 22}, {\"year\": 2015, \"hour\": 16, \"count\": 2}, {\"year\": 2015, \"hour\": 17, \"count\": 8}, {\"year\": 2015, \"hour\": 19, \"count\": 8}, {\"year\": 2015, \"hour\": 20, \"count\": 8}, {\"year\": 2015, \"hour\": 21, \"count\": 22}, {\"year\": 2015, \"hour\": 22, \"count\": 14}, {\"year\": 2015, \"hour\": 23, \"count\": 1}, {\"year\": 2016, \"hour\": 0, \"count\": 2}, {\"year\": 2016, \"hour\": 1, \"count\": 1}, {\"year\": 2016, \"hour\": 7, \"count\": 13}, {\"year\": 2016, \"hour\": 8, \"count\": 40}, {\"year\": 2016, \"hour\": 9, \"count\": 133}, {\"year\": 2016, \"hour\": 10, \"count\": 79}, {\"year\": 2016, \"hour\": 11, \"count\": 94}, {\"year\": 2016, \"hour\": 12, \"count\": 141}, {\"year\": 2016, \"hour\": 13, \"count\": 194}, {\"year\": 2016, \"hour\": 14, \"count\": 113}, {\"year\": 2016, \"hour\": 15, \"count\": 99}, {\"year\": 2016, \"hour\": 16, \"count\": 36}, {\"year\": 2016, \"hour\": 17, \"count\": 20}, {\"year\": 2016, \"hour\": 18, \"count\": 22}, {\"year\": 2016, \"hour\": 19, \"count\": 15}, {\"year\": 2016, \"hour\": 20, \"count\": 17}, {\"year\": 2016, \"hour\": 21, \"count\": 26}, {\"year\": 2016, \"hour\": 22, \"count\": 45}, {\"year\": 2016, \"hour\": 23, \"count\": 13}, {\"year\": 2017, \"hour\": 0, \"count\": 128}, {\"year\": 2017, \"hour\": 1, \"count\": 60}, {\"year\": 2017, \"hour\": 2, \"count\": 49}, {\"year\": 2017, \"hour\": 3, \"count\": 21}, {\"year\": 2017, \"hour\": 4, \"count\": 37}, {\"year\": 2017, \"hour\": 5, \"count\": 168}, {\"year\": 2017, \"hour\": 6, \"count\": 419}, {\"year\": 2017, \"hour\": 7, \"count\": 568}, {\"year\": 2017, \"hour\": 8, \"count\": 723}, {\"year\": 2017, \"hour\": 9, \"count\": 1034}, {\"year\": 2017, \"hour\": 10, \"count\": 892}, {\"year\": 2017, \"hour\": 11, \"count\": 940}, {\"year\": 2017, \"hour\": 12, \"count\": 1007}, {\"year\": 2017, \"hour\": 13, \"count\": 973}, {\"year\": 2017, \"hour\": 14, \"count\": 758}, {\"year\": 2017, \"hour\": 15, \"count\": 742}, {\"year\": 2017, \"hour\": 16, \"count\": 452}, {\"year\": 2017, \"hour\": 17, \"count\": 339}, {\"year\": 2017, \"hour\": 18, \"count\": 346}, {\"year\": 2017, \"hour\": 19, \"count\": 290}, {\"year\": 2017, \"hour\": 20, \"count\": 246}, {\"year\": 2017, \"hour\": 21, \"count\": 333}, {\"year\": 2017, \"hour\": 22, \"count\": 436}, {\"year\": 2017, \"hour\": 23, \"count\": 268}, {\"year\": 2018, \"hour\": 0, \"count\": 103}, {\"year\": 2018, \"hour\": 1, \"count\": 127}, {\"year\": 2018, \"hour\": 2, \"count\": 180}, {\"year\": 2018, \"hour\": 3, \"count\": 152}, {\"year\": 2018, \"hour\": 4, \"count\": 54}, {\"year\": 2018, \"hour\": 5, \"count\": 314}, {\"year\": 2018, \"hour\": 6, \"count\": 908}, {\"year\": 2018, \"hour\": 7, \"count\": 1502}, {\"year\": 2018, \"hour\": 8, \"count\": 1740}, {\"year\": 2018, \"hour\": 9, \"count\": 2071}, {\"year\": 2018, \"hour\": 10, \"count\": 2088}, {\"year\": 2018, \"hour\": 11, \"count\": 2086}, {\"year\": 2018, \"hour\": 12, \"count\": 2242}, {\"year\": 2018, \"hour\": 13, \"count\": 2113}, {\"year\": 2018, \"hour\": 14, \"count\": 2204}, {\"year\": 2018, \"hour\": 15, \"count\": 1576}, {\"year\": 2018, \"hour\": 16, \"count\": 1262}, {\"year\": 2018, \"hour\": 17, \"count\": 920}, {\"year\": 2018, \"hour\": 18, \"count\": 775}, {\"year\": 2018, \"hour\": 19, \"count\": 660}, {\"year\": 2018, \"hour\": 20, \"count\": 686}, {\"year\": 2018, \"hour\": 21, \"count\": 615}, {\"year\": 2018, \"hour\": 22, \"count\": 344}, {\"year\": 2018, \"hour\": 23, \"count\": 327}, {\"year\": 2019, \"hour\": 0, \"count\": 4}, {\"year\": 2019, \"hour\": 1, \"count\": 1}, {\"year\": 2019, \"hour\": 2, \"count\": 2}, {\"year\": 2019, \"hour\": 3, \"count\": 7}, {\"year\": 2019, \"hour\": 4, \"count\": 3}, {\"year\": 2019, \"hour\": 5, \"count\": 1}, {\"year\": 2019, \"hour\": 6, \"count\": 23}, {\"year\": 2019, \"hour\": 7, \"count\": 111}, {\"year\": 2019, \"hour\": 8, \"count\": 100}, {\"year\": 2019, \"hour\": 9, \"count\": 90}, {\"year\": 2019, \"hour\": 10, \"count\": 133}, {\"year\": 2019, \"hour\": 11, \"count\": 119}, {\"year\": 2019, \"hour\": 12, \"count\": 180}, {\"year\": 2019, \"hour\": 13, \"count\": 189}, {\"year\": 2019, \"hour\": 14, \"count\": 176}, {\"year\": 2019, \"hour\": 15, \"count\": 135}, {\"year\": 2019, \"hour\": 16, \"count\": 98}, {\"year\": 2019, \"hour\": 17, \"count\": 105}, {\"year\": 2019, \"hour\": 18, \"count\": 19}, {\"year\": 2019, \"hour\": 19, \"count\": 12}, {\"year\": 2019, \"hour\": 20, \"count\": 10}, {\"year\": 2019, \"hour\": 21, \"count\": 3}, {\"year\": 2019, \"hour\": 22, \"count\": 1}, {\"year\": 2019, \"hour\": 23, \"count\": 1}], \"data-48044bdc3cc0feeac970edfbb745f045\": [{\"year\": 2013, \"hour\": 0, \"count\": 0.02}, {\"year\": 2013, \"hour\": 10, \"count\": 0.01}, {\"year\": 2013, \"hour\": 11, \"count\": 0.11}, {\"year\": 2013, \"hour\": 12, \"count\": 0.1}, {\"year\": 2013, \"hour\": 14, \"count\": 0.03}, {\"year\": 2013, \"hour\": 15, \"count\": 0.04}, {\"year\": 2013, \"hour\": 16, \"count\": 0.03}, {\"year\": 2013, \"hour\": 17, \"count\": 0.08}, {\"year\": 2013, \"hour\": 18, \"count\": 0.25}, {\"year\": 2013, \"hour\": 19, \"count\": 0.07}, {\"year\": 2013, \"hour\": 20, \"count\": 0.21}, {\"year\": 2013, \"hour\": 21, \"count\": 0.03}, {\"year\": 2013, \"hour\": 22, \"count\": 0.02}, {\"year\": 2013, \"hour\": 23, \"count\": 0.01}, {\"year\": 2014, \"hour\": 11, \"count\": 0.15}, {\"year\": 2014, \"hour\": 13, \"count\": 0.38}, {\"year\": 2014, \"hour\": 22, \"count\": 0.46}, {\"year\": 2015, \"hour\": 0, \"count\": 0.03}, {\"year\": 2015, \"hour\": 2, \"count\": 0.02}, {\"year\": 2015, \"hour\": 3, \"count\": 0.06}, {\"year\": 2015, \"hour\": 8, \"count\": 0.02}, {\"year\": 2015, \"hour\": 9, \"count\": 0.04}, {\"year\": 2015, \"hour\": 10, \"count\": 0.01}, {\"year\": 2015, \"hour\": 11, \"count\": 0.13}, {\"year\": 2015, \"hour\": 12, \"count\": 0.11}, {\"year\": 2015, \"hour\": 13, \"count\": 0.12}, {\"year\": 2015, \"hour\": 14, \"count\": 0.03}, {\"year\": 2015, \"hour\": 15, \"count\": 0.11}, {\"year\": 2015, \"hour\": 16, \"count\": 0.01}, {\"year\": 2015, \"hour\": 17, \"count\": 0.04}, {\"year\": 2015, \"hour\": 19, \"count\": 0.04}, {\"year\": 2015, \"hour\": 20, \"count\": 0.04}, {\"year\": 2015, \"hour\": 21, \"count\": 0.11}, {\"year\": 2015, \"hour\": 22, \"count\": 0.07}, {\"year\": 2015, \"hour\": 23, \"count\": 0.01}, {\"year\": 2016, \"hour\": 0, \"count\": 0.0}, {\"year\": 2016, \"hour\": 1, \"count\": 0.0}, {\"year\": 2016, \"hour\": 7, \"count\": 0.01}, {\"year\": 2016, \"hour\": 8, \"count\": 0.04}, {\"year\": 2016, \"hour\": 9, \"count\": 0.12}, {\"year\": 2016, \"hour\": 10, \"count\": 0.07}, {\"year\": 2016, \"hour\": 11, \"count\": 0.09}, {\"year\": 2016, \"hour\": 12, \"count\": 0.13}, {\"year\": 2016, \"hour\": 13, \"count\": 0.18}, {\"year\": 2016, \"hour\": 14, \"count\": 0.1}, {\"year\": 2016, \"hour\": 15, \"count\": 0.09}, {\"year\": 2016, \"hour\": 16, \"count\": 0.03}, {\"year\": 2016, \"hour\": 17, \"count\": 0.02}, {\"year\": 2016, \"hour\": 18, \"count\": 0.02}, {\"year\": 2016, \"hour\": 19, \"count\": 0.01}, {\"year\": 2016, \"hour\": 20, \"count\": 0.02}, {\"year\": 2016, \"hour\": 21, \"count\": 0.02}, {\"year\": 2016, \"hour\": 22, \"count\": 0.04}, {\"year\": 2016, \"hour\": 23, \"count\": 0.01}, {\"year\": 2017, \"hour\": 0, \"count\": 0.01}, {\"year\": 2017, \"hour\": 1, \"count\": 0.01}, {\"year\": 2017, \"hour\": 2, \"count\": 0.0}, {\"year\": 2017, \"hour\": 3, \"count\": 0.0}, {\"year\": 2017, \"hour\": 4, \"count\": 0.0}, {\"year\": 2017, \"hour\": 5, \"count\": 0.01}, {\"year\": 2017, \"hour\": 6, \"count\": 0.04}, {\"year\": 2017, \"hour\": 7, \"count\": 0.05}, {\"year\": 2017, \"hour\": 8, \"count\": 0.06}, {\"year\": 2017, \"hour\": 9, \"count\": 0.09}, {\"year\": 2017, \"hour\": 10, \"count\": 0.08}, {\"year\": 2017, \"hour\": 11, \"count\": 0.08}, {\"year\": 2017, \"hour\": 12, \"count\": 0.09}, {\"year\": 2017, \"hour\": 13, \"count\": 0.09}, {\"year\": 2017, \"hour\": 14, \"count\": 0.07}, {\"year\": 2017, \"hour\": 15, \"count\": 0.07}, {\"year\": 2017, \"hour\": 16, \"count\": 0.04}, {\"year\": 2017, \"hour\": 17, \"count\": 0.03}, {\"year\": 2017, \"hour\": 18, \"count\": 0.03}, {\"year\": 2017, \"hour\": 19, \"count\": 0.03}, {\"year\": 2017, \"hour\": 20, \"count\": 0.02}, {\"year\": 2017, \"hour\": 21, \"count\": 0.03}, {\"year\": 2017, \"hour\": 22, \"count\": 0.04}, {\"year\": 2017, \"hour\": 23, \"count\": 0.02}, {\"year\": 2018, \"hour\": 0, \"count\": 0.0}, {\"year\": 2018, \"hour\": 1, \"count\": 0.01}, {\"year\": 2018, \"hour\": 2, \"count\": 0.01}, {\"year\": 2018, \"hour\": 3, \"count\": 0.01}, {\"year\": 2018, \"hour\": 4, \"count\": 0.0}, {\"year\": 2018, \"hour\": 5, \"count\": 0.01}, {\"year\": 2018, \"hour\": 6, \"count\": 0.04}, {\"year\": 2018, \"hour\": 7, \"count\": 0.06}, {\"year\": 2018, \"hour\": 8, \"count\": 0.07}, {\"year\": 2018, \"hour\": 9, \"count\": 0.08}, {\"year\": 2018, \"hour\": 10, \"count\": 0.08}, {\"year\": 2018, \"hour\": 11, \"count\": 0.08}, {\"year\": 2018, \"hour\": 12, \"count\": 0.09}, {\"year\": 2018, \"hour\": 13, \"count\": 0.08}, {\"year\": 2018, \"hour\": 14, \"count\": 0.09}, {\"year\": 2018, \"hour\": 15, \"count\": 0.06}, {\"year\": 2018, \"hour\": 16, \"count\": 0.05}, {\"year\": 2018, \"hour\": 17, \"count\": 0.04}, {\"year\": 2018, \"hour\": 18, \"count\": 0.03}, {\"year\": 2018, \"hour\": 19, \"count\": 0.03}, {\"year\": 2018, \"hour\": 20, \"count\": 0.03}, {\"year\": 2018, \"hour\": 21, \"count\": 0.02}, {\"year\": 2018, \"hour\": 22, \"count\": 0.01}, {\"year\": 2018, \"hour\": 23, \"count\": 0.01}, {\"year\": 2019, \"hour\": 0, \"count\": 0.0}, {\"year\": 2019, \"hour\": 1, \"count\": 0.0}, {\"year\": 2019, \"hour\": 2, \"count\": 0.0}, {\"year\": 2019, \"hour\": 3, \"count\": 0.0}, {\"year\": 2019, \"hour\": 4, \"count\": 0.0}, {\"year\": 2019, \"hour\": 5, \"count\": 0.0}, {\"year\": 2019, \"hour\": 6, \"count\": 0.02}, {\"year\": 2019, \"hour\": 7, \"count\": 0.07}, {\"year\": 2019, \"hour\": 8, \"count\": 0.07}, {\"year\": 2019, \"hour\": 9, \"count\": 0.06}, {\"year\": 2019, \"hour\": 10, \"count\": 0.09}, {\"year\": 2019, \"hour\": 11, \"count\": 0.08}, {\"year\": 2019, \"hour\": 12, \"count\": 0.12}, {\"year\": 2019, \"hour\": 13, \"count\": 0.12}, {\"year\": 2019, \"hour\": 14, \"count\": 0.12}, {\"year\": 2019, \"hour\": 15, \"count\": 0.09}, {\"year\": 2019, \"hour\": 16, \"count\": 0.06}, {\"year\": 2019, \"hour\": 17, \"count\": 0.07}, {\"year\": 2019, \"hour\": 18, \"count\": 0.01}, {\"year\": 2019, \"hour\": 19, \"count\": 0.01}, {\"year\": 2019, \"hour\": 20, \"count\": 0.01}, {\"year\": 2019, \"hour\": 21, \"count\": 0.0}, {\"year\": 2019, \"hour\": 22, \"count\": 0.0}, {\"year\": 2019, \"hour\": 23, \"count\": 0.0}]}}, {\"mode\": \"vega-lite\"});\n",
       "</script>"
      ],
      "text/plain": [
       "alt.VConcatChart(...)"
      ]
     },
     "execution_count": 9,
     "metadata": {},
     "output_type": "execute_result"
    }
   ],
   "source": [
    "#hide_input\n",
    "# Create sum per hour per year\n",
    "selection_sum = df.groupby(['year', 'hour']).size().reset_index().rename(columns={0: 'count'})\n",
    "\n",
    "# Create percentage per hour per year\n",
    "selection_perc = selection_sum.copy()\n",
    "yearly_counts = df.ts.dt.to_period('Y').value_counts()\n",
    "for year in yearly_counts.index:\n",
    "    selection_perc.loc[selection_perc.year == year.year, 'count'] = selection_perc.loc[selection_perc.year == year.year, 'count'] / yearly_counts[str(year.year)]\n",
    "selection_perc = selection_perc.round(2)\n",
    "\n",
    "# Plot the total listens per hour\n",
    "total = alt.Chart(selection_sum).mark_bar().encode(\n",
    "    alt.X('hour:O', title='Hour'),\n",
    "    alt.Y('sum(count):Q', title='Listens'),\n",
    ").properties(\n",
    "    title='Sum of listens per hour',\n",
    "    width=MAXWIDTH,\n",
    "    height=100\n",
    ")\n",
    "\n",
    "\n",
    "label = alt.selection_single(\n",
    "    encodings=['x'], # limit selection to x-axis value\n",
    "    on='mouseover',  # select on mouseover events\n",
    "    nearest=True,    # select data point nearest the cursor\n",
    "    empty='none'     # empty selection includes no data points\n",
    ")\n",
    "\n",
    "monthly = alt.Chart().mark_line().encode(\n",
    "    alt.X('hour:T', title='Hour'),\n",
    "    alt.Y('count:Q', title='Listens'),\n",
    "    color='year:N',\n",
    ").transform_filter(alt.FieldOneOfPredicate(field='year', oneOf=[2016, 2017, 2018, 2019]))\n",
    "\n",
    "# Plot sum per hour per year\n",
    "sum_per_hour_per_year = alt.layer(\n",
    "    monthly.properties(\n",
    "        title='Sum of listens per hour per year'\n",
    "    ), # base line chart\n",
    "    \n",
    "#     add a rule mark to serve as a guide line\n",
    "    alt.Chart().mark_rule(color='#aaa').encode(\n",
    "#         alt.X('hour'),\n",
    "        x='hour:O'\n",
    "    ).transform_filter(label),\n",
    "    \n",
    "    # add circle marks for selected time points, hide unselected points\n",
    "    monthly.mark_circle().encode(\n",
    "        opacity=alt.condition(label, alt.value(1), alt.value(0))\n",
    "    ).add_selection(label),\n",
    "    \n",
    "#     # add white stroked text to provide a legible background for labels\n",
    "    monthly.mark_text(align='left', dx=5, dy=-5, stroke='white', strokeWidth=2).encode(\n",
    "        text='sum(count):Q'\n",
    "    ).transform_filter(label),\n",
    "    \n",
    "    # add text labels for stock prices\n",
    "    monthly.mark_text(align='left', dx=5, dy=-5).encode(\n",
    "        alt.Text('sum(count):Q'),\n",
    "#         text='sum(listens):Q'\n",
    "    ).transform_filter(label),\n",
    "    \n",
    "    data = selection_sum\n",
    ").properties(\n",
    "    width=MAXWIDTH,\n",
    "    height=200,\n",
    ")\n",
    "\n",
    "# Plot percentage per hour per year\n",
    "perc_per_hour_per_year = alt.layer(\n",
    "    monthly.properties(\n",
    "        title='Percentage of listens per hour per year'\n",
    "    ),     \n",
    "    alt.Chart().mark_rule(color='#aaa').encode(\n",
    "        x='hour:O'\n",
    "    ).transform_filter(label),\n",
    "    \n",
    "    monthly.mark_circle().encode(\n",
    "        opacity=alt.condition(label, alt.value(1), alt.value(0))\n",
    "    ).add_selection(label),\n",
    "    \n",
    "    monthly.mark_text(align='left', dx=5, dy=-5, stroke='white', strokeWidth=2).encode(\n",
    "        text='sum(count):Q'\n",
    "    ).transform_filter(label),\n",
    "    \n",
    "    monthly.mark_text(align='left', dx=5, dy=-5).encode(\n",
    "        alt.Text('sum(count):Q'),\n",
    "    ).transform_filter(label),\n",
    "    \n",
    "    data = selection_perc\n",
    ").properties(\n",
    "    width=MAXWIDTH,\n",
    "    height=200,\n",
    ")\n",
    "\n",
    "sum_per_hour_per_year & perc_per_hour_per_year & total"
   ]
  },
  {
   "cell_type": "markdown",
   "metadata": {},
   "source": [
    "There are several noteworthy things:\n",
    "1. **In 2016**, there was a big spike between 13:00 and 14:00. 2016 is split between my third and fourth year at university, of which in the fourth year I also was on the board of the [e-sports association](https://dorans.nl/). I just barely didn't have enough credits to get my bachelor's degree in my third year, so my fourth year was pretty empty. The combination likely contributed to many days where I had lunch and then closed myself of with music, to work on association matters. \n",
    "3. **In 2016**, there is a big spike at 9:00. This makes sense, because that was always the time I was cycling to my university. Over the years, I started listening to podcasts more, which is why you can see the 9:00 value decline over 4 years. \n",
    "2. **In 2018 and 2019**, my listening during evening hours decreased quite significantly. Earlier, I had a spike at 22:00 but this completely faded during the first month of 2019. What happened? Not sure, to be frank. It might be that I had more nights planned with friends? \n",
    "4. **In 2017 and 2018**, I somehow play 4% of my music daily before 7:00. Now, this is essentially impossible since I almost never get up before 7. I'm not sure why this is shown to be the case. \n",
    "\n",
    "> Tip: I've since learned that you can so things like define variables and aggregate values in Altair. An example can be found on their [website](https://altair-viz.github.io/gallery/percentage_of_total.html). However, did not go back and redo the analyses using that. That's for another time. 😉"
   ]
  },
  {
   "cell_type": "markdown",
   "metadata": {},
   "source": [
    "# Weekly behaviour"
   ]
  },
  {
   "cell_type": "markdown",
   "metadata": {},
   "source": [
    "To get a clear view of weekly listening behaviour, we can create a heatmap with the hours and day of week, with the color indicating the number of listens on that hour. We can see that the working week made a lot of difference, with listening mainly focused on Tuesday, Wednesday, Thursday and Friday, with a little bit as well on Monday afternoon. We all need to wake up a bit first on Monday morning ☕. \n",
    "\n",
    "Interestingly enough, we see some hours that have no plays at all like Monday morning 2:00-3:00. I'm a bit skeptic that I *never* plays anything at all there, but I don't have an explanation for it. "
   ]
  },
  {
   "cell_type": "code",
   "execution_count": 54,
   "metadata": {},
   "outputs": [
    {
     "data": {
      "text/html": [
       "\n",
       "<div id=\"altair-viz-bf4ef19ad628418db4243dfa4afdcdcd\"></div>\n",
       "<script type=\"text/javascript\">\n",
       "  (function(spec, embedOpt){\n",
       "    let outputDiv = document.currentScript.previousElementSibling;\n",
       "    if (outputDiv.id !== \"altair-viz-bf4ef19ad628418db4243dfa4afdcdcd\") {\n",
       "      outputDiv = document.getElementById(\"altair-viz-bf4ef19ad628418db4243dfa4afdcdcd\");\n",
       "    }\n",
       "    const paths = {\n",
       "      \"vega\": \"https://cdn.jsdelivr.net/npm//vega@5?noext\",\n",
       "      \"vega-lib\": \"https://cdn.jsdelivr.net/npm//vega-lib?noext\",\n",
       "      \"vega-lite\": \"https://cdn.jsdelivr.net/npm//vega-lite@4.8.1?noext\",\n",
       "      \"vega-embed\": \"https://cdn.jsdelivr.net/npm//vega-embed@6?noext\",\n",
       "    };\n",
       "\n",
       "    function loadScript(lib) {\n",
       "      return new Promise(function(resolve, reject) {\n",
       "        var s = document.createElement('script');\n",
       "        s.src = paths[lib];\n",
       "        s.async = true;\n",
       "        s.onload = () => resolve(paths[lib]);\n",
       "        s.onerror = () => reject(`Error loading script: ${paths[lib]}`);\n",
       "        document.getElementsByTagName(\"head\")[0].appendChild(s);\n",
       "      });\n",
       "    }\n",
       "\n",
       "    function showError(err) {\n",
       "      outputDiv.innerHTML = `<div class=\"error\" style=\"color:red;\">${err}</div>`;\n",
       "      throw err;\n",
       "    }\n",
       "\n",
       "    function displayChart(vegaEmbed) {\n",
       "      vegaEmbed(outputDiv, spec, embedOpt)\n",
       "        .catch(err => showError(`Javascript Error: ${err.message}<br>This usually means there's a typo in your chart specification. See the javascript console for the full traceback.`));\n",
       "    }\n",
       "\n",
       "    if(typeof define === \"function\" && define.amd) {\n",
       "      requirejs.config({paths});\n",
       "      require([\"vega-embed\"], displayChart, err => showError(`Error loading script: ${err.message}`));\n",
       "    } else if (typeof vegaEmbed === \"function\") {\n",
       "      displayChart(vegaEmbed);\n",
       "    } else {\n",
       "      loadScript(\"vega\")\n",
       "        .then(() => loadScript(\"vega-lite\"))\n",
       "        .then(() => loadScript(\"vega-embed\"))\n",
       "        .catch(showError)\n",
       "        .then(() => displayChart(vegaEmbed));\n",
       "    }\n",
       "  })({\"usermeta\": {\"embedOptions\": {\"theme\": \"latimes\"}}, \"config\": {\"view\": {\"continuousWidth\": 400, \"continuousHeight\": 300}}, \"data\": {\"name\": \"data-53cc6d97a09df390653c97f4918e9c84\"}, \"mark\": \"rect\", \"encoding\": {\"color\": {\"type\": \"quantitative\", \"field\": \"count\"}, \"x\": {\"type\": \"ordinal\", \"field\": \"Hour of Day\"}, \"y\": {\"type\": \"nominal\", \"field\": \"Day of Week\"}}, \"$schema\": \"https://vega.github.io/schema/vega-lite/v4.8.1.json\", \"datasets\": {\"data-53cc6d97a09df390653c97f4918e9c84\": [{\"Day of Week\": 0, \"Hour of Day\": 0, \"count\": 12}, {\"Day of Week\": 0, \"Hour of Day\": 1, \"count\": 6}, {\"Day of Week\": 0, \"Hour of Day\": 3, \"count\": 11}, {\"Day of Week\": 0, \"Hour of Day\": 4, \"count\": 9}, {\"Day of Week\": 0, \"Hour of Day\": 5, \"count\": 97}, {\"Day of Week\": 0, \"Hour of Day\": 6, \"count\": 268}, {\"Day of Week\": 0, \"Hour of Day\": 7, \"count\": 326}, {\"Day of Week\": 0, \"Hour of Day\": 8, \"count\": 406}, {\"Day of Week\": 0, \"Hour of Day\": 9, \"count\": 422}, {\"Day of Week\": 0, \"Hour of Day\": 10, \"count\": 382}, {\"Day of Week\": 0, \"Hour of Day\": 11, \"count\": 444}, {\"Day of Week\": 0, \"Hour of Day\": 12, \"count\": 526}, {\"Day of Week\": 0, \"Hour of Day\": 13, \"count\": 515}, {\"Day of Week\": 0, \"Hour of Day\": 14, \"count\": 499}, {\"Day of Week\": 0, \"Hour of Day\": 15, \"count\": 464}, {\"Day of Week\": 0, \"Hour of Day\": 16, \"count\": 302}, {\"Day of Week\": 0, \"Hour of Day\": 17, \"count\": 297}, {\"Day of Week\": 0, \"Hour of Day\": 18, \"count\": 270}, {\"Day of Week\": 0, \"Hour of Day\": 19, \"count\": 133}, {\"Day of Week\": 0, \"Hour of Day\": 20, \"count\": 103}, {\"Day of Week\": 0, \"Hour of Day\": 21, \"count\": 115}, {\"Day of Week\": 0, \"Hour of Day\": 22, \"count\": 116}, {\"Day of Week\": 0, \"Hour of Day\": 23, \"count\": 64}, {\"Day of Week\": 1, \"Hour of Day\": 0, \"count\": 24}, {\"Day of Week\": 1, \"Hour of Day\": 1, \"count\": 6}, {\"Day of Week\": 1, \"Hour of Day\": 2, \"count\": 35}, {\"Day of Week\": 1, \"Hour of Day\": 3, \"count\": 2}, {\"Day of Week\": 1, \"Hour of Day\": 4, \"count\": 10}, {\"Day of Week\": 1, \"Hour of Day\": 5, \"count\": 133}, {\"Day of Week\": 1, \"Hour of Day\": 6, \"count\": 311}, {\"Day of Week\": 1, \"Hour of Day\": 7, \"count\": 402}, {\"Day of Week\": 1, \"Hour of Day\": 8, \"count\": 409}, {\"Day of Week\": 1, \"Hour of Day\": 9, \"count\": 527}, {\"Day of Week\": 1, \"Hour of Day\": 10, \"count\": 564}, {\"Day of Week\": 1, \"Hour of Day\": 11, \"count\": 583}, {\"Day of Week\": 1, \"Hour of Day\": 12, \"count\": 669}, {\"Day of Week\": 1, \"Hour of Day\": 13, \"count\": 599}, {\"Day of Week\": 1, \"Hour of Day\": 14, \"count\": 617}, {\"Day of Week\": 1, \"Hour of Day\": 15, \"count\": 435}, {\"Day of Week\": 1, \"Hour of Day\": 16, \"count\": 261}, {\"Day of Week\": 1, \"Hour of Day\": 17, \"count\": 180}, {\"Day of Week\": 1, \"Hour of Day\": 18, \"count\": 174}, {\"Day of Week\": 1, \"Hour of Day\": 19, \"count\": 169}, {\"Day of Week\": 1, \"Hour of Day\": 20, \"count\": 117}, {\"Day of Week\": 1, \"Hour of Day\": 21, \"count\": 94}, {\"Day of Week\": 1, \"Hour of Day\": 22, \"count\": 71}, {\"Day of Week\": 1, \"Hour of Day\": 23, \"count\": 30}, {\"Day of Week\": 2, \"Hour of Day\": 0, \"count\": 31}, {\"Day of Week\": 2, \"Hour of Day\": 2, \"count\": 23}, {\"Day of Week\": 2, \"Hour of Day\": 3, \"count\": 8}, {\"Day of Week\": 2, \"Hour of Day\": 4, \"count\": 7}, {\"Day of Week\": 2, \"Hour of Day\": 5, \"count\": 76}, {\"Day of Week\": 2, \"Hour of Day\": 6, \"count\": 325}, {\"Day of Week\": 2, \"Hour of Day\": 7, \"count\": 457}, {\"Day of Week\": 2, \"Hour of Day\": 8, \"count\": 567}, {\"Day of Week\": 2, \"Hour of Day\": 9, \"count\": 722}, {\"Day of Week\": 2, \"Hour of Day\": 10, \"count\": 544}, {\"Day of Week\": 2, \"Hour of Day\": 11, \"count\": 481}, {\"Day of Week\": 2, \"Hour of Day\": 12, \"count\": 547}, {\"Day of Week\": 2, \"Hour of Day\": 13, \"count\": 592}, {\"Day of Week\": 2, \"Hour of Day\": 14, \"count\": 553}, {\"Day of Week\": 2, \"Hour of Day\": 15, \"count\": 445}, {\"Day of Week\": 2, \"Hour of Day\": 16, \"count\": 231}, {\"Day of Week\": 2, \"Hour of Day\": 17, \"count\": 122}, {\"Day of Week\": 2, \"Hour of Day\": 18, \"count\": 43}, {\"Day of Week\": 2, \"Hour of Day\": 19, \"count\": 82}, {\"Day of Week\": 2, \"Hour of Day\": 20, \"count\": 192}, {\"Day of Week\": 2, \"Hour of Day\": 21, \"count\": 116}, {\"Day of Week\": 2, \"Hour of Day\": 22, \"count\": 78}, {\"Day of Week\": 2, \"Hour of Day\": 23, \"count\": 85}, {\"Day of Week\": 3, \"Hour of Day\": 0, \"count\": 6}, {\"Day of Week\": 3, \"Hour of Day\": 1, \"count\": 4}, {\"Day of Week\": 3, \"Hour of Day\": 2, \"count\": 16}, {\"Day of Week\": 3, \"Hour of Day\": 3, \"count\": 4}, {\"Day of Week\": 3, \"Hour of Day\": 4, \"count\": 18}, {\"Day of Week\": 3, \"Hour of Day\": 5, \"count\": 70}, {\"Day of Week\": 3, \"Hour of Day\": 6, \"count\": 230}, {\"Day of Week\": 3, \"Hour of Day\": 7, \"count\": 472}, {\"Day of Week\": 3, \"Hour of Day\": 8, \"count\": 573}, {\"Day of Week\": 3, \"Hour of Day\": 9, \"count\": 662}, {\"Day of Week\": 3, \"Hour of Day\": 10, \"count\": 580}, {\"Day of Week\": 3, \"Hour of Day\": 11, \"count\": 564}, {\"Day of Week\": 3, \"Hour of Day\": 12, \"count\": 618}, {\"Day of Week\": 3, \"Hour of Day\": 13, \"count\": 670}, {\"Day of Week\": 3, \"Hour of Day\": 14, \"count\": 529}, {\"Day of Week\": 3, \"Hour of Day\": 15, \"count\": 443}, {\"Day of Week\": 3, \"Hour of Day\": 16, \"count\": 398}, {\"Day of Week\": 3, \"Hour of Day\": 17, \"count\": 229}, {\"Day of Week\": 3, \"Hour of Day\": 18, \"count\": 198}, {\"Day of Week\": 3, \"Hour of Day\": 19, \"count\": 104}, {\"Day of Week\": 3, \"Hour of Day\": 20, \"count\": 134}, {\"Day of Week\": 3, \"Hour of Day\": 21, \"count\": 147}, {\"Day of Week\": 3, \"Hour of Day\": 22, \"count\": 166}, {\"Day of Week\": 3, \"Hour of Day\": 23, \"count\": 77}, {\"Day of Week\": 4, \"Hour of Day\": 0, \"count\": 25}, {\"Day of Week\": 4, \"Hour of Day\": 1, \"count\": 48}, {\"Day of Week\": 4, \"Hour of Day\": 2, \"count\": 49}, {\"Day of Week\": 4, \"Hour of Day\": 3, \"count\": 29}, {\"Day of Week\": 4, \"Hour of Day\": 4, \"count\": 18}, {\"Day of Week\": 4, \"Hour of Day\": 5, \"count\": 81}, {\"Day of Week\": 4, \"Hour of Day\": 6, \"count\": 171}, {\"Day of Week\": 4, \"Hour of Day\": 7, \"count\": 413}, {\"Day of Week\": 4, \"Hour of Day\": 8, \"count\": 417}, {\"Day of Week\": 4, \"Hour of Day\": 9, \"count\": 597}, {\"Day of Week\": 4, \"Hour of Day\": 10, \"count\": 574}, {\"Day of Week\": 4, \"Hour of Day\": 11, \"count\": 622}, {\"Day of Week\": 4, \"Hour of Day\": 12, \"count\": 553}, {\"Day of Week\": 4, \"Hour of Day\": 13, \"count\": 512}, {\"Day of Week\": 4, \"Hour of Day\": 14, \"count\": 569}, {\"Day of Week\": 4, \"Hour of Day\": 15, \"count\": 346}, {\"Day of Week\": 4, \"Hour of Day\": 16, \"count\": 276}, {\"Day of Week\": 4, \"Hour of Day\": 17, \"count\": 238}, {\"Day of Week\": 4, \"Hour of Day\": 18, \"count\": 162}, {\"Day of Week\": 4, \"Hour of Day\": 19, \"count\": 139}, {\"Day of Week\": 4, \"Hour of Day\": 20, \"count\": 125}, {\"Day of Week\": 4, \"Hour of Day\": 21, \"count\": 192}, {\"Day of Week\": 4, \"Hour of Day\": 22, \"count\": 151}, {\"Day of Week\": 4, \"Hour of Day\": 23, \"count\": 145}, {\"Day of Week\": 5, \"Hour of Day\": 0, \"count\": 64}, {\"Day of Week\": 5, \"Hour of Day\": 1, \"count\": 38}, {\"Day of Week\": 5, \"Hour of Day\": 2, \"count\": 38}, {\"Day of Week\": 5, \"Hour of Day\": 3, \"count\": 106}, {\"Day of Week\": 5, \"Hour of Day\": 4, \"count\": 32}, {\"Day of Week\": 5, \"Hour of Day\": 5, \"count\": 18}, {\"Day of Week\": 5, \"Hour of Day\": 6, \"count\": 44}, {\"Day of Week\": 5, \"Hour of Day\": 7, \"count\": 97}, {\"Day of Week\": 5, \"Hour of Day\": 8, \"count\": 167}, {\"Day of Week\": 5, \"Hour of Day\": 9, \"count\": 268}, {\"Day of Week\": 5, \"Hour of Day\": 10, \"count\": 320}, {\"Day of Week\": 5, \"Hour of Day\": 11, \"count\": 271}, {\"Day of Week\": 5, \"Hour of Day\": 12, \"count\": 321}, {\"Day of Week\": 5, \"Hour of Day\": 13, \"count\": 317}, {\"Day of Week\": 5, \"Hour of Day\": 14, \"count\": 255}, {\"Day of Week\": 5, \"Hour of Day\": 15, \"count\": 242}, {\"Day of Week\": 5, \"Hour of Day\": 16, \"count\": 235}, {\"Day of Week\": 5, \"Hour of Day\": 17, \"count\": 157}, {\"Day of Week\": 5, \"Hour of Day\": 18, \"count\": 174}, {\"Day of Week\": 5, \"Hour of Day\": 19, \"count\": 206}, {\"Day of Week\": 5, \"Hour of Day\": 20, \"count\": 172}, {\"Day of Week\": 5, \"Hour of Day\": 21, \"count\": 228}, {\"Day of Week\": 5, \"Hour of Day\": 22, \"count\": 220}, {\"Day of Week\": 5, \"Hour of Day\": 23, \"count\": 164}, {\"Day of Week\": 6, \"Hour of Day\": 0, \"count\": 82}, {\"Day of Week\": 6, \"Hour of Day\": 1, \"count\": 87}, {\"Day of Week\": 6, \"Hour of Day\": 2, \"count\": 74}, {\"Day of Week\": 6, \"Hour of Day\": 3, \"count\": 32}, {\"Day of Week\": 6, \"Hour of Day\": 5, \"count\": 8}, {\"Day of Week\": 6, \"Hour of Day\": 6, \"count\": 1}, {\"Day of Week\": 6, \"Hour of Day\": 7, \"count\": 27}, {\"Day of Week\": 6, \"Hour of Day\": 8, \"count\": 68}, {\"Day of Week\": 6, \"Hour of Day\": 9, \"count\": 137}, {\"Day of Week\": 6, \"Hour of Day\": 10, \"count\": 231}, {\"Day of Week\": 6, \"Hour of Day\": 11, \"count\": 315}, {\"Day of Week\": 6, \"Hour of Day\": 12, \"count\": 369}, {\"Day of Week\": 6, \"Hour of Day\": 13, \"count\": 293}, {\"Day of Week\": 6, \"Hour of Day\": 14, \"count\": 238}, {\"Day of Week\": 6, \"Hour of Day\": 15, \"count\": 204}, {\"Day of Week\": 6, \"Hour of Day\": 16, \"count\": 151}, {\"Day of Week\": 6, \"Hour of Day\": 17, \"count\": 178}, {\"Day of Week\": 6, \"Hour of Day\": 18, \"count\": 170}, {\"Day of Week\": 6, \"Hour of Day\": 19, \"count\": 160}, {\"Day of Week\": 6, \"Hour of Day\": 20, \"count\": 148}, {\"Day of Week\": 6, \"Hour of Day\": 21, \"count\": 110}, {\"Day of Week\": 6, \"Hour of Day\": 22, \"count\": 46}, {\"Day of Week\": 6, \"Hour of Day\": 23, \"count\": 46}]}}, {\"mode\": \"vega-lite\"});\n",
       "</script>"
      ],
      "text/plain": [
       "alt.Chart(...)"
      ]
     },
     "execution_count": 54,
     "metadata": {},
     "output_type": "execute_result"
    }
   ],
   "source": [
    "#hide_input\n",
    "alt.Chart(d).mark_rect().encode(\n",
    "    x='Hour of Day:O',\n",
    "    y='Day of Week:N',\n",
    "    color='count'\n",
    ")"
   ]
  },
  {
   "cell_type": "markdown",
   "metadata": {},
   "source": [
    "# Genres 🎧\n",
    "Now that we have some insight into my listening behaviour, we can analyze what I listen to a bit more closely. For example, what genres do I listen to most and how do these change? Here we get a bit closer to the visualization we got from Last.fm.\n",
    "\n",
    "However, before we can do that, we need to get the genres associated with our songs. This was not included in the data Spotify sent over, so we need to use their API to get this information. Spotify does not apply categories per song, but rather per artist. Internally, Spotify uses special URIs to indicate different concepts like artists, songs and albums. For example, a track can be indicated with `spotify:track:6rqhFgbbKwnb9MLmUQDhG6`. \n",
    "\n",
    "These URIs refer to a specific object, whereas the artist in the data I received does not. So we need to use the Spotify search function to retrieve the correct Spotify object of an artist, and then we can retrieve the genres from there. Now, either the data they sent is somewhat corrupted or their music management is a bit lackluster, because there were still quite some artists without an Spotify URI and/or without any defined genres. The latter makes sense, since this takes a lot of work by spotify. \n",
    "\n",
    "You can see the API calls and retrieval loop used in the two collapsed cells below. "
   ]
  },
  {
   "cell_type": "code",
   "execution_count": 10,
   "metadata": {},
   "outputs": [],
   "source": [
    "#collapse-hide\n",
    "SPOTIFY_API_KEY = os.getenv('SPOTIFY_API_KEY')\n",
    "SPOTIFY_CLIENT_ID = os.getenv('SPOTIFY_CLIENT_ID')\n",
    "spotify_search_url = 'https://api.spotify.com/v1/search?q={q}&type={type}'\n",
    "spotify_headers = {\"Accept\": \"application/json\", \"Authorization\":\"Bearer \" + SPOTIFY_API_KEY, \"Content-Type\": \"application/json\"}\n",
    "client_credentials_manager = SpotifyClientCredentials(SPOTIFY_CLIENT_ID, SPOTIFY_API_KEY)\n",
    "spotify = spotipy.Spotify(client_credentials_manager=client_credentials_manager)"
   ]
  },
  {
   "cell_type": "markdown",
   "metadata": {},
   "source": [
    "```python\n",
    "artist_ids = []\n",
    "genres = []\n",
    "for artist in tqdm(df.master_metadata_album_artist_name):\n",
    "    try:\n",
    "        response = spotify.search(artist, type='artist')\n",
    "        artist_id = response.get('artists').get('items')[0].get('uri')\n",
    "        artist_genres = response.get('artists').get('items')[0].get('genres')\n",
    "    except Exception as e:\n",
    "        print(e)\n",
    "        print(response)\n",
    "        artist_id = ''\n",
    "        artist_genres = []\n",
    "    genres.append(artist_genres)\n",
    "    artist_ids.append(artist_id)\n",
    "print(len(artist_ids), len(genres))\n",
    "genres_df = pd.DataFrame(genres)\n",
    "artist_ids_df = pd.DataFrame(artist_ids)\n",
    "``` "
   ]
  },
  {
   "cell_type": "code",
   "execution_count": 11,
   "metadata": {},
   "outputs": [],
   "source": [
    "#hide\n",
    "# genres_df = pd.DataFrame(genres)\n",
    "# genres_df.to_csv('genres.csv', index=False)\n",
    "\n",
    "# artist_ids_df = pd.DataFrame(artist_ids)\n",
    "# artist_ids_df.to_csv('artist_ids.csv', index=False)"
   ]
  },
  {
   "cell_type": "code",
   "execution_count": 12,
   "metadata": {},
   "outputs": [],
   "source": [
    "#hide\n",
    "genres_df = pd.read_csv('genres.csv', low_memory=False)\n",
    "artist_ids_df = pd.read_csv('artist_ids.csv', low_memory=False)"
   ]
  },
  {
   "cell_type": "markdown",
   "metadata": {},
   "source": [
    "Let's have a short look at the data. I'm showing the first two rows (so the genres of the first two songs) and all the columns. The columns just have a number, but indicate the first to twenty-first genre of each song. "
   ]
  },
  {
   "cell_type": "code",
   "execution_count": 13,
   "metadata": {},
   "outputs": [
    {
     "data": {
      "text/html": [
       "<div>\n",
       "<style scoped>\n",
       "    .dataframe tbody tr th:only-of-type {\n",
       "        vertical-align: middle;\n",
       "    }\n",
       "\n",
       "    .dataframe tbody tr th {\n",
       "        vertical-align: top;\n",
       "    }\n",
       "\n",
       "    .dataframe thead th {\n",
       "        text-align: right;\n",
       "    }\n",
       "</style>\n",
       "<table border=\"1\" class=\"dataframe\">\n",
       "  <thead>\n",
       "    <tr style=\"text-align: right;\">\n",
       "      <th></th>\n",
       "      <th>0</th>\n",
       "      <th>1</th>\n",
       "      <th>2</th>\n",
       "      <th>3</th>\n",
       "      <th>4</th>\n",
       "      <th>5</th>\n",
       "      <th>6</th>\n",
       "      <th>7</th>\n",
       "      <th>8</th>\n",
       "      <th>9</th>\n",
       "      <th>...</th>\n",
       "      <th>11</th>\n",
       "      <th>12</th>\n",
       "      <th>13</th>\n",
       "      <th>14</th>\n",
       "      <th>15</th>\n",
       "      <th>16</th>\n",
       "      <th>17</th>\n",
       "      <th>18</th>\n",
       "      <th>19</th>\n",
       "      <th>20</th>\n",
       "    </tr>\n",
       "  </thead>\n",
       "  <tbody>\n",
       "    <tr>\n",
       "      <th>0</th>\n",
       "      <td>east coast hip hop</td>\n",
       "      <td>hip hop</td>\n",
       "      <td>pop</td>\n",
       "      <td>pop rap</td>\n",
       "      <td>rap</td>\n",
       "      <td>trap music</td>\n",
       "      <td>NaN</td>\n",
       "      <td>NaN</td>\n",
       "      <td>NaN</td>\n",
       "      <td>NaN</td>\n",
       "      <td>...</td>\n",
       "      <td>NaN</td>\n",
       "      <td>NaN</td>\n",
       "      <td>NaN</td>\n",
       "      <td>NaN</td>\n",
       "      <td>NaN</td>\n",
       "      <td>NaN</td>\n",
       "      <td>NaN</td>\n",
       "      <td>NaN</td>\n",
       "      <td>NaN</td>\n",
       "      <td>NaN</td>\n",
       "    </tr>\n",
       "    <tr>\n",
       "      <th>1</th>\n",
       "      <td>catstep</td>\n",
       "      <td>complextro</td>\n",
       "      <td>edm</td>\n",
       "      <td>electro house</td>\n",
       "      <td>NaN</td>\n",
       "      <td>NaN</td>\n",
       "      <td>NaN</td>\n",
       "      <td>NaN</td>\n",
       "      <td>NaN</td>\n",
       "      <td>NaN</td>\n",
       "      <td>...</td>\n",
       "      <td>NaN</td>\n",
       "      <td>NaN</td>\n",
       "      <td>NaN</td>\n",
       "      <td>NaN</td>\n",
       "      <td>NaN</td>\n",
       "      <td>NaN</td>\n",
       "      <td>NaN</td>\n",
       "      <td>NaN</td>\n",
       "      <td>NaN</td>\n",
       "      <td>NaN</td>\n",
       "    </tr>\n",
       "  </tbody>\n",
       "</table>\n",
       "<p>2 rows × 21 columns</p>\n",
       "</div>"
      ],
      "text/plain": [
       "                    0           1    2              3    4           5    6  \\\n",
       "0  east coast hip hop     hip hop  pop        pop rap  rap  trap music  NaN   \n",
       "1             catstep  complextro  edm  electro house  NaN         NaN  NaN   \n",
       "\n",
       "     7    8    9  ...   11   12   13   14   15   16   17   18   19   20  \n",
       "0  NaN  NaN  NaN  ...  NaN  NaN  NaN  NaN  NaN  NaN  NaN  NaN  NaN  NaN  \n",
       "1  NaN  NaN  NaN  ...  NaN  NaN  NaN  NaN  NaN  NaN  NaN  NaN  NaN  NaN  \n",
       "\n",
       "[2 rows x 21 columns]"
      ]
     },
     "execution_count": 13,
     "metadata": {},
     "output_type": "execute_result"
    }
   ],
   "source": [
    "#hide_input\n",
    "genres_df.head(2)"
   ]
  },
  {
   "cell_type": "markdown",
   "metadata": {},
   "source": [
    "Because we added all genres for each artist as a new column, we have quite a wide dataframe. The artist with the most genres has 21(!) genres. Let's see who that is. "
   ]
  },
  {
   "cell_type": "code",
   "execution_count": 14,
   "metadata": {},
   "outputs": [
    {
     "data": {
      "text/html": [
       "<div>\n",
       "<style scoped>\n",
       "    .dataframe tbody tr th:only-of-type {\n",
       "        vertical-align: middle;\n",
       "    }\n",
       "\n",
       "    .dataframe tbody tr th {\n",
       "        vertical-align: top;\n",
       "    }\n",
       "\n",
       "    .dataframe thead th {\n",
       "        text-align: right;\n",
       "    }\n",
       "</style>\n",
       "<table border=\"1\" class=\"dataframe\">\n",
       "  <thead>\n",
       "    <tr style=\"text-align: right;\">\n",
       "      <th></th>\n",
       "      <th>ts</th>\n",
       "      <th>ms_played</th>\n",
       "      <th>conn_country</th>\n",
       "      <th>master_metadata_track_name</th>\n",
       "      <th>master_metadata_album_artist_name</th>\n",
       "      <th>master_metadata_album_album_name</th>\n",
       "      <th>reason_start</th>\n",
       "      <th>reason_end</th>\n",
       "      <th>shuffle</th>\n",
       "      <th>skipped</th>\n",
       "      <th>...</th>\n",
       "      <th>11</th>\n",
       "      <th>12</th>\n",
       "      <th>13</th>\n",
       "      <th>14</th>\n",
       "      <th>15</th>\n",
       "      <th>16</th>\n",
       "      <th>17</th>\n",
       "      <th>18</th>\n",
       "      <th>19</th>\n",
       "      <th>20</th>\n",
       "    </tr>\n",
       "  </thead>\n",
       "  <tbody>\n",
       "    <tr>\n",
       "      <th>32948</th>\n",
       "      <td>2018-10-26 21:01:59+00:00</td>\n",
       "      <td>255626</td>\n",
       "      <td>NL</td>\n",
       "      <td>Grounded</td>\n",
       "      <td>Pavement</td>\n",
       "      <td>Crooked Rain Crooked Rain</td>\n",
       "      <td>clickrow</td>\n",
       "      <td>trackdone</td>\n",
       "      <td>False</td>\n",
       "      <td>NaN</td>\n",
       "      <td>...</td>\n",
       "      <td>indie pop</td>\n",
       "      <td>indie rock</td>\n",
       "      <td>lo-fi</td>\n",
       "      <td>modern rock</td>\n",
       "      <td>new wave</td>\n",
       "      <td>noise pop</td>\n",
       "      <td>noise rock</td>\n",
       "      <td>post-punk</td>\n",
       "      <td>rock</td>\n",
       "      <td>slow core</td>\n",
       "    </tr>\n",
       "  </tbody>\n",
       "</table>\n",
       "<p>1 rows × 46 columns</p>\n",
       "</div>"
      ],
      "text/plain": [
       "                             ts ms_played conn_country  \\\n",
       "32948 2018-10-26 21:01:59+00:00    255626           NL   \n",
       "\n",
       "      master_metadata_track_name master_metadata_album_artist_name  \\\n",
       "32948                   Grounded                          Pavement   \n",
       "\n",
       "      master_metadata_album_album_name reason_start reason_end  shuffle  \\\n",
       "32948        Crooked Rain Crooked Rain     clickrow  trackdone    False   \n",
       "\n",
       "      skipped  ...         11          12     13           14        15  \\\n",
       "32948     NaN  ...  indie pop  indie rock  lo-fi  modern rock  new wave   \n",
       "\n",
       "              16          17         18    19         20  \n",
       "32948  noise pop  noise rock  post-punk  rock  slow core  \n",
       "\n",
       "[1 rows x 46 columns]"
      ]
     },
     "execution_count": 14,
     "metadata": {},
     "output_type": "execute_result"
    }
   ],
   "source": [
    "comb = pd.concat([df, genres_df], axis=1)\n",
    "comb.loc[~(comb['20'].isna())]"
   ]
  },
  {
   "cell_type": "markdown",
   "metadata": {},
   "source": [
    "It's some artist called Pavement! I've no idea who that is, but still interesting to see. The artist seems to be in the indie rock segment, where there are many subgenres, so it's not that surprising. I've heard that metal has a similar amount of subgenres, so it would be cool to do this analysis for a metal fan 🤘. \n",
    "\n",
    "But, clearly I am not in that segment. Lets see how many genres an average artist of mine has. We'll exclude artists with zero genres. "
   ]
  },
  {
   "cell_type": "code",
   "execution_count": 15,
   "metadata": {},
   "outputs": [
    {
     "data": {
      "text/html": [
       "\n",
       "<div id=\"altair-viz-a909c4c372af41bc863f9bb6c2b20c4a\"></div>\n",
       "<script type=\"text/javascript\">\n",
       "  (function(spec, embedOpt){\n",
       "    let outputDiv = document.currentScript.previousElementSibling;\n",
       "    if (outputDiv.id !== \"altair-viz-a909c4c372af41bc863f9bb6c2b20c4a\") {\n",
       "      outputDiv = document.getElementById(\"altair-viz-a909c4c372af41bc863f9bb6c2b20c4a\");\n",
       "    }\n",
       "    const paths = {\n",
       "      \"vega\": \"https://cdn.jsdelivr.net/npm//vega@5?noext\",\n",
       "      \"vega-lib\": \"https://cdn.jsdelivr.net/npm//vega-lib?noext\",\n",
       "      \"vega-lite\": \"https://cdn.jsdelivr.net/npm//vega-lite@4.8.1?noext\",\n",
       "      \"vega-embed\": \"https://cdn.jsdelivr.net/npm//vega-embed@6?noext\",\n",
       "    };\n",
       "\n",
       "    function loadScript(lib) {\n",
       "      return new Promise(function(resolve, reject) {\n",
       "        var s = document.createElement('script');\n",
       "        s.src = paths[lib];\n",
       "        s.async = true;\n",
       "        s.onload = () => resolve(paths[lib]);\n",
       "        s.onerror = () => reject(`Error loading script: ${paths[lib]}`);\n",
       "        document.getElementsByTagName(\"head\")[0].appendChild(s);\n",
       "      });\n",
       "    }\n",
       "\n",
       "    function showError(err) {\n",
       "      outputDiv.innerHTML = `<div class=\"error\" style=\"color:red;\">${err}</div>`;\n",
       "      throw err;\n",
       "    }\n",
       "\n",
       "    function displayChart(vegaEmbed) {\n",
       "      vegaEmbed(outputDiv, spec, embedOpt)\n",
       "        .catch(err => showError(`Javascript Error: ${err.message}<br>This usually means there's a typo in your chart specification. See the javascript console for the full traceback.`));\n",
       "    }\n",
       "\n",
       "    if(typeof define === \"function\" && define.amd) {\n",
       "      requirejs.config({paths});\n",
       "      require([\"vega-embed\"], displayChart, err => showError(`Error loading script: ${err.message}`));\n",
       "    } else if (typeof vegaEmbed === \"function\") {\n",
       "      displayChart(vegaEmbed);\n",
       "    } else {\n",
       "      loadScript(\"vega\")\n",
       "        .then(() => loadScript(\"vega-lite\"))\n",
       "        .then(() => loadScript(\"vega-embed\"))\n",
       "        .catch(showError)\n",
       "        .then(() => displayChart(vegaEmbed));\n",
       "    }\n",
       "  })({\"usermeta\": {\"embedOptions\": {\"theme\": \"latimes\"}}, \"config\": {\"view\": {\"continuousWidth\": 400, \"continuousHeight\": 300}}, \"data\": {\"name\": \"data-6e76e3fe6be6d83f28bc865336e992ca\"}, \"mark\": {\"type\": \"bar\", \"width\": 13}, \"encoding\": {\"tooltip\": [{\"type\": \"quantitative\", \"field\": \"genre_count\"}, {\"type\": \"quantitative\", \"aggregate\": \"count\"}], \"x\": {\"type\": \"quantitative\", \"field\": \"genre_count\"}, \"y\": {\"type\": \"quantitative\", \"aggregate\": \"count\"}}, \"title\": \"Number of genres per artist\", \"$schema\": \"https://vega.github.io/schema/vega-lite/v4.8.1.json\", \"datasets\": {\"data-6e76e3fe6be6d83f28bc865336e992ca\": [{\"genre_count\": 6}, {\"genre_count\": 4}, {\"genre_count\": 6}, {\"genre_count\": 7}, {\"genre_count\": 4}, {\"genre_count\": 3}, {\"genre_count\": 4}, {\"genre_count\": 4}, {\"genre_count\": 6}, {\"genre_count\": 5}, {\"genre_count\": 8}, {\"genre_count\": 7}, {\"genre_count\": 2}, {\"genre_count\": 4}, {\"genre_count\": 1}, {\"genre_count\": 3}, {\"genre_count\": 2}, {\"genre_count\": 2}, {\"genre_count\": 8}, {\"genre_count\": 7}, {\"genre_count\": 3}, {\"genre_count\": 3}, {\"genre_count\": 9}, {\"genre_count\": 6}, {\"genre_count\": 5}, {\"genre_count\": 5}, {\"genre_count\": 1}, {\"genre_count\": 2}, {\"genre_count\": 2}, {\"genre_count\": 5}, {\"genre_count\": 5}, {\"genre_count\": 8}, {\"genre_count\": 4}, {\"genre_count\": 5}, {\"genre_count\": 3}, {\"genre_count\": 3}, {\"genre_count\": 5}, {\"genre_count\": 5}, {\"genre_count\": 6}, {\"genre_count\": 6}, {\"genre_count\": 5}, {\"genre_count\": 6}, {\"genre_count\": 1}, {\"genre_count\": 7}, {\"genre_count\": 5}, {\"genre_count\": 3}, {\"genre_count\": 4}, {\"genre_count\": 2}, {\"genre_count\": 4}, {\"genre_count\": 20}, {\"genre_count\": 10}, {\"genre_count\": 8}, {\"genre_count\": 8}, {\"genre_count\": 2}, {\"genre_count\": 4}, {\"genre_count\": 4}, {\"genre_count\": 4}, {\"genre_count\": 6}, {\"genre_count\": 8}, {\"genre_count\": 4}, {\"genre_count\": 3}, {\"genre_count\": 1}, {\"genre_count\": 3}, {\"genre_count\": 6}, {\"genre_count\": 4}, {\"genre_count\": 3}, {\"genre_count\": 2}, {\"genre_count\": 2}, {\"genre_count\": 6}, {\"genre_count\": 7}, {\"genre_count\": 5}, {\"genre_count\": 3}, {\"genre_count\": 3}, {\"genre_count\": 1}, {\"genre_count\": 3}, {\"genre_count\": 1}, {\"genre_count\": 2}, {\"genre_count\": 4}, {\"genre_count\": 7}, {\"genre_count\": 1}, {\"genre_count\": 10}, {\"genre_count\": 1}, {\"genre_count\": 1}, {\"genre_count\": 5}, {\"genre_count\": 6}, {\"genre_count\": 4}, {\"genre_count\": 4}, {\"genre_count\": 2}, {\"genre_count\": 1}, {\"genre_count\": 3}, {\"genre_count\": 3}, {\"genre_count\": 5}, {\"genre_count\": 8}, {\"genre_count\": 6}, {\"genre_count\": 2}, {\"genre_count\": 4}, {\"genre_count\": 2}, {\"genre_count\": 4}, {\"genre_count\": 2}, {\"genre_count\": 3}, {\"genre_count\": 1}, {\"genre_count\": 1}, {\"genre_count\": 10}, {\"genre_count\": 7}, {\"genre_count\": 2}, {\"genre_count\": 2}, {\"genre_count\": 2}, {\"genre_count\": 4}, {\"genre_count\": 1}, {\"genre_count\": 5}, {\"genre_count\": 5}, {\"genre_count\": 2}, {\"genre_count\": 6}, {\"genre_count\": 6}, {\"genre_count\": 9}, {\"genre_count\": 2}, {\"genre_count\": 5}, {\"genre_count\": 1}, {\"genre_count\": 1}, {\"genre_count\": 5}, {\"genre_count\": 5}, {\"genre_count\": 7}, {\"genre_count\": 6}, {\"genre_count\": 1}, {\"genre_count\": 5}, {\"genre_count\": 5}, {\"genre_count\": 8}, {\"genre_count\": 5}, {\"genre_count\": 1}, {\"genre_count\": 8}, {\"genre_count\": 5}, {\"genre_count\": 4}, {\"genre_count\": 2}, {\"genre_count\": 5}, {\"genre_count\": 5}, {\"genre_count\": 2}, {\"genre_count\": 6}, {\"genre_count\": 5}, {\"genre_count\": 5}, {\"genre_count\": 4}, {\"genre_count\": 1}, {\"genre_count\": 6}, {\"genre_count\": 3}, {\"genre_count\": 1}, {\"genre_count\": 2}, {\"genre_count\": 6}, {\"genre_count\": 2}, {\"genre_count\": 4}, {\"genre_count\": 4}, {\"genre_count\": 4}, {\"genre_count\": 4}, {\"genre_count\": 4}, {\"genre_count\": 11}, {\"genre_count\": 9}, {\"genre_count\": 6}, {\"genre_count\": 5}, {\"genre_count\": 5}, {\"genre_count\": 7}, {\"genre_count\": 1}, {\"genre_count\": 7}, {\"genre_count\": 5}, {\"genre_count\": 5}, {\"genre_count\": 5}, {\"genre_count\": 1}, {\"genre_count\": 3}, {\"genre_count\": 3}, {\"genre_count\": 8}, {\"genre_count\": 3}, {\"genre_count\": 7}, {\"genre_count\": 4}, {\"genre_count\": 6}, {\"genre_count\": 3}, {\"genre_count\": 2}, {\"genre_count\": 3}, {\"genre_count\": 3}, {\"genre_count\": 6}, {\"genre_count\": 4}, {\"genre_count\": 7}, {\"genre_count\": 7}, {\"genre_count\": 10}, {\"genre_count\": 2}, {\"genre_count\": 4}, {\"genre_count\": 3}, {\"genre_count\": 3}, {\"genre_count\": 2}, {\"genre_count\": 1}, {\"genre_count\": 4}, {\"genre_count\": 1}, {\"genre_count\": 6}, {\"genre_count\": 4}, {\"genre_count\": 1}, {\"genre_count\": 2}, {\"genre_count\": 1}, {\"genre_count\": 2}, {\"genre_count\": 4}, {\"genre_count\": 7}, {\"genre_count\": 9}, {\"genre_count\": 4}, {\"genre_count\": 4}, {\"genre_count\": 6}, {\"genre_count\": 3}, {\"genre_count\": 8}, {\"genre_count\": 8}, {\"genre_count\": 3}, {\"genre_count\": 8}, {\"genre_count\": 8}, {\"genre_count\": 7}, {\"genre_count\": 9}, {\"genre_count\": 1}, {\"genre_count\": 6}, {\"genre_count\": 6}, {\"genre_count\": 5}, {\"genre_count\": 2}, {\"genre_count\": 1}, {\"genre_count\": 9}, {\"genre_count\": 9}, {\"genre_count\": 7}, {\"genre_count\": 4}, {\"genre_count\": 6}, {\"genre_count\": 6}, {\"genre_count\": 7}, {\"genre_count\": 3}, {\"genre_count\": 6}, {\"genre_count\": 6}, {\"genre_count\": 2}, {\"genre_count\": 1}, {\"genre_count\": 1}, {\"genre_count\": 2}, {\"genre_count\": 1}, {\"genre_count\": 3}, {\"genre_count\": 4}, {\"genre_count\": 6}, {\"genre_count\": 5}, {\"genre_count\": 5}, {\"genre_count\": 1}, {\"genre_count\": 6}, {\"genre_count\": 4}, {\"genre_count\": 6}, {\"genre_count\": 1}, {\"genre_count\": 3}, {\"genre_count\": 2}, {\"genre_count\": 2}, {\"genre_count\": 6}, {\"genre_count\": 10}, {\"genre_count\": 6}, {\"genre_count\": 8}, {\"genre_count\": 2}, {\"genre_count\": 3}, {\"genre_count\": 2}, {\"genre_count\": 8}, {\"genre_count\": 2}, {\"genre_count\": 4}, {\"genre_count\": 8}, {\"genre_count\": 1}, {\"genre_count\": 3}, {\"genre_count\": 9}, {\"genre_count\": 1}, {\"genre_count\": 9}, {\"genre_count\": 6}, {\"genre_count\": 2}, {\"genre_count\": 6}, {\"genre_count\": 5}, {\"genre_count\": 8}, {\"genre_count\": 4}, {\"genre_count\": 5}, {\"genre_count\": 4}, {\"genre_count\": 5}, {\"genre_count\": 6}, {\"genre_count\": 3}, {\"genre_count\": 5}, {\"genre_count\": 2}, {\"genre_count\": 6}, {\"genre_count\": 3}, {\"genre_count\": 1}, {\"genre_count\": 8}, {\"genre_count\": 3}, {\"genre_count\": 4}, {\"genre_count\": 4}, {\"genre_count\": 1}, {\"genre_count\": 2}, {\"genre_count\": 5}, {\"genre_count\": 4}, {\"genre_count\": 9}, {\"genre_count\": 8}, {\"genre_count\": 7}, {\"genre_count\": 2}, {\"genre_count\": 3}, {\"genre_count\": 10}, {\"genre_count\": 5}, {\"genre_count\": 1}, {\"genre_count\": 5}, {\"genre_count\": 5}, {\"genre_count\": 4}, {\"genre_count\": 10}, {\"genre_count\": 4}, {\"genre_count\": 3}, {\"genre_count\": 6}, {\"genre_count\": 4}, {\"genre_count\": 5}, {\"genre_count\": 1}, {\"genre_count\": 5}, {\"genre_count\": 1}, {\"genre_count\": 1}, {\"genre_count\": 3}, {\"genre_count\": 3}, {\"genre_count\": 7}, {\"genre_count\": 4}, {\"genre_count\": 2}, {\"genre_count\": 3}, {\"genre_count\": 2}, {\"genre_count\": 3}, {\"genre_count\": 1}, {\"genre_count\": 2}, {\"genre_count\": 1}, {\"genre_count\": 8}, {\"genre_count\": 2}, {\"genre_count\": 4}, {\"genre_count\": 4}, {\"genre_count\": 5}, {\"genre_count\": 4}, {\"genre_count\": 4}, {\"genre_count\": 5}, {\"genre_count\": 2}, {\"genre_count\": 6}, {\"genre_count\": 9}, {\"genre_count\": 2}, {\"genre_count\": 3}, {\"genre_count\": 9}, {\"genre_count\": 5}, {\"genre_count\": 5}, {\"genre_count\": 9}, {\"genre_count\": 6}, {\"genre_count\": 7}, {\"genre_count\": 3}, {\"genre_count\": 3}, {\"genre_count\": 2}, {\"genre_count\": 3}, {\"genre_count\": 4}, {\"genre_count\": 5}, {\"genre_count\": 3}, {\"genre_count\": 9}, {\"genre_count\": 1}, {\"genre_count\": 1}, {\"genre_count\": 10}, {\"genre_count\": 1}, {\"genre_count\": 8}, {\"genre_count\": 2}, {\"genre_count\": 6}, {\"genre_count\": 2}, {\"genre_count\": 4}, {\"genre_count\": 7}, {\"genre_count\": 1}, {\"genre_count\": 2}, {\"genre_count\": 1}, {\"genre_count\": 1}, {\"genre_count\": 5}, {\"genre_count\": 7}, {\"genre_count\": 6}, {\"genre_count\": 8}, {\"genre_count\": 1}, {\"genre_count\": 4}, {\"genre_count\": 7}, {\"genre_count\": 5}, {\"genre_count\": 2}, {\"genre_count\": 4}, {\"genre_count\": 6}, {\"genre_count\": 7}, {\"genre_count\": 3}, {\"genre_count\": 2}, {\"genre_count\": 9}, {\"genre_count\": 13}, {\"genre_count\": 1}, {\"genre_count\": 2}, {\"genre_count\": 1}, {\"genre_count\": 5}, {\"genre_count\": 2}, {\"genre_count\": 4}, {\"genre_count\": 2}, {\"genre_count\": 2}, {\"genre_count\": 3}, {\"genre_count\": 3}, {\"genre_count\": 1}, {\"genre_count\": 2}, {\"genre_count\": 1}, {\"genre_count\": 1}, {\"genre_count\": 2}, {\"genre_count\": 1}, {\"genre_count\": 2}, {\"genre_count\": 11}, {\"genre_count\": 1}, {\"genre_count\": 1}, {\"genre_count\": 4}, {\"genre_count\": 3}, {\"genre_count\": 2}, {\"genre_count\": 5}, {\"genre_count\": 3}, {\"genre_count\": 2}, {\"genre_count\": 3}, {\"genre_count\": 9}, {\"genre_count\": 4}, {\"genre_count\": 3}, {\"genre_count\": 2}, {\"genre_count\": 1}, {\"genre_count\": 6}, {\"genre_count\": 1}, {\"genre_count\": 3}, {\"genre_count\": 1}, {\"genre_count\": 3}, {\"genre_count\": 7}, {\"genre_count\": 2}, {\"genre_count\": 1}, {\"genre_count\": 5}, {\"genre_count\": 5}, {\"genre_count\": 2}, {\"genre_count\": 1}, {\"genre_count\": 5}, {\"genre_count\": 14}, {\"genre_count\": 6}, {\"genre_count\": 8}, {\"genre_count\": 2}, {\"genre_count\": 4}, {\"genre_count\": 4}, {\"genre_count\": 3}, {\"genre_count\": 3}, {\"genre_count\": 1}, {\"genre_count\": 7}, {\"genre_count\": 3}, {\"genre_count\": 1}, {\"genre_count\": 5}, {\"genre_count\": 1}, {\"genre_count\": 5}, {\"genre_count\": 4}, {\"genre_count\": 8}, {\"genre_count\": 5}, {\"genre_count\": 3}, {\"genre_count\": 1}, {\"genre_count\": 3}, {\"genre_count\": 3}, {\"genre_count\": 5}, {\"genre_count\": 2}, {\"genre_count\": 2}, {\"genre_count\": 4}, {\"genre_count\": 1}, {\"genre_count\": 2}, {\"genre_count\": 2}, {\"genre_count\": 2}, {\"genre_count\": 8}, {\"genre_count\": 7}, {\"genre_count\": 4}, {\"genre_count\": 4}, {\"genre_count\": 1}, {\"genre_count\": 2}, {\"genre_count\": 2}, {\"genre_count\": 3}, {\"genre_count\": 8}, {\"genre_count\": 1}, {\"genre_count\": 7}, {\"genre_count\": 1}, {\"genre_count\": 2}, {\"genre_count\": 3}, {\"genre_count\": 8}, {\"genre_count\": 1}, {\"genre_count\": 3}, {\"genre_count\": 7}, {\"genre_count\": 5}, {\"genre_count\": 8}, {\"genre_count\": 3}, {\"genre_count\": 1}, {\"genre_count\": 1}, {\"genre_count\": 6}, {\"genre_count\": 1}, {\"genre_count\": 4}, {\"genre_count\": 1}, {\"genre_count\": 1}, {\"genre_count\": 2}, {\"genre_count\": 1}, {\"genre_count\": 5}, {\"genre_count\": 7}, {\"genre_count\": 11}, {\"genre_count\": 7}, {\"genre_count\": 1}, {\"genre_count\": 6}, {\"genre_count\": 3}, {\"genre_count\": 1}, {\"genre_count\": 2}, {\"genre_count\": 1}, {\"genre_count\": 3}, {\"genre_count\": 2}, {\"genre_count\": 8}, {\"genre_count\": 1}, {\"genre_count\": 8}, {\"genre_count\": 2}, {\"genre_count\": 5}, {\"genre_count\": 2}, {\"genre_count\": 4}, {\"genre_count\": 4}, {\"genre_count\": 9}, {\"genre_count\": 9}, {\"genre_count\": 6}, {\"genre_count\": 1}, {\"genre_count\": 3}, {\"genre_count\": 7}, {\"genre_count\": 11}, {\"genre_count\": 1}, {\"genre_count\": 4}, {\"genre_count\": 7}, {\"genre_count\": 9}, {\"genre_count\": 13}, {\"genre_count\": 7}, {\"genre_count\": 2}, {\"genre_count\": 6}, {\"genre_count\": 5}, {\"genre_count\": 7}, {\"genre_count\": 2}, {\"genre_count\": 4}, {\"genre_count\": 4}, {\"genre_count\": 5}, {\"genre_count\": 5}, {\"genre_count\": 5}, {\"genre_count\": 6}, {\"genre_count\": 6}, {\"genre_count\": 2}, {\"genre_count\": 2}, {\"genre_count\": 8}, {\"genre_count\": 3}, {\"genre_count\": 6}, {\"genre_count\": 3}, {\"genre_count\": 1}, {\"genre_count\": 8}, {\"genre_count\": 8}, {\"genre_count\": 10}, {\"genre_count\": 2}, {\"genre_count\": 4}, {\"genre_count\": 5}, {\"genre_count\": 12}, {\"genre_count\": 6}, {\"genre_count\": 6}, {\"genre_count\": 2}, {\"genre_count\": 9}, {\"genre_count\": 2}, {\"genre_count\": 1}, {\"genre_count\": 6}, {\"genre_count\": 5}, {\"genre_count\": 1}, {\"genre_count\": 2}, {\"genre_count\": 2}, {\"genre_count\": 1}, {\"genre_count\": 8}, {\"genre_count\": 4}, {\"genre_count\": 1}, {\"genre_count\": 5}, {\"genre_count\": 2}, {\"genre_count\": 4}, {\"genre_count\": 9}, {\"genre_count\": 2}, {\"genre_count\": 7}, {\"genre_count\": 1}, {\"genre_count\": 7}, {\"genre_count\": 3}, {\"genre_count\": 3}, {\"genre_count\": 7}, {\"genre_count\": 6}, {\"genre_count\": 5}, {\"genre_count\": 4}, {\"genre_count\": 6}, {\"genre_count\": 8}, {\"genre_count\": 5}, {\"genre_count\": 1}, {\"genre_count\": 6}, {\"genre_count\": 6}, {\"genre_count\": 8}, {\"genre_count\": 7}, {\"genre_count\": 6}, {\"genre_count\": 1}, {\"genre_count\": 11}, {\"genre_count\": 6}, {\"genre_count\": 7}, {\"genre_count\": 8}, {\"genre_count\": 3}, {\"genre_count\": 8}, {\"genre_count\": 4}, {\"genre_count\": 11}, {\"genre_count\": 4}, {\"genre_count\": 12}, {\"genre_count\": 1}, {\"genre_count\": 5}, {\"genre_count\": 10}, {\"genre_count\": 2}, {\"genre_count\": 6}, {\"genre_count\": 1}, {\"genre_count\": 2}, {\"genre_count\": 6}, {\"genre_count\": 4}, {\"genre_count\": 5}, {\"genre_count\": 2}, {\"genre_count\": 6}, {\"genre_count\": 7}, {\"genre_count\": 5}, {\"genre_count\": 5}, {\"genre_count\": 7}, {\"genre_count\": 4}, {\"genre_count\": 14}, {\"genre_count\": 3}, {\"genre_count\": 1}, {\"genre_count\": 7}, {\"genre_count\": 5}, {\"genre_count\": 1}, {\"genre_count\": 2}, {\"genre_count\": 7}, {\"genre_count\": 10}, {\"genre_count\": 11}, {\"genre_count\": 6}, {\"genre_count\": 6}, {\"genre_count\": 3}, {\"genre_count\": 1}, {\"genre_count\": 2}, {\"genre_count\": 8}, {\"genre_count\": 3}, {\"genre_count\": 5}, {\"genre_count\": 2}, {\"genre_count\": 3}, {\"genre_count\": 3}, {\"genre_count\": 1}, {\"genre_count\": 6}, {\"genre_count\": 4}, {\"genre_count\": 2}, {\"genre_count\": 9}, {\"genre_count\": 4}, {\"genre_count\": 3}, {\"genre_count\": 5}, {\"genre_count\": 3}, {\"genre_count\": 6}, {\"genre_count\": 6}, {\"genre_count\": 4}, {\"genre_count\": 3}, {\"genre_count\": 10}, {\"genre_count\": 6}, {\"genre_count\": 12}, {\"genre_count\": 6}, {\"genre_count\": 5}, {\"genre_count\": 6}, {\"genre_count\": 8}, {\"genre_count\": 9}, {\"genre_count\": 6}, {\"genre_count\": 16}, {\"genre_count\": 9}, {\"genre_count\": 6}, {\"genre_count\": 5}, {\"genre_count\": 4}, {\"genre_count\": 4}, {\"genre_count\": 10}, {\"genre_count\": 9}, {\"genre_count\": 9}, {\"genre_count\": 2}, {\"genre_count\": 1}, {\"genre_count\": 4}, {\"genre_count\": 5}, {\"genre_count\": 10}, {\"genre_count\": 9}, {\"genre_count\": 7}, {\"genre_count\": 7}, {\"genre_count\": 9}, {\"genre_count\": 7}, {\"genre_count\": 5}, {\"genre_count\": 7}, {\"genre_count\": 1}, {\"genre_count\": 2}, {\"genre_count\": 4}, {\"genre_count\": 6}, {\"genre_count\": 9}, {\"genre_count\": 3}, {\"genre_count\": 1}, {\"genre_count\": 3}, {\"genre_count\": 4}, {\"genre_count\": 3}, {\"genre_count\": 5}, {\"genre_count\": 3}, {\"genre_count\": 4}, {\"genre_count\": 7}, {\"genre_count\": 2}, {\"genre_count\": 2}, {\"genre_count\": 1}, {\"genre_count\": 1}, {\"genre_count\": 2}, {\"genre_count\": 6}, {\"genre_count\": 8}, {\"genre_count\": 8}, {\"genre_count\": 9}, {\"genre_count\": 6}, {\"genre_count\": 8}, {\"genre_count\": 1}, {\"genre_count\": 7}, {\"genre_count\": 6}, {\"genre_count\": 8}, {\"genre_count\": 1}, {\"genre_count\": 8}, {\"genre_count\": 6}, {\"genre_count\": 7}, {\"genre_count\": 3}, {\"genre_count\": 5}, {\"genre_count\": 6}, {\"genre_count\": 7}, {\"genre_count\": 3}, {\"genre_count\": 9}, {\"genre_count\": 3}, {\"genre_count\": 10}, {\"genre_count\": 14}, {\"genre_count\": 1}, {\"genre_count\": 10}, {\"genre_count\": 4}, {\"genre_count\": 3}, {\"genre_count\": 15}, {\"genre_count\": 9}, {\"genre_count\": 15}, {\"genre_count\": 12}, {\"genre_count\": 1}, {\"genre_count\": 9}, {\"genre_count\": 4}, {\"genre_count\": 2}, {\"genre_count\": 1}, {\"genre_count\": 2}, {\"genre_count\": 1}, {\"genre_count\": 8}, {\"genre_count\": 1}, {\"genre_count\": 2}, {\"genre_count\": 1}, {\"genre_count\": 9}, {\"genre_count\": 5}, {\"genre_count\": 1}, {\"genre_count\": 13}, {\"genre_count\": 4}, {\"genre_count\": 3}, {\"genre_count\": 13}, {\"genre_count\": 8}, {\"genre_count\": 11}, {\"genre_count\": 1}, {\"genre_count\": 9}, {\"genre_count\": 9}, {\"genre_count\": 12}, {\"genre_count\": 17}, {\"genre_count\": 6}, {\"genre_count\": 2}, {\"genre_count\": 7}, {\"genre_count\": 7}, {\"genre_count\": 1}, {\"genre_count\": 5}, {\"genre_count\": 2}, {\"genre_count\": 2}, {\"genre_count\": 2}, {\"genre_count\": 1}, {\"genre_count\": 1}, {\"genre_count\": 12}, {\"genre_count\": 1}, {\"genre_count\": 4}, {\"genre_count\": 2}, {\"genre_count\": 1}, {\"genre_count\": 8}, {\"genre_count\": 1}, {\"genre_count\": 1}, {\"genre_count\": 2}, {\"genre_count\": 1}, {\"genre_count\": 10}, {\"genre_count\": 1}, {\"genre_count\": 1}, {\"genre_count\": 7}, {\"genre_count\": 1}, {\"genre_count\": 1}, {\"genre_count\": 1}, {\"genre_count\": 1}, {\"genre_count\": 1}, {\"genre_count\": 2}, {\"genre_count\": 1}, {\"genre_count\": 4}, {\"genre_count\": 1}, {\"genre_count\": 1}, {\"genre_count\": 5}, {\"genre_count\": 10}, {\"genre_count\": 2}, {\"genre_count\": 8}, {\"genre_count\": 8}, {\"genre_count\": 10}, {\"genre_count\": 2}, {\"genre_count\": 11}, {\"genre_count\": 1}, {\"genre_count\": 5}, {\"genre_count\": 8}, {\"genre_count\": 6}, {\"genre_count\": 6}, {\"genre_count\": 6}, {\"genre_count\": 1}, {\"genre_count\": 7}, {\"genre_count\": 2}, {\"genre_count\": 3}, {\"genre_count\": 1}, {\"genre_count\": 5}, {\"genre_count\": 3}, {\"genre_count\": 6}, {\"genre_count\": 6}, {\"genre_count\": 6}, {\"genre_count\": 3}, {\"genre_count\": 1}, {\"genre_count\": 2}, {\"genre_count\": 1}, {\"genre_count\": 1}, {\"genre_count\": 4}, {\"genre_count\": 2}, {\"genre_count\": 2}, {\"genre_count\": 10}, {\"genre_count\": 2}, {\"genre_count\": 7}, {\"genre_count\": 1}, {\"genre_count\": 2}, {\"genre_count\": 5}, {\"genre_count\": 2}, {\"genre_count\": 5}, {\"genre_count\": 8}, {\"genre_count\": 14}, {\"genre_count\": 1}, {\"genre_count\": 1}, {\"genre_count\": 1}, {\"genre_count\": 1}, {\"genre_count\": 4}, {\"genre_count\": 3}, {\"genre_count\": 2}, {\"genre_count\": 7}, {\"genre_count\": 1}, {\"genre_count\": 4}, {\"genre_count\": 1}, {\"genre_count\": 4}, {\"genre_count\": 3}, {\"genre_count\": 8}, {\"genre_count\": 5}, {\"genre_count\": 5}, {\"genre_count\": 6}, {\"genre_count\": 4}, {\"genre_count\": 9}, {\"genre_count\": 6}, {\"genre_count\": 7}, {\"genre_count\": 1}, {\"genre_count\": 5}, {\"genre_count\": 10}, {\"genre_count\": 4}, {\"genre_count\": 1}, {\"genre_count\": 2}, {\"genre_count\": 1}, {\"genre_count\": 2}, {\"genre_count\": 2}, {\"genre_count\": 7}, {\"genre_count\": 3}, {\"genre_count\": 1}, {\"genre_count\": 6}, {\"genre_count\": 1}, {\"genre_count\": 5}, {\"genre_count\": 4}, {\"genre_count\": 3}, {\"genre_count\": 6}, {\"genre_count\": 7}, {\"genre_count\": 3}, {\"genre_count\": 3}, {\"genre_count\": 2}, {\"genre_count\": 2}, {\"genre_count\": 13}, {\"genre_count\": 12}, {\"genre_count\": 11}, {\"genre_count\": 8}, {\"genre_count\": 10}, {\"genre_count\": 1}, {\"genre_count\": 1}, {\"genre_count\": 1}, {\"genre_count\": 1}, {\"genre_count\": 8}, {\"genre_count\": 1}, {\"genre_count\": 1}, {\"genre_count\": 1}, {\"genre_count\": 1}, {\"genre_count\": 6}, {\"genre_count\": 1}, {\"genre_count\": 1}, {\"genre_count\": 3}, {\"genre_count\": 3}, {\"genre_count\": 5}, {\"genre_count\": 4}, {\"genre_count\": 8}, {\"genre_count\": 3}, {\"genre_count\": 1}, {\"genre_count\": 1}, {\"genre_count\": 6}, {\"genre_count\": 2}, {\"genre_count\": 4}, {\"genre_count\": 1}, {\"genre_count\": 3}, {\"genre_count\": 5}, {\"genre_count\": 3}, {\"genre_count\": 1}, {\"genre_count\": 2}, {\"genre_count\": 2}, {\"genre_count\": 1}, {\"genre_count\": 2}, {\"genre_count\": 2}, {\"genre_count\": 3}, {\"genre_count\": 1}, {\"genre_count\": 1}, {\"genre_count\": 4}, {\"genre_count\": 5}, {\"genre_count\": 4}, {\"genre_count\": 7}, {\"genre_count\": 6}, {\"genre_count\": 10}, {\"genre_count\": 9}, {\"genre_count\": 13}, {\"genre_count\": 4}, {\"genre_count\": 7}, {\"genre_count\": 12}, {\"genre_count\": 5}, {\"genre_count\": 8}, {\"genre_count\": 8}, {\"genre_count\": 6}, {\"genre_count\": 6}, {\"genre_count\": 6}, {\"genre_count\": 7}, {\"genre_count\": 5}, {\"genre_count\": 7}, {\"genre_count\": 4}, {\"genre_count\": 5}, {\"genre_count\": 2}, {\"genre_count\": 2}, {\"genre_count\": 2}, {\"genre_count\": 7}, {\"genre_count\": 6}, {\"genre_count\": 5}, {\"genre_count\": 7}, {\"genre_count\": 2}, {\"genre_count\": 4}, {\"genre_count\": 7}, {\"genre_count\": 3}, {\"genre_count\": 7}, {\"genre_count\": 6}, {\"genre_count\": 1}, {\"genre_count\": 1}, {\"genre_count\": 8}, {\"genre_count\": 6}, {\"genre_count\": 9}, {\"genre_count\": 7}, {\"genre_count\": 9}, {\"genre_count\": 9}, {\"genre_count\": 5}, {\"genre_count\": 7}, {\"genre_count\": 2}, {\"genre_count\": 6}, {\"genre_count\": 4}, {\"genre_count\": 7}, {\"genre_count\": 1}, {\"genre_count\": 5}, {\"genre_count\": 6}, {\"genre_count\": 5}, {\"genre_count\": 9}, {\"genre_count\": 7}, {\"genre_count\": 7}, {\"genre_count\": 6}, {\"genre_count\": 7}, {\"genre_count\": 6}, {\"genre_count\": 8}, {\"genre_count\": 1}, {\"genre_count\": 6}, {\"genre_count\": 3}, {\"genre_count\": 3}, {\"genre_count\": 1}, {\"genre_count\": 1}, {\"genre_count\": 2}, {\"genre_count\": 8}, {\"genre_count\": 2}, {\"genre_count\": 1}, {\"genre_count\": 2}, {\"genre_count\": 8}, {\"genre_count\": 2}, {\"genre_count\": 5}, {\"genre_count\": 5}, {\"genre_count\": 6}, {\"genre_count\": 8}, {\"genre_count\": 2}, {\"genre_count\": 5}, {\"genre_count\": 7}, {\"genre_count\": 8}, {\"genre_count\": 13}, {\"genre_count\": 9}, {\"genre_count\": 7}, {\"genre_count\": 19}, {\"genre_count\": 9}, {\"genre_count\": 9}, {\"genre_count\": 5}, {\"genre_count\": 11}, {\"genre_count\": 5}, {\"genre_count\": 7}, {\"genre_count\": 2}, {\"genre_count\": 13}, {\"genre_count\": 8}, {\"genre_count\": 13}, {\"genre_count\": 11}, {\"genre_count\": 13}, {\"genre_count\": 14}, {\"genre_count\": 9}, {\"genre_count\": 12}, {\"genre_count\": 1}, {\"genre_count\": 7}, {\"genre_count\": 5}, {\"genre_count\": 4}, {\"genre_count\": 6}, {\"genre_count\": 7}, {\"genre_count\": 6}, {\"genre_count\": 4}, {\"genre_count\": 7}, {\"genre_count\": 9}, {\"genre_count\": 6}, {\"genre_count\": 6}, {\"genre_count\": 9}, {\"genre_count\": 7}, {\"genre_count\": 9}, {\"genre_count\": 9}, {\"genre_count\": 9}, {\"genre_count\": 6}, {\"genre_count\": 6}, {\"genre_count\": 11}, {\"genre_count\": 7}, {\"genre_count\": 9}, {\"genre_count\": 7}, {\"genre_count\": 8}, {\"genre_count\": 6}, {\"genre_count\": 7}, {\"genre_count\": 6}, {\"genre_count\": 3}, {\"genre_count\": 8}, {\"genre_count\": 9}, {\"genre_count\": 6}, {\"genre_count\": 1}, {\"genre_count\": 9}, {\"genre_count\": 5}, {\"genre_count\": 7}, {\"genre_count\": 8}, {\"genre_count\": 12}, {\"genre_count\": 10}, {\"genre_count\": 12}, {\"genre_count\": 13}, {\"genre_count\": 9}, {\"genre_count\": 1}, {\"genre_count\": 4}, {\"genre_count\": 1}, {\"genre_count\": 3}, {\"genre_count\": 4}, {\"genre_count\": 4}, {\"genre_count\": 8}, {\"genre_count\": 5}, {\"genre_count\": 11}, {\"genre_count\": 10}, {\"genre_count\": 10}, {\"genre_count\": 6}, {\"genre_count\": 1}, {\"genre_count\": 1}, {\"genre_count\": 1}, {\"genre_count\": 10}, {\"genre_count\": 3}, {\"genre_count\": 3}, {\"genre_count\": 1}, {\"genre_count\": 4}, {\"genre_count\": 1}, {\"genre_count\": 7}, {\"genre_count\": 6}, {\"genre_count\": 1}, {\"genre_count\": 1}, {\"genre_count\": 8}, {\"genre_count\": 6}, {\"genre_count\": 6}, {\"genre_count\": 5}, {\"genre_count\": 1}, {\"genre_count\": 1}, {\"genre_count\": 4}, {\"genre_count\": 1}, {\"genre_count\": 1}, {\"genre_count\": 1}, {\"genre_count\": 1}, {\"genre_count\": 4}, {\"genre_count\": 4}, {\"genre_count\": 3}, {\"genre_count\": 1}, {\"genre_count\": 4}, {\"genre_count\": 2}, {\"genre_count\": 4}, {\"genre_count\": 2}, {\"genre_count\": 3}, {\"genre_count\": 1}, {\"genre_count\": 4}, {\"genre_count\": 3}, {\"genre_count\": 2}, {\"genre_count\": 1}, {\"genre_count\": 3}, {\"genre_count\": 6}, {\"genre_count\": 3}, {\"genre_count\": 4}, {\"genre_count\": 6}, {\"genre_count\": 1}, {\"genre_count\": 3}, {\"genre_count\": 5}, {\"genre_count\": 6}, {\"genre_count\": 3}, {\"genre_count\": 11}, {\"genre_count\": 8}, {\"genre_count\": 5}, {\"genre_count\": 5}, {\"genre_count\": 4}, {\"genre_count\": 3}, {\"genre_count\": 2}, {\"genre_count\": 4}, {\"genre_count\": 5}, {\"genre_count\": 3}, {\"genre_count\": 9}, {\"genre_count\": 7}, {\"genre_count\": 2}, {\"genre_count\": 5}, {\"genre_count\": 7}, {\"genre_count\": 2}, {\"genre_count\": 3}, {\"genre_count\": 2}, {\"genre_count\": 3}, {\"genre_count\": 2}, {\"genre_count\": 3}, {\"genre_count\": 4}, {\"genre_count\": 7}, {\"genre_count\": 1}, {\"genre_count\": 4}, {\"genre_count\": 8}, {\"genre_count\": 2}, {\"genre_count\": 9}, {\"genre_count\": 5}, {\"genre_count\": 12}, {\"genre_count\": 6}, {\"genre_count\": 1}, {\"genre_count\": 6}, {\"genre_count\": 9}, {\"genre_count\": 4}, {\"genre_count\": 4}, {\"genre_count\": 4}, {\"genre_count\": 1}, {\"genre_count\": 5}, {\"genre_count\": 2}, {\"genre_count\": 5}, {\"genre_count\": 3}, {\"genre_count\": 6}, {\"genre_count\": 3}, {\"genre_count\": 10}, {\"genre_count\": 2}, {\"genre_count\": 10}, {\"genre_count\": 2}, {\"genre_count\": 1}, {\"genre_count\": 6}, {\"genre_count\": 3}, {\"genre_count\": 1}, {\"genre_count\": 6}, {\"genre_count\": 8}, {\"genre_count\": 6}, {\"genre_count\": 6}, {\"genre_count\": 7}, {\"genre_count\": 4}, {\"genre_count\": 6}, {\"genre_count\": 3}, {\"genre_count\": 3}, {\"genre_count\": 1}, {\"genre_count\": 2}, {\"genre_count\": 2}, {\"genre_count\": 6}, {\"genre_count\": 1}, {\"genre_count\": 9}, {\"genre_count\": 1}, {\"genre_count\": 1}, {\"genre_count\": 1}, {\"genre_count\": 3}, {\"genre_count\": 10}, {\"genre_count\": 4}, {\"genre_count\": 3}, {\"genre_count\": 1}, {\"genre_count\": 3}, {\"genre_count\": 1}, {\"genre_count\": 3}, {\"genre_count\": 5}, {\"genre_count\": 3}, {\"genre_count\": 1}, {\"genre_count\": 3}, {\"genre_count\": 2}, {\"genre_count\": 2}, {\"genre_count\": 1}, {\"genre_count\": 7}, {\"genre_count\": 5}, {\"genre_count\": 1}, {\"genre_count\": 5}, {\"genre_count\": 1}, {\"genre_count\": 6}, {\"genre_count\": 10}, {\"genre_count\": 8}, {\"genre_count\": 10}, {\"genre_count\": 4}, {\"genre_count\": 7}, {\"genre_count\": 3}, {\"genre_count\": 8}, {\"genre_count\": 3}, {\"genre_count\": 2}, {\"genre_count\": 4}, {\"genre_count\": 5}, {\"genre_count\": 5}, {\"genre_count\": 3}, {\"genre_count\": 3}, {\"genre_count\": 4}, {\"genre_count\": 5}, {\"genre_count\": 7}, {\"genre_count\": 5}, {\"genre_count\": 1}, {\"genre_count\": 1}, {\"genre_count\": 1}, {\"genre_count\": 2}, {\"genre_count\": 5}, {\"genre_count\": 2}, {\"genre_count\": 1}, {\"genre_count\": 1}, {\"genre_count\": 4}, {\"genre_count\": 1}, {\"genre_count\": 2}, {\"genre_count\": 2}, {\"genre_count\": 5}, {\"genre_count\": 1}, {\"genre_count\": 3}, {\"genre_count\": 5}, {\"genre_count\": 1}, {\"genre_count\": 2}, {\"genre_count\": 10}, {\"genre_count\": 5}, {\"genre_count\": 7}, {\"genre_count\": 4}, {\"genre_count\": 4}, {\"genre_count\": 5}, {\"genre_count\": 3}, {\"genre_count\": 5}, {\"genre_count\": 8}, {\"genre_count\": 2}, {\"genre_count\": 6}, {\"genre_count\": 4}, {\"genre_count\": 3}, {\"genre_count\": 8}, {\"genre_count\": 6}, {\"genre_count\": 8}, {\"genre_count\": 6}, {\"genre_count\": 2}, {\"genre_count\": 8}, {\"genre_count\": 1}, {\"genre_count\": 8}, {\"genre_count\": 4}, {\"genre_count\": 4}, {\"genre_count\": 8}, {\"genre_count\": 2}, {\"genre_count\": 1}, {\"genre_count\": 1}, {\"genre_count\": 2}, {\"genre_count\": 3}, {\"genre_count\": 3}, {\"genre_count\": 1}, {\"genre_count\": 5}, {\"genre_count\": 5}, {\"genre_count\": 4}, {\"genre_count\": 13}, {\"genre_count\": 9}, {\"genre_count\": 1}, {\"genre_count\": 6}, {\"genre_count\": 5}, {\"genre_count\": 6}, {\"genre_count\": 6}, {\"genre_count\": 7}, {\"genre_count\": 8}, {\"genre_count\": 6}, {\"genre_count\": 9}, {\"genre_count\": 6}, {\"genre_count\": 2}, {\"genre_count\": 4}, {\"genre_count\": 6}, {\"genre_count\": 6}, {\"genre_count\": 1}, {\"genre_count\": 5}, {\"genre_count\": 1}, {\"genre_count\": 8}, {\"genre_count\": 8}, {\"genre_count\": 2}, {\"genre_count\": 1}, {\"genre_count\": 3}, {\"genre_count\": 2}, {\"genre_count\": 4}, {\"genre_count\": 1}, {\"genre_count\": 1}, {\"genre_count\": 3}, {\"genre_count\": 9}, {\"genre_count\": 8}, {\"genre_count\": 1}, {\"genre_count\": 5}, {\"genre_count\": 2}, {\"genre_count\": 6}, {\"genre_count\": 1}, {\"genre_count\": 1}, {\"genre_count\": 3}, {\"genre_count\": 4}, {\"genre_count\": 4}, {\"genre_count\": 1}, {\"genre_count\": 1}, {\"genre_count\": 4}, {\"genre_count\": 4}, {\"genre_count\": 2}, {\"genre_count\": 1}, {\"genre_count\": 3}, {\"genre_count\": 1}, {\"genre_count\": 7}, {\"genre_count\": 3}, {\"genre_count\": 8}, {\"genre_count\": 6}, {\"genre_count\": 4}, {\"genre_count\": 7}, {\"genre_count\": 2}, {\"genre_count\": 7}, {\"genre_count\": 10}, {\"genre_count\": 2}, {\"genre_count\": 3}, {\"genre_count\": 9}, {\"genre_count\": 7}, {\"genre_count\": 2}, {\"genre_count\": 5}, {\"genre_count\": 6}, {\"genre_count\": 7}, {\"genre_count\": 5}, {\"genre_count\": 9}, {\"genre_count\": 5}, {\"genre_count\": 6}, {\"genre_count\": 6}, {\"genre_count\": 4}, {\"genre_count\": 1}, {\"genre_count\": 4}, {\"genre_count\": 7}, {\"genre_count\": 12}, {\"genre_count\": 2}, {\"genre_count\": 4}, {\"genre_count\": 3}, {\"genre_count\": 5}, {\"genre_count\": 14}, {\"genre_count\": 5}, {\"genre_count\": 2}, {\"genre_count\": 1}, {\"genre_count\": 1}, {\"genre_count\": 1}, {\"genre_count\": 3}, {\"genre_count\": 5}, {\"genre_count\": 2}, {\"genre_count\": 5}, {\"genre_count\": 4}, {\"genre_count\": 6}, {\"genre_count\": 8}, {\"genre_count\": 1}, {\"genre_count\": 1}, {\"genre_count\": 5}, {\"genre_count\": 5}, {\"genre_count\": 6}, {\"genre_count\": 4}, {\"genre_count\": 2}, {\"genre_count\": 3}, {\"genre_count\": 5}, {\"genre_count\": 4}, {\"genre_count\": 2}, {\"genre_count\": 6}, {\"genre_count\": 4}, {\"genre_count\": 1}, {\"genre_count\": 3}, {\"genre_count\": 4}, {\"genre_count\": 2}, {\"genre_count\": 4}, {\"genre_count\": 2}, {\"genre_count\": 3}, {\"genre_count\": 5}, {\"genre_count\": 1}, {\"genre_count\": 6}, {\"genre_count\": 2}, {\"genre_count\": 6}, {\"genre_count\": 2}, {\"genre_count\": 6}, {\"genre_count\": 1}, {\"genre_count\": 4}, {\"genre_count\": 10}, {\"genre_count\": 1}, {\"genre_count\": 5}, {\"genre_count\": 1}, {\"genre_count\": 3}, {\"genre_count\": 3}, {\"genre_count\": 2}, {\"genre_count\": 1}, {\"genre_count\": 5}, {\"genre_count\": 5}, {\"genre_count\": 1}, {\"genre_count\": 3}, {\"genre_count\": 4}, {\"genre_count\": 1}, {\"genre_count\": 1}, {\"genre_count\": 5}, {\"genre_count\": 3}, {\"genre_count\": 5}, {\"genre_count\": 2}, {\"genre_count\": 2}, {\"genre_count\": 3}, {\"genre_count\": 4}, {\"genre_count\": 1}, {\"genre_count\": 5}, {\"genre_count\": 3}, {\"genre_count\": 2}, {\"genre_count\": 3}, {\"genre_count\": 8}, {\"genre_count\": 6}, {\"genre_count\": 6}, {\"genre_count\": 1}, {\"genre_count\": 6}, {\"genre_count\": 4}, {\"genre_count\": 6}, {\"genre_count\": 2}, {\"genre_count\": 2}, {\"genre_count\": 3}, {\"genre_count\": 3}, {\"genre_count\": 9}, {\"genre_count\": 8}, {\"genre_count\": 1}, {\"genre_count\": 1}, {\"genre_count\": 10}, {\"genre_count\": 5}, {\"genre_count\": 9}, {\"genre_count\": 1}, {\"genre_count\": 6}, {\"genre_count\": 2}, {\"genre_count\": 1}, {\"genre_count\": 3}, {\"genre_count\": 10}, {\"genre_count\": 4}, {\"genre_count\": 3}, {\"genre_count\": 1}, {\"genre_count\": 2}, {\"genre_count\": 7}, {\"genre_count\": 2}, {\"genre_count\": 5}, {\"genre_count\": 2}, {\"genre_count\": 6}, {\"genre_count\": 7}, {\"genre_count\": 2}, {\"genre_count\": 6}, {\"genre_count\": 6}, {\"genre_count\": 2}, {\"genre_count\": 2}, {\"genre_count\": 6}, {\"genre_count\": 3}, {\"genre_count\": 4}, {\"genre_count\": 1}, {\"genre_count\": 1}, {\"genre_count\": 4}, {\"genre_count\": 1}, {\"genre_count\": 2}, {\"genre_count\": 2}, {\"genre_count\": 4}, {\"genre_count\": 3}, {\"genre_count\": 3}, {\"genre_count\": 1}, {\"genre_count\": 9}, {\"genre_count\": 6}, {\"genre_count\": 4}, {\"genre_count\": 4}, {\"genre_count\": 4}, {\"genre_count\": 5}, {\"genre_count\": 6}, {\"genre_count\": 9}, {\"genre_count\": 2}, {\"genre_count\": 2}, {\"genre_count\": 1}, {\"genre_count\": 2}, {\"genre_count\": 8}, {\"genre_count\": 5}, {\"genre_count\": 5}, {\"genre_count\": 7}, {\"genre_count\": 5}, {\"genre_count\": 8}, {\"genre_count\": 4}, {\"genre_count\": 1}, {\"genre_count\": 7}, {\"genre_count\": 7}, {\"genre_count\": 2}, {\"genre_count\": 1}, {\"genre_count\": 1}, {\"genre_count\": 6}, {\"genre_count\": 6}, {\"genre_count\": 2}, {\"genre_count\": 9}, {\"genre_count\": 1}, {\"genre_count\": 2}, {\"genre_count\": 2}, {\"genre_count\": 3}, {\"genre_count\": 1}, {\"genre_count\": 2}, {\"genre_count\": 2}, {\"genre_count\": 3}, {\"genre_count\": 7}, {\"genre_count\": 1}, {\"genre_count\": 3}, {\"genre_count\": 6}, {\"genre_count\": 4}, {\"genre_count\": 1}, {\"genre_count\": 4}, {\"genre_count\": 1}, {\"genre_count\": 6}, {\"genre_count\": 6}, {\"genre_count\": 2}, {\"genre_count\": 3}, {\"genre_count\": 3}, {\"genre_count\": 1}, {\"genre_count\": 3}, {\"genre_count\": 3}, {\"genre_count\": 5}, {\"genre_count\": 2}, {\"genre_count\": 1}, {\"genre_count\": 3}, {\"genre_count\": 2}, {\"genre_count\": 4}, {\"genre_count\": 1}, {\"genre_count\": 5}, {\"genre_count\": 3}, {\"genre_count\": 2}, {\"genre_count\": 2}, {\"genre_count\": 8}, {\"genre_count\": 1}, {\"genre_count\": 3}, {\"genre_count\": 1}, {\"genre_count\": 2}, {\"genre_count\": 2}, {\"genre_count\": 2}, {\"genre_count\": 10}, {\"genre_count\": 3}, {\"genre_count\": 3}, {\"genre_count\": 11}, {\"genre_count\": 2}, {\"genre_count\": 1}, {\"genre_count\": 2}, {\"genre_count\": 1}, {\"genre_count\": 3}, {\"genre_count\": 5}, {\"genre_count\": 12}, {\"genre_count\": 8}, {\"genre_count\": 1}, {\"genre_count\": 7}, {\"genre_count\": 6}, {\"genre_count\": 4}, {\"genre_count\": 6}, {\"genre_count\": 6}, {\"genre_count\": 5}, {\"genre_count\": 1}, {\"genre_count\": 4}, {\"genre_count\": 9}, {\"genre_count\": 8}, {\"genre_count\": 4}, {\"genre_count\": 1}, {\"genre_count\": 7}, {\"genre_count\": 2}, {\"genre_count\": 1}, {\"genre_count\": 1}, {\"genre_count\": 7}, {\"genre_count\": 5}, {\"genre_count\": 1}, {\"genre_count\": 3}, {\"genre_count\": 2}, {\"genre_count\": 5}, {\"genre_count\": 2}, {\"genre_count\": 1}, {\"genre_count\": 2}, {\"genre_count\": 3}, {\"genre_count\": 1}, {\"genre_count\": 2}, {\"genre_count\": 1}, {\"genre_count\": 1}, {\"genre_count\": 3}, {\"genre_count\": 1}, {\"genre_count\": 1}, {\"genre_count\": 5}, {\"genre_count\": 3}, {\"genre_count\": 2}, {\"genre_count\": 1}, {\"genre_count\": 3}, {\"genre_count\": 4}, {\"genre_count\": 1}, {\"genre_count\": 1}, {\"genre_count\": 6}, {\"genre_count\": 6}, {\"genre_count\": 5}, {\"genre_count\": 2}, {\"genre_count\": 8}, {\"genre_count\": 1}, {\"genre_count\": 7}, {\"genre_count\": 1}, {\"genre_count\": 7}, {\"genre_count\": 2}, {\"genre_count\": 1}, {\"genre_count\": 1}, {\"genre_count\": 4}, {\"genre_count\": 2}, {\"genre_count\": 1}, {\"genre_count\": 5}, {\"genre_count\": 3}, {\"genre_count\": 4}, {\"genre_count\": 2}, {\"genre_count\": 1}, {\"genre_count\": 8}, {\"genre_count\": 1}, {\"genre_count\": 4}, {\"genre_count\": 1}, {\"genre_count\": 4}, {\"genre_count\": 1}, {\"genre_count\": 3}, {\"genre_count\": 4}, {\"genre_count\": 1}, {\"genre_count\": 5}, {\"genre_count\": 7}, {\"genre_count\": 2}, {\"genre_count\": 3}, {\"genre_count\": 5}, {\"genre_count\": 1}, {\"genre_count\": 8}, {\"genre_count\": 3}, {\"genre_count\": 8}, {\"genre_count\": 2}, {\"genre_count\": 2}, {\"genre_count\": 2}, {\"genre_count\": 1}, {\"genre_count\": 15}, {\"genre_count\": 5}, {\"genre_count\": 2}, {\"genre_count\": 3}, {\"genre_count\": 1}, {\"genre_count\": 11}, {\"genre_count\": 2}, {\"genre_count\": 2}, {\"genre_count\": 2}, {\"genre_count\": 3}, {\"genre_count\": 5}, {\"genre_count\": 4}, {\"genre_count\": 2}, {\"genre_count\": 8}, {\"genre_count\": 3}, {\"genre_count\": 7}, {\"genre_count\": 2}, {\"genre_count\": 7}, {\"genre_count\": 1}, {\"genre_count\": 2}, {\"genre_count\": 1}, {\"genre_count\": 13}, {\"genre_count\": 5}, {\"genre_count\": 1}, {\"genre_count\": 2}, {\"genre_count\": 5}, {\"genre_count\": 6}, {\"genre_count\": 1}, {\"genre_count\": 2}, {\"genre_count\": 3}, {\"genre_count\": 1}, {\"genre_count\": 3}, {\"genre_count\": 1}, {\"genre_count\": 2}, {\"genre_count\": 3}, {\"genre_count\": 6}, {\"genre_count\": 2}, {\"genre_count\": 4}, {\"genre_count\": 5}, {\"genre_count\": 3}, {\"genre_count\": 5}, {\"genre_count\": 2}, {\"genre_count\": 5}, {\"genre_count\": 1}, {\"genre_count\": 7}, {\"genre_count\": 3}, {\"genre_count\": 4}, {\"genre_count\": 8}, {\"genre_count\": 2}, {\"genre_count\": 8}, {\"genre_count\": 6}, {\"genre_count\": 8}, {\"genre_count\": 2}, {\"genre_count\": 2}, {\"genre_count\": 6}, {\"genre_count\": 3}, {\"genre_count\": 8}, {\"genre_count\": 2}, {\"genre_count\": 2}, {\"genre_count\": 15}, {\"genre_count\": 3}, {\"genre_count\": 9}, {\"genre_count\": 7}, {\"genre_count\": 4}, {\"genre_count\": 1}, {\"genre_count\": 2}, {\"genre_count\": 1}, {\"genre_count\": 2}, {\"genre_count\": 1}, {\"genre_count\": 3}, {\"genre_count\": 4}, {\"genre_count\": 4}, {\"genre_count\": 1}, {\"genre_count\": 1}, {\"genre_count\": 11}, {\"genre_count\": 3}, {\"genre_count\": 7}, {\"genre_count\": 2}, {\"genre_count\": 9}, {\"genre_count\": 5}, {\"genre_count\": 2}, {\"genre_count\": 5}, {\"genre_count\": 9}, {\"genre_count\": 3}, {\"genre_count\": 6}, {\"genre_count\": 2}, {\"genre_count\": 1}, {\"genre_count\": 2}, {\"genre_count\": 3}, {\"genre_count\": 4}, {\"genre_count\": 5}, {\"genre_count\": 4}, {\"genre_count\": 5}, {\"genre_count\": 1}, {\"genre_count\": 1}, {\"genre_count\": 2}, {\"genre_count\": 1}, {\"genre_count\": 9}, {\"genre_count\": 3}, {\"genre_count\": 3}, {\"genre_count\": 2}, {\"genre_count\": 3}, {\"genre_count\": 8}, {\"genre_count\": 1}, {\"genre_count\": 4}, {\"genre_count\": 5}, {\"genre_count\": 4}, {\"genre_count\": 6}, {\"genre_count\": 3}, {\"genre_count\": 1}, {\"genre_count\": 1}, {\"genre_count\": 1}, {\"genre_count\": 2}, {\"genre_count\": 6}, {\"genre_count\": 1}, {\"genre_count\": 1}, {\"genre_count\": 2}, {\"genre_count\": 2}, {\"genre_count\": 2}, {\"genre_count\": 4}, {\"genre_count\": 4}, {\"genre_count\": 4}, {\"genre_count\": 3}, {\"genre_count\": 2}, {\"genre_count\": 2}, {\"genre_count\": 3}, {\"genre_count\": 7}, {\"genre_count\": 2}, {\"genre_count\": 2}, {\"genre_count\": 1}, {\"genre_count\": 1}, {\"genre_count\": 6}, {\"genre_count\": 1}, {\"genre_count\": 8}, {\"genre_count\": 3}, {\"genre_count\": 4}, {\"genre_count\": 4}, {\"genre_count\": 7}, {\"genre_count\": 8}, {\"genre_count\": 1}, {\"genre_count\": 8}, {\"genre_count\": 1}, {\"genre_count\": 2}, {\"genre_count\": 2}, {\"genre_count\": 3}, {\"genre_count\": 1}, {\"genre_count\": 3}, {\"genre_count\": 9}, {\"genre_count\": 5}, {\"genre_count\": 1}, {\"genre_count\": 3}, {\"genre_count\": 2}, {\"genre_count\": 1}, {\"genre_count\": 1}, {\"genre_count\": 4}, {\"genre_count\": 5}, {\"genre_count\": 5}, {\"genre_count\": 2}, {\"genre_count\": 6}, {\"genre_count\": 5}, {\"genre_count\": 3}, {\"genre_count\": 1}, {\"genre_count\": 5}, {\"genre_count\": 4}, {\"genre_count\": 2}, {\"genre_count\": 2}, {\"genre_count\": 3}, {\"genre_count\": 4}, {\"genre_count\": 2}, {\"genre_count\": 5}, {\"genre_count\": 1}, {\"genre_count\": 5}, {\"genre_count\": 5}, {\"genre_count\": 6}, {\"genre_count\": 2}, {\"genre_count\": 2}, {\"genre_count\": 1}, {\"genre_count\": 4}, {\"genre_count\": 3}, {\"genre_count\": 2}, {\"genre_count\": 3}, {\"genre_count\": 4}, {\"genre_count\": 6}, {\"genre_count\": 6}, {\"genre_count\": 3}, {\"genre_count\": 4}, {\"genre_count\": 5}, {\"genre_count\": 3}, {\"genre_count\": 6}, {\"genre_count\": 1}, {\"genre_count\": 2}, {\"genre_count\": 4}, {\"genre_count\": 8}, {\"genre_count\": 1}, {\"genre_count\": 2}, {\"genre_count\": 8}, {\"genre_count\": 5}, {\"genre_count\": 8}, {\"genre_count\": 5}, {\"genre_count\": 1}, {\"genre_count\": 2}, {\"genre_count\": 1}, {\"genre_count\": 2}, {\"genre_count\": 1}, {\"genre_count\": 7}, {\"genre_count\": 2}, {\"genre_count\": 1}, {\"genre_count\": 2}, {\"genre_count\": 2}, {\"genre_count\": 7}, {\"genre_count\": 1}, {\"genre_count\": 5}, {\"genre_count\": 9}, {\"genre_count\": 8}, {\"genre_count\": 3}, {\"genre_count\": 1}, {\"genre_count\": 1}, {\"genre_count\": 4}, {\"genre_count\": 8}, {\"genre_count\": 2}, {\"genre_count\": 1}, {\"genre_count\": 5}, {\"genre_count\": 3}, {\"genre_count\": 1}, {\"genre_count\": 6}, {\"genre_count\": 3}, {\"genre_count\": 3}, {\"genre_count\": 4}, {\"genre_count\": 2}, {\"genre_count\": 1}, {\"genre_count\": 1}, {\"genre_count\": 9}, {\"genre_count\": 2}, {\"genre_count\": 2}, {\"genre_count\": 2}, {\"genre_count\": 3}, {\"genre_count\": 6}, {\"genre_count\": 11}, {\"genre_count\": 1}, {\"genre_count\": 1}, {\"genre_count\": 8}, {\"genre_count\": 5}, {\"genre_count\": 5}, {\"genre_count\": 1}, {\"genre_count\": 2}, {\"genre_count\": 4}, {\"genre_count\": 4}, {\"genre_count\": 1}, {\"genre_count\": 1}, {\"genre_count\": 1}, {\"genre_count\": 1}, {\"genre_count\": 2}, {\"genre_count\": 1}, {\"genre_count\": 1}, {\"genre_count\": 7}, {\"genre_count\": 8}, {\"genre_count\": 12}, {\"genre_count\": 10}, {\"genre_count\": 6}, {\"genre_count\": 3}, {\"genre_count\": 3}, {\"genre_count\": 8}, {\"genre_count\": 10}, {\"genre_count\": 8}, {\"genre_count\": 5}, {\"genre_count\": 2}, {\"genre_count\": 6}, {\"genre_count\": 2}, {\"genre_count\": 2}, {\"genre_count\": 10}, {\"genre_count\": 5}, {\"genre_count\": 4}, {\"genre_count\": 8}, {\"genre_count\": 6}, {\"genre_count\": 1}, {\"genre_count\": 7}, {\"genre_count\": 2}, {\"genre_count\": 1}, {\"genre_count\": 7}, {\"genre_count\": 6}, {\"genre_count\": 4}, {\"genre_count\": 2}, {\"genre_count\": 1}, {\"genre_count\": 1}, {\"genre_count\": 2}, {\"genre_count\": 1}, {\"genre_count\": 6}, {\"genre_count\": 3}, {\"genre_count\": 1}, {\"genre_count\": 2}, {\"genre_count\": 7}, {\"genre_count\": 1}, {\"genre_count\": 3}, {\"genre_count\": 4}, {\"genre_count\": 2}, {\"genre_count\": 5}, {\"genre_count\": 3}, {\"genre_count\": 5}, {\"genre_count\": 2}, {\"genre_count\": 6}, {\"genre_count\": 5}, {\"genre_count\": 5}, {\"genre_count\": 2}, {\"genre_count\": 2}, {\"genre_count\": 3}, {\"genre_count\": 8}, {\"genre_count\": 2}, {\"genre_count\": 3}, {\"genre_count\": 6}, {\"genre_count\": 1}, {\"genre_count\": 3}, {\"genre_count\": 8}, {\"genre_count\": 3}, {\"genre_count\": 3}, {\"genre_count\": 5}, {\"genre_count\": 2}, {\"genre_count\": 1}, {\"genre_count\": 3}, {\"genre_count\": 2}, {\"genre_count\": 2}, {\"genre_count\": 2}, {\"genre_count\": 5}, {\"genre_count\": 1}, {\"genre_count\": 1}, {\"genre_count\": 6}, {\"genre_count\": 1}, {\"genre_count\": 1}, {\"genre_count\": 6}, {\"genre_count\": 1}, {\"genre_count\": 1}, {\"genre_count\": 4}, {\"genre_count\": 1}, {\"genre_count\": 9}, {\"genre_count\": 7}, {\"genre_count\": 6}, {\"genre_count\": 7}, {\"genre_count\": 15}, {\"genre_count\": 3}, {\"genre_count\": 1}, {\"genre_count\": 3}, {\"genre_count\": 3}, {\"genre_count\": 1}, {\"genre_count\": 7}, {\"genre_count\": 4}, {\"genre_count\": 3}, {\"genre_count\": 2}, {\"genre_count\": 1}, {\"genre_count\": 1}, {\"genre_count\": 6}, {\"genre_count\": 1}, {\"genre_count\": 3}, {\"genre_count\": 7}, {\"genre_count\": 1}, {\"genre_count\": 1}, {\"genre_count\": 6}, {\"genre_count\": 1}, {\"genre_count\": 2}, {\"genre_count\": 5}, {\"genre_count\": 7}, {\"genre_count\": 2}, {\"genre_count\": 3}, {\"genre_count\": 4}, {\"genre_count\": 4}, {\"genre_count\": 7}, {\"genre_count\": 5}, {\"genre_count\": 5}, {\"genre_count\": 4}, {\"genre_count\": 6}, {\"genre_count\": 1}, {\"genre_count\": 8}, {\"genre_count\": 7}, {\"genre_count\": 4}, {\"genre_count\": 1}, {\"genre_count\": 1}, {\"genre_count\": 6}, {\"genre_count\": 5}, {\"genre_count\": 8}, {\"genre_count\": 3}, {\"genre_count\": 2}, {\"genre_count\": 1}, {\"genre_count\": 1}, {\"genre_count\": 6}, {\"genre_count\": 6}, {\"genre_count\": 2}, {\"genre_count\": 2}, {\"genre_count\": 3}, {\"genre_count\": 1}, {\"genre_count\": 1}, {\"genre_count\": 6}, {\"genre_count\": 2}, {\"genre_count\": 7}, {\"genre_count\": 5}, {\"genre_count\": 3}, {\"genre_count\": 5}, {\"genre_count\": 5}, {\"genre_count\": 3}, {\"genre_count\": 1}, {\"genre_count\": 3}, {\"genre_count\": 3}, {\"genre_count\": 1}, {\"genre_count\": 2}, {\"genre_count\": 1}, {\"genre_count\": 2}, {\"genre_count\": 2}, {\"genre_count\": 5}, {\"genre_count\": 6}, {\"genre_count\": 5}, {\"genre_count\": 5}, {\"genre_count\": 1}, {\"genre_count\": 3}, {\"genre_count\": 1}, {\"genre_count\": 2}, {\"genre_count\": 6}, {\"genre_count\": 3}, {\"genre_count\": 2}, {\"genre_count\": 5}, {\"genre_count\": 3}, {\"genre_count\": 8}, {\"genre_count\": 3}, {\"genre_count\": 2}, {\"genre_count\": 3}, {\"genre_count\": 1}, {\"genre_count\": 7}, {\"genre_count\": 2}, {\"genre_count\": 6}, {\"genre_count\": 2}, {\"genre_count\": 8}, {\"genre_count\": 7}, {\"genre_count\": 2}, {\"genre_count\": 2}, {\"genre_count\": 1}, {\"genre_count\": 4}, {\"genre_count\": 5}, {\"genre_count\": 3}, {\"genre_count\": 5}, {\"genre_count\": 4}, {\"genre_count\": 1}, {\"genre_count\": 2}, {\"genre_count\": 1}, {\"genre_count\": 1}, {\"genre_count\": 2}, {\"genre_count\": 3}, {\"genre_count\": 5}, {\"genre_count\": 3}, {\"genre_count\": 2}, {\"genre_count\": 2}, {\"genre_count\": 3}, {\"genre_count\": 2}, {\"genre_count\": 3}, {\"genre_count\": 1}, {\"genre_count\": 2}, {\"genre_count\": 4}, {\"genre_count\": 4}, {\"genre_count\": 1}, {\"genre_count\": 3}, {\"genre_count\": 6}, {\"genre_count\": 2}, {\"genre_count\": 1}, {\"genre_count\": 6}, {\"genre_count\": 2}, {\"genre_count\": 1}, {\"genre_count\": 8}, {\"genre_count\": 7}, {\"genre_count\": 1}, {\"genre_count\": 6}, {\"genre_count\": 9}, {\"genre_count\": 1}, {\"genre_count\": 1}, {\"genre_count\": 6}, {\"genre_count\": 2}, {\"genre_count\": 1}, {\"genre_count\": 10}, {\"genre_count\": 9}, {\"genre_count\": 1}, {\"genre_count\": 2}, {\"genre_count\": 2}, {\"genre_count\": 2}, {\"genre_count\": 1}, {\"genre_count\": 3}, {\"genre_count\": 6}, {\"genre_count\": 3}, {\"genre_count\": 2}, {\"genre_count\": 4}, {\"genre_count\": 2}, {\"genre_count\": 4}, {\"genre_count\": 4}, {\"genre_count\": 1}, {\"genre_count\": 2}, {\"genre_count\": 9}, {\"genre_count\": 3}, {\"genre_count\": 2}, {\"genre_count\": 5}, {\"genre_count\": 3}, {\"genre_count\": 3}, {\"genre_count\": 1}, {\"genre_count\": 1}, {\"genre_count\": 2}, {\"genre_count\": 1}, {\"genre_count\": 1}, {\"genre_count\": 1}, {\"genre_count\": 4}, {\"genre_count\": 1}, {\"genre_count\": 7}, {\"genre_count\": 1}, {\"genre_count\": 2}, {\"genre_count\": 4}, {\"genre_count\": 2}, {\"genre_count\": 1}, {\"genre_count\": 2}, {\"genre_count\": 6}, {\"genre_count\": 1}, {\"genre_count\": 2}, {\"genre_count\": 6}, {\"genre_count\": 2}, {\"genre_count\": 3}, {\"genre_count\": 3}, {\"genre_count\": 2}, {\"genre_count\": 2}, {\"genre_count\": 3}, {\"genre_count\": 2}, {\"genre_count\": 1}, {\"genre_count\": 2}, {\"genre_count\": 3}, {\"genre_count\": 3}, {\"genre_count\": 3}, {\"genre_count\": 2}, {\"genre_count\": 2}, {\"genre_count\": 2}, {\"genre_count\": 2}, {\"genre_count\": 2}, {\"genre_count\": 3}, {\"genre_count\": 6}, {\"genre_count\": 1}, {\"genre_count\": 1}, {\"genre_count\": 4}, {\"genre_count\": 7}, {\"genre_count\": 3}, {\"genre_count\": 5}, {\"genre_count\": 3}, {\"genre_count\": 3}, {\"genre_count\": 1}, {\"genre_count\": 6}, {\"genre_count\": 2}, {\"genre_count\": 4}, {\"genre_count\": 1}, {\"genre_count\": 8}, {\"genre_count\": 1}, {\"genre_count\": 6}, {\"genre_count\": 2}, {\"genre_count\": 3}, {\"genre_count\": 1}, {\"genre_count\": 3}, {\"genre_count\": 1}, {\"genre_count\": 1}, {\"genre_count\": 2}, {\"genre_count\": 2}, {\"genre_count\": 2}, {\"genre_count\": 5}, {\"genre_count\": 8}, {\"genre_count\": 3}, {\"genre_count\": 2}, {\"genre_count\": 2}, {\"genre_count\": 2}, {\"genre_count\": 2}, {\"genre_count\": 2}, {\"genre_count\": 5}, {\"genre_count\": 1}, {\"genre_count\": 3}, {\"genre_count\": 1}, {\"genre_count\": 1}, {\"genre_count\": 4}, {\"genre_count\": 1}, {\"genre_count\": 3}, {\"genre_count\": 1}, {\"genre_count\": 1}, {\"genre_count\": 3}, {\"genre_count\": 2}, {\"genre_count\": 7}, {\"genre_count\": 2}, {\"genre_count\": 2}, {\"genre_count\": 6}, {\"genre_count\": 1}, {\"genre_count\": 1}, {\"genre_count\": 2}, {\"genre_count\": 2}, {\"genre_count\": 5}, {\"genre_count\": 6}, {\"genre_count\": 2}, {\"genre_count\": 3}, {\"genre_count\": 6}, {\"genre_count\": 3}, {\"genre_count\": 5}, {\"genre_count\": 4}, {\"genre_count\": 3}, {\"genre_count\": 1}, {\"genre_count\": 2}, {\"genre_count\": 2}, {\"genre_count\": 9}, {\"genre_count\": 3}, {\"genre_count\": 1}, {\"genre_count\": 1}, {\"genre_count\": 4}, {\"genre_count\": 1}, {\"genre_count\": 1}, {\"genre_count\": 1}, {\"genre_count\": 7}, {\"genre_count\": 5}, {\"genre_count\": 2}, {\"genre_count\": 12}, {\"genre_count\": 1}, {\"genre_count\": 1}, {\"genre_count\": 8}, {\"genre_count\": 1}, {\"genre_count\": 3}, {\"genre_count\": 1}, {\"genre_count\": 7}, {\"genre_count\": 1}, {\"genre_count\": 2}, {\"genre_count\": 1}, {\"genre_count\": 10}, {\"genre_count\": 1}, {\"genre_count\": 5}, {\"genre_count\": 1}, {\"genre_count\": 1}, {\"genre_count\": 1}, {\"genre_count\": 1}, {\"genre_count\": 3}, {\"genre_count\": 12}, {\"genre_count\": 2}, {\"genre_count\": 3}, {\"genre_count\": 2}, {\"genre_count\": 8}, {\"genre_count\": 2}, {\"genre_count\": 1}, {\"genre_count\": 5}, {\"genre_count\": 3}, {\"genre_count\": 3}, {\"genre_count\": 5}, {\"genre_count\": 2}, {\"genre_count\": 3}, {\"genre_count\": 2}, {\"genre_count\": 3}, {\"genre_count\": 3}, {\"genre_count\": 5}, {\"genre_count\": 1}, {\"genre_count\": 10}, {\"genre_count\": 2}, {\"genre_count\": 5}, {\"genre_count\": 2}, {\"genre_count\": 1}, {\"genre_count\": 3}, {\"genre_count\": 2}, {\"genre_count\": 1}, {\"genre_count\": 1}, {\"genre_count\": 1}, {\"genre_count\": 3}, {\"genre_count\": 1}, {\"genre_count\": 7}, {\"genre_count\": 1}, {\"genre_count\": 1}, {\"genre_count\": 3}, {\"genre_count\": 4}, {\"genre_count\": 3}, {\"genre_count\": 4}, {\"genre_count\": 10}, {\"genre_count\": 5}, {\"genre_count\": 6}, {\"genre_count\": 1}, {\"genre_count\": 12}, {\"genre_count\": 6}, {\"genre_count\": 5}, {\"genre_count\": 4}, {\"genre_count\": 2}, {\"genre_count\": 1}, {\"genre_count\": 2}, {\"genre_count\": 3}, {\"genre_count\": 1}, {\"genre_count\": 4}, {\"genre_count\": 7}, {\"genre_count\": 1}, {\"genre_count\": 1}, {\"genre_count\": 5}, {\"genre_count\": 3}, {\"genre_count\": 3}, {\"genre_count\": 5}, {\"genre_count\": 2}, {\"genre_count\": 6}, {\"genre_count\": 2}, {\"genre_count\": 8}, {\"genre_count\": 5}, {\"genre_count\": 1}, {\"genre_count\": 10}, {\"genre_count\": 2}, {\"genre_count\": 2}, {\"genre_count\": 1}, {\"genre_count\": 1}, {\"genre_count\": 6}, {\"genre_count\": 2}, {\"genre_count\": 4}, {\"genre_count\": 1}, {\"genre_count\": 1}, {\"genre_count\": 1}, {\"genre_count\": 1}, {\"genre_count\": 1}, {\"genre_count\": 14}, {\"genre_count\": 4}, {\"genre_count\": 6}, {\"genre_count\": 4}, {\"genre_count\": 1}, {\"genre_count\": 1}, {\"genre_count\": 7}, {\"genre_count\": 2}, {\"genre_count\": 4}, {\"genre_count\": 1}, {\"genre_count\": 1}, {\"genre_count\": 1}, {\"genre_count\": 4}, {\"genre_count\": 3}, {\"genre_count\": 1}, {\"genre_count\": 1}, {\"genre_count\": 5}, {\"genre_count\": 4}, {\"genre_count\": 12}, {\"genre_count\": 2}, {\"genre_count\": 1}, {\"genre_count\": 7}, {\"genre_count\": 1}, {\"genre_count\": 2}, {\"genre_count\": 8}, {\"genre_count\": 5}, {\"genre_count\": 1}, {\"genre_count\": 1}, {\"genre_count\": 1}, {\"genre_count\": 13}, {\"genre_count\": 2}, {\"genre_count\": 3}, {\"genre_count\": 2}, {\"genre_count\": 5}, {\"genre_count\": 4}, {\"genre_count\": 2}, {\"genre_count\": 3}, {\"genre_count\": 1}, {\"genre_count\": 6}, {\"genre_count\": 1}, {\"genre_count\": 2}, {\"genre_count\": 1}, {\"genre_count\": 3}, {\"genre_count\": 4}, {\"genre_count\": 2}, {\"genre_count\": 1}, {\"genre_count\": 3}, {\"genre_count\": 1}, {\"genre_count\": 4}, {\"genre_count\": 7}, {\"genre_count\": 1}, {\"genre_count\": 2}, {\"genre_count\": 1}, {\"genre_count\": 2}, {\"genre_count\": 1}, {\"genre_count\": 2}, {\"genre_count\": 5}, {\"genre_count\": 1}, {\"genre_count\": 2}, {\"genre_count\": 1}, {\"genre_count\": 2}, {\"genre_count\": 1}, {\"genre_count\": 2}, {\"genre_count\": 2}, {\"genre_count\": 6}, {\"genre_count\": 3}, {\"genre_count\": 4}, {\"genre_count\": 6}, {\"genre_count\": 4}, {\"genre_count\": 6}, {\"genre_count\": 5}, {\"genre_count\": 2}, {\"genre_count\": 4}, {\"genre_count\": 2}, {\"genre_count\": 1}, {\"genre_count\": 4}, {\"genre_count\": 2}, {\"genre_count\": 2}, {\"genre_count\": 4}, {\"genre_count\": 1}, {\"genre_count\": 2}, {\"genre_count\": 10}, {\"genre_count\": 4}, {\"genre_count\": 1}, {\"genre_count\": 1}, {\"genre_count\": 4}, {\"genre_count\": 2}, {\"genre_count\": 1}, {\"genre_count\": 10}, {\"genre_count\": 4}, {\"genre_count\": 2}, {\"genre_count\": 2}, {\"genre_count\": 1}, {\"genre_count\": 3}, {\"genre_count\": 2}, {\"genre_count\": 1}, {\"genre_count\": 1}, {\"genre_count\": 8}, {\"genre_count\": 4}, {\"genre_count\": 1}, {\"genre_count\": 1}, {\"genre_count\": 5}, {\"genre_count\": 1}, {\"genre_count\": 6}, {\"genre_count\": 1}, {\"genre_count\": 4}, {\"genre_count\": 4}, {\"genre_count\": 4}, {\"genre_count\": 1}, {\"genre_count\": 1}, {\"genre_count\": 10}, {\"genre_count\": 8}, {\"genre_count\": 5}, {\"genre_count\": 10}, {\"genre_count\": 3}, {\"genre_count\": 5}, {\"genre_count\": 5}, {\"genre_count\": 1}, {\"genre_count\": 1}, {\"genre_count\": 2}, {\"genre_count\": 2}, {\"genre_count\": 1}, {\"genre_count\": 4}, {\"genre_count\": 1}, {\"genre_count\": 1}, {\"genre_count\": 1}, {\"genre_count\": 2}, {\"genre_count\": 1}, {\"genre_count\": 1}, {\"genre_count\": 1}, {\"genre_count\": 4}, {\"genre_count\": 1}, {\"genre_count\": 2}, {\"genre_count\": 2}, {\"genre_count\": 2}, {\"genre_count\": 1}, {\"genre_count\": 2}, {\"genre_count\": 1}, {\"genre_count\": 12}, {\"genre_count\": 3}, {\"genre_count\": 5}, {\"genre_count\": 2}, {\"genre_count\": 1}, {\"genre_count\": 1}, {\"genre_count\": 3}, {\"genre_count\": 9}, {\"genre_count\": 2}, {\"genre_count\": 3}, {\"genre_count\": 5}, {\"genre_count\": 4}, {\"genre_count\": 8}, {\"genre_count\": 2}, {\"genre_count\": 5}, {\"genre_count\": 5}, {\"genre_count\": 1}, {\"genre_count\": 2}, {\"genre_count\": 1}, {\"genre_count\": 1}, {\"genre_count\": 6}, {\"genre_count\": 3}, {\"genre_count\": 6}, {\"genre_count\": 7}, {\"genre_count\": 4}, {\"genre_count\": 1}, {\"genre_count\": 3}, {\"genre_count\": 3}, {\"genre_count\": 1}, {\"genre_count\": 9}, {\"genre_count\": 4}, {\"genre_count\": 1}, {\"genre_count\": 3}, {\"genre_count\": 2}, {\"genre_count\": 5}, {\"genre_count\": 1}, {\"genre_count\": 1}, {\"genre_count\": 6}, {\"genre_count\": 1}, {\"genre_count\": 1}, {\"genre_count\": 15}, {\"genre_count\": 7}, {\"genre_count\": 1}, {\"genre_count\": 8}, {\"genre_count\": 2}, {\"genre_count\": 2}, {\"genre_count\": 4}, {\"genre_count\": 3}, {\"genre_count\": 3}, {\"genre_count\": 7}, {\"genre_count\": 2}, {\"genre_count\": 9}, {\"genre_count\": 2}, {\"genre_count\": 1}, {\"genre_count\": 4}, {\"genre_count\": 1}, {\"genre_count\": 5}, {\"genre_count\": 8}, {\"genre_count\": 2}, {\"genre_count\": 1}, {\"genre_count\": 5}, {\"genre_count\": 1}, {\"genre_count\": 2}, {\"genre_count\": 1}, {\"genre_count\": 1}, {\"genre_count\": 1}, {\"genre_count\": 7}, {\"genre_count\": 1}, {\"genre_count\": 1}, {\"genre_count\": 5}, {\"genre_count\": 2}, {\"genre_count\": 2}, {\"genre_count\": 1}, {\"genre_count\": 1}, {\"genre_count\": 2}, {\"genre_count\": 1}, {\"genre_count\": 1}, {\"genre_count\": 3}, {\"genre_count\": 1}, {\"genre_count\": 1}, {\"genre_count\": 3}, {\"genre_count\": 3}, {\"genre_count\": 2}, {\"genre_count\": 2}, {\"genre_count\": 2}, {\"genre_count\": 3}, {\"genre_count\": 7}, {\"genre_count\": 2}, {\"genre_count\": 2}, {\"genre_count\": 3}, {\"genre_count\": 3}, {\"genre_count\": 5}, {\"genre_count\": 2}, {\"genre_count\": 2}, {\"genre_count\": 1}, {\"genre_count\": 2}, {\"genre_count\": 1}, {\"genre_count\": 1}, {\"genre_count\": 7}, {\"genre_count\": 5}, {\"genre_count\": 1}, {\"genre_count\": 1}, {\"genre_count\": 4}, {\"genre_count\": 2}, {\"genre_count\": 2}, {\"genre_count\": 1}, {\"genre_count\": 2}, {\"genre_count\": 3}, {\"genre_count\": 5}, {\"genre_count\": 1}, {\"genre_count\": 2}, {\"genre_count\": 1}, {\"genre_count\": 3}, {\"genre_count\": 3}, {\"genre_count\": 3}, {\"genre_count\": 1}, {\"genre_count\": 2}, {\"genre_count\": 9}, {\"genre_count\": 4}, {\"genre_count\": 6}, {\"genre_count\": 2}, {\"genre_count\": 1}, {\"genre_count\": 2}, {\"genre_count\": 1}, {\"genre_count\": 1}, {\"genre_count\": 2}, {\"genre_count\": 2}, {\"genre_count\": 1}, {\"genre_count\": 6}, {\"genre_count\": 4}, {\"genre_count\": 5}, {\"genre_count\": 6}, {\"genre_count\": 4}, {\"genre_count\": 1}, {\"genre_count\": 1}, {\"genre_count\": 8}, {\"genre_count\": 2}, {\"genre_count\": 2}, {\"genre_count\": 12}, {\"genre_count\": 3}, {\"genre_count\": 1}, {\"genre_count\": 6}, {\"genre_count\": 1}, {\"genre_count\": 2}, {\"genre_count\": 1}, {\"genre_count\": 2}, {\"genre_count\": 2}, {\"genre_count\": 2}, {\"genre_count\": 4}, {\"genre_count\": 2}, {\"genre_count\": 1}, {\"genre_count\": 1}, {\"genre_count\": 2}, {\"genre_count\": 3}, {\"genre_count\": 6}, {\"genre_count\": 7}, {\"genre_count\": 1}, {\"genre_count\": 13}, {\"genre_count\": 8}, {\"genre_count\": 9}, {\"genre_count\": 3}, {\"genre_count\": 5}, {\"genre_count\": 1}, {\"genre_count\": 8}, {\"genre_count\": 14}, {\"genre_count\": 3}, {\"genre_count\": 4}, {\"genre_count\": 21}, {\"genre_count\": 2}, {\"genre_count\": 2}, {\"genre_count\": 10}, {\"genre_count\": 1}, {\"genre_count\": 2}, {\"genre_count\": 3}, {\"genre_count\": 1}, {\"genre_count\": 8}, {\"genre_count\": 4}, {\"genre_count\": 5}, {\"genre_count\": 3}, {\"genre_count\": 6}, {\"genre_count\": 2}, {\"genre_count\": 5}, {\"genre_count\": 2}, {\"genre_count\": 4}, {\"genre_count\": 7}, {\"genre_count\": 6}, {\"genre_count\": 3}, {\"genre_count\": 4}, {\"genre_count\": 1}, {\"genre_count\": 2}, {\"genre_count\": 8}, {\"genre_count\": 8}, {\"genre_count\": 8}, {\"genre_count\": 3}, {\"genre_count\": 5}, {\"genre_count\": 5}, {\"genre_count\": 2}, {\"genre_count\": 1}, {\"genre_count\": 4}, {\"genre_count\": 2}, {\"genre_count\": 2}, {\"genre_count\": 7}, {\"genre_count\": 2}, {\"genre_count\": 3}, {\"genre_count\": 11}, {\"genre_count\": 6}, {\"genre_count\": 6}, {\"genre_count\": 7}, {\"genre_count\": 7}, {\"genre_count\": 5}, {\"genre_count\": 4}, {\"genre_count\": 5}, {\"genre_count\": 1}, {\"genre_count\": 2}, {\"genre_count\": 3}, {\"genre_count\": 2}, {\"genre_count\": 4}, {\"genre_count\": 2}, {\"genre_count\": 1}, {\"genre_count\": 1}, {\"genre_count\": 2}, {\"genre_count\": 1}, {\"genre_count\": 7}, {\"genre_count\": 6}, {\"genre_count\": 2}, {\"genre_count\": 3}, {\"genre_count\": 5}, {\"genre_count\": 1}, {\"genre_count\": 5}, {\"genre_count\": 6}, {\"genre_count\": 1}, {\"genre_count\": 3}, {\"genre_count\": 8}, {\"genre_count\": 1}, {\"genre_count\": 1}, {\"genre_count\": 3}, {\"genre_count\": 1}, {\"genre_count\": 1}, {\"genre_count\": 1}, {\"genre_count\": 1}, {\"genre_count\": 1}, {\"genre_count\": 3}, {\"genre_count\": 4}, {\"genre_count\": 6}, {\"genre_count\": 2}, {\"genre_count\": 2}, {\"genre_count\": 3}, {\"genre_count\": 1}, {\"genre_count\": 5}, {\"genre_count\": 3}, {\"genre_count\": 5}, {\"genre_count\": 4}, {\"genre_count\": 2}, {\"genre_count\": 2}, {\"genre_count\": 2}, {\"genre_count\": 5}, {\"genre_count\": 6}, {\"genre_count\": 6}, {\"genre_count\": 1}, {\"genre_count\": 1}, {\"genre_count\": 1}, {\"genre_count\": 2}, {\"genre_count\": 1}, {\"genre_count\": 5}, {\"genre_count\": 2}, {\"genre_count\": 1}, {\"genre_count\": 4}, {\"genre_count\": 1}, {\"genre_count\": 5}, {\"genre_count\": 6}, {\"genre_count\": 6}, {\"genre_count\": 1}, {\"genre_count\": 1}, {\"genre_count\": 1}, {\"genre_count\": 2}, {\"genre_count\": 5}, {\"genre_count\": 2}, {\"genre_count\": 1}, {\"genre_count\": 4}, {\"genre_count\": 8}, {\"genre_count\": 4}, {\"genre_count\": 9}, {\"genre_count\": 8}, {\"genre_count\": 4}, {\"genre_count\": 8}, {\"genre_count\": 7}, {\"genre_count\": 7}, {\"genre_count\": 7}, {\"genre_count\": 10}, {\"genre_count\": 9}, {\"genre_count\": 11}, {\"genre_count\": 9}, {\"genre_count\": 12}, {\"genre_count\": 3}, {\"genre_count\": 5}, {\"genre_count\": 8}, {\"genre_count\": 3}, {\"genre_count\": 11}, {\"genre_count\": 2}, {\"genre_count\": 2}, {\"genre_count\": 2}, {\"genre_count\": 5}, {\"genre_count\": 5}, {\"genre_count\": 3}, {\"genre_count\": 1}, {\"genre_count\": 3}, {\"genre_count\": 1}, {\"genre_count\": 2}, {\"genre_count\": 1}, {\"genre_count\": 3}, {\"genre_count\": 5}, {\"genre_count\": 2}, {\"genre_count\": 3}, {\"genre_count\": 1}, {\"genre_count\": 3}, {\"genre_count\": 2}, {\"genre_count\": 3}, {\"genre_count\": 2}, {\"genre_count\": 1}, {\"genre_count\": 3}, {\"genre_count\": 3}, {\"genre_count\": 3}, {\"genre_count\": 3}, {\"genre_count\": 2}, {\"genre_count\": 5}, {\"genre_count\": 6}, {\"genre_count\": 2}, {\"genre_count\": 7}, {\"genre_count\": 6}, {\"genre_count\": 1}, {\"genre_count\": 1}, {\"genre_count\": 15}, {\"genre_count\": 11}, {\"genre_count\": 11}, {\"genre_count\": 5}, {\"genre_count\": 5}, {\"genre_count\": 10}, {\"genre_count\": 2}, {\"genre_count\": 10}, {\"genre_count\": 2}, {\"genre_count\": 2}, {\"genre_count\": 8}, {\"genre_count\": 8}, {\"genre_count\": 3}, {\"genre_count\": 5}, {\"genre_count\": 3}, {\"genre_count\": 9}, {\"genre_count\": 2}, {\"genre_count\": 1}, {\"genre_count\": 6}, {\"genre_count\": 2}, {\"genre_count\": 2}, {\"genre_count\": 2}, {\"genre_count\": 1}, {\"genre_count\": 2}, {\"genre_count\": 2}, {\"genre_count\": 9}, {\"genre_count\": 5}, {\"genre_count\": 9}, {\"genre_count\": 2}, {\"genre_count\": 4}, {\"genre_count\": 5}, {\"genre_count\": 1}, {\"genre_count\": 1}, {\"genre_count\": 4}, {\"genre_count\": 1}, {\"genre_count\": 1}, {\"genre_count\": 11}, {\"genre_count\": 1}, {\"genre_count\": 1}, {\"genre_count\": 2}, {\"genre_count\": 2}, {\"genre_count\": 2}, {\"genre_count\": 1}, {\"genre_count\": 4}, {\"genre_count\": 6}, {\"genre_count\": 4}, {\"genre_count\": 3}, {\"genre_count\": 3}, {\"genre_count\": 5}, {\"genre_count\": 3}, {\"genre_count\": 2}, {\"genre_count\": 3}, {\"genre_count\": 1}, {\"genre_count\": 1}, {\"genre_count\": 1}, {\"genre_count\": 2}, {\"genre_count\": 2}, {\"genre_count\": 1}, {\"genre_count\": 1}, {\"genre_count\": 1}, {\"genre_count\": 3}, {\"genre_count\": 3}, {\"genre_count\": 3}, {\"genre_count\": 3}, {\"genre_count\": 1}, {\"genre_count\": 3}, {\"genre_count\": 5}, {\"genre_count\": 1}, {\"genre_count\": 2}, {\"genre_count\": 4}, {\"genre_count\": 1}, {\"genre_count\": 1}, {\"genre_count\": 4}, {\"genre_count\": 1}, {\"genre_count\": 2}, {\"genre_count\": 1}, {\"genre_count\": 2}, {\"genre_count\": 1}, {\"genre_count\": 3}, {\"genre_count\": 2}, {\"genre_count\": 6}, {\"genre_count\": 3}, {\"genre_count\": 2}, {\"genre_count\": 1}, {\"genre_count\": 3}, {\"genre_count\": 3}, {\"genre_count\": 1}, {\"genre_count\": 2}, {\"genre_count\": 1}, {\"genre_count\": 2}, {\"genre_count\": 3}, {\"genre_count\": 1}, {\"genre_count\": 2}, {\"genre_count\": 1}, {\"genre_count\": 1}]}}, {\"mode\": \"vega-lite\"});\n",
       "</script>"
      ],
      "text/plain": [
       "alt.Chart(...)"
      ]
     },
     "execution_count": 15,
     "metadata": {},
     "output_type": "execute_result"
    }
   ],
   "source": [
    "#hide_input\n",
    "genre_count_per_artist = comb.drop_duplicates(['master_metadata_album_artist_name']).copy()\n",
    "tmp = genre_count_per_artist.loc[:, [str(x) for x in range(21)]].count(axis=1)\n",
    "genre_count_per_artist.loc[:, 'genre_count'] = tmp.astype(int)\n",
    "genre_count_per_artist = genre_count_per_artist[genre_count_per_artist.genre_count > 0]\n",
    "\n",
    "alt.Chart(genre_count_per_artist[['genre_count']]).mark_bar(width=13).encode(\n",
    "    alt.X('genre_count'),\n",
    "    y='count()',\n",
    "    tooltip=['genre_count', 'count()']\n",
    ").properties(title='Number of genres per artist')"
   ]
  },
  {
   "cell_type": "code",
   "execution_count": 16,
   "metadata": {},
   "outputs": [
    {
     "data": {
      "text/plain": [
       "0.028285615729561918"
      ]
     },
     "execution_count": 16,
     "metadata": {},
     "output_type": "execute_result"
    }
   ],
   "source": [
    "#hide\n",
    "genre_count_per_artist.genre_count.value_counts()[10:].sum() / len(genre_count_per_artist)"
   ]
  },
  {
   "cell_type": "markdown",
   "metadata": {},
   "source": [
    "If we take the percentage of the artists with three or less genres, we see this is 52%. This is quite high, and means many people are pretty specific with regards to what genres they fall into for Spotify. We see quite a long tail distribution, with only  **27% having more than 5 genres specified and only 2.8% more then 10 genres!**"
   ]
  },
  {
   "cell_type": "markdown",
   "metadata": {},
   "source": [
    "# In conclusion\n",
    "We have done a pretty thorough analysis of my listening history on Spotify. We evaluated the high level listening behaviour on a monthly and yearly basis. We have also seen my daily listening behaviour and how it has changed throughout the years. We also started on the analysis of the genres, which we will continue in part 2!\n",
    "\n",
    "It has been really interesting to see how my preferences with regards to music over these years, and it is definitely contributing to my 'have everything tracked' KPIs. Since all of Spotify's data is accessible through the API, I might consider making a dashboard for these insights that updates automatically.\n",
    "\n",
    "<img style=\"margin:auto;width:300px;\" width=300 src=\"images/spotify_analysis/will-smith-hmm.gif\">\n",
    "\n",
    "Unfortunately, we didn't get to see the really cool stuff in this post. Things like recreation of the last.fm image and the changes in genres over time are very interesting, and I would have loved to already be able to show those. Please check out part 2 for that. I'll add links to that here as soon as that's out. \n",
    "\n",
    "**Topics covered in part 2:**\n",
    "1. What are my top genres?\n",
    "2. Correlation between genres.\n",
    "2. How have my genres changed over time?\n",
    "3. Recreation of the Last.fm image. \n",
    "\n",
    "**Learnings**\n",
    "\n",
    "This blogpost has been a huge learning experience for me. It was my first time using Fastpages. It was my first time writing a blogpost in a jupyter notebook as well, and it was also my first time using Altair! All of those experiences were quite positive, and I especially like getting more familiar with Altair. Having a Grammar of Graphics tool in your toolbelt is an extremely valuable thing in the world of data science, although you might not use it on a daily basis. \n",
    "\n",
    "If you liked this blogpost, don't hesitate to reach out to me on [linkedin](https://www.linkedin.com/in/bauke-brenninkmeijer-40143310b) or [twitter](https://twitter.com/Bauke_B). 😊\n",
    "\n",
    "<p align=\"center\">\n",
    "\t<a href=\"https://github.com/Baukebrenninkmeijer\" style=\"display:inline-block;\"><img src=\"https://img.shields.io/github/followers/Baukebrenninkmeijer.svg?label=GitHub&style=social\" alt=\"GitHub\"></a>\n",
    "\t<a href=\"https://www.linkedin.com/in/bauke-brenninkmeijer-40143310b\" style=\"display:inline-block;\"><img src=\"https://img.shields.io/badge/LinkedIn--_.svg?style=social&logo=linkedin\" alt=\"LinkedIn\"></a>\n",
    "</p>"
   ]
  }
 ],
 "metadata": {
  "kernelspec": {
   "display_name": "Python 3",
   "language": "python",
   "name": "python3"
  },
  "language_info": {
   "codemirror_mode": {
    "name": "ipython",
    "version": 3
   },
   "file_extension": ".py",
   "mimetype": "text/x-python",
   "name": "python",
   "nbconvert_exporter": "python",
   "pygments_lexer": "ipython3",
   "version": "3.7.3"
  },
  "varInspector": {
   "cols": {
    "lenName": 16,
    "lenType": 16,
    "lenVar": 40
   },
   "kernels_config": {
    "python": {
     "delete_cmd_postfix": "",
     "delete_cmd_prefix": "del ",
     "library": "var_list.py",
     "varRefreshCmd": "print(var_dic_list())"
    },
    "r": {
     "delete_cmd_postfix": ") ",
     "delete_cmd_prefix": "rm(",
     "library": "var_list.r",
     "varRefreshCmd": "cat(var_dic_list()) "
    }
   },
   "types_to_exclude": [
    "module",
    "function",
    "builtin_function_or_method",
    "instance",
    "_Feature"
   ],
   "window_display": false
  }
 },
 "nbformat": 4,
 "nbformat_minor": 4
}
